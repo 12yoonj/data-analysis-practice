{
 "cells": [
  {
   "cell_type": "markdown",
   "metadata": {},
   "source": [
    "## Students Performance in Exams\n",
    "### 사용 데이터\n",
    "- [Students Performance in Exams](https://www.kaggle.com/datasets/spscientist/students-performance-in-exams)\n",
    "- Data Description\n",
    "  - gender\n",
    "  - race/ethnicity\n",
    "  - parental level of education\n",
    "  - lunch\n",
    "  - test preparation course\n",
    "  - math score\n",
    "  - reading score\n",
    "  - writing score"
   ]
  },
  {
   "cell_type": "code",
   "execution_count": 1,
   "metadata": {},
   "outputs": [
    {
     "name": "stdout",
     "output_type": "stream",
     "text": [
      "(1000, 8)\n"
     ]
    }
   ],
   "source": [
    "import pandas as pd\n",
    "import numpy as np\n",
    "import seaborn as sns\n",
    "import matplotlib.pyplot as plt\n",
    "%matplotlib inline\n",
    "import warnings\n",
    "warnings.filterwarnings(\"ignore\")\n",
    "\n",
    "raw_data = pd.read_csv(\"./StudentsPerformance.csv\")\n",
    "data = raw_data.copy()\n",
    "print(data.shape)"
   ]
  },
  {
   "cell_type": "code",
   "execution_count": 2,
   "metadata": {},
   "outputs": [
    {
     "data": {
      "text/plain": [
       "gender                         0\n",
       "race/ethnicity                 0\n",
       "parental level of education    0\n",
       "lunch                          0\n",
       "test preparation course        0\n",
       "math score                     0\n",
       "reading score                  0\n",
       "writing score                  0\n",
       "dtype: int64"
      ]
     },
     "execution_count": 2,
     "metadata": {},
     "output_type": "execute_result"
    }
   ],
   "source": [
    "data.isnull().sum()"
   ]
  },
  {
   "cell_type": "code",
   "execution_count": 3,
   "metadata": {},
   "outputs": [
    {
     "data": {
      "text/plain": [
       "0"
      ]
     },
     "execution_count": 3,
     "metadata": {},
     "output_type": "execute_result"
    }
   ],
   "source": [
    "data.duplicated().sum()"
   ]
  },
  {
   "cell_type": "code",
   "execution_count": 4,
   "metadata": {},
   "outputs": [
    {
     "data": {
      "text/html": [
       "<div>\n",
       "<style scoped>\n",
       "    .dataframe tbody tr th:only-of-type {\n",
       "        vertical-align: middle;\n",
       "    }\n",
       "\n",
       "    .dataframe tbody tr th {\n",
       "        vertical-align: top;\n",
       "    }\n",
       "\n",
       "    .dataframe thead th {\n",
       "        text-align: right;\n",
       "    }\n",
       "</style>\n",
       "<table border=\"1\" class=\"dataframe\">\n",
       "  <thead>\n",
       "    <tr style=\"text-align: right;\">\n",
       "      <th></th>\n",
       "      <th>gender</th>\n",
       "      <th>race/ethnicity</th>\n",
       "      <th>parental level of education</th>\n",
       "      <th>lunch</th>\n",
       "      <th>test preparation course</th>\n",
       "      <th>math score</th>\n",
       "      <th>reading score</th>\n",
       "      <th>writing score</th>\n",
       "    </tr>\n",
       "  </thead>\n",
       "  <tbody>\n",
       "    <tr>\n",
       "      <th>152</th>\n",
       "      <td>female</td>\n",
       "      <td>group B</td>\n",
       "      <td>associate's degree</td>\n",
       "      <td>standard</td>\n",
       "      <td>completed</td>\n",
       "      <td>59</td>\n",
       "      <td>70</td>\n",
       "      <td>66</td>\n",
       "    </tr>\n",
       "    <tr>\n",
       "      <th>608</th>\n",
       "      <td>female</td>\n",
       "      <td>group E</td>\n",
       "      <td>some college</td>\n",
       "      <td>standard</td>\n",
       "      <td>none</td>\n",
       "      <td>61</td>\n",
       "      <td>64</td>\n",
       "      <td>62</td>\n",
       "    </tr>\n",
       "    <tr>\n",
       "      <th>580</th>\n",
       "      <td>female</td>\n",
       "      <td>group D</td>\n",
       "      <td>some high school</td>\n",
       "      <td>standard</td>\n",
       "      <td>none</td>\n",
       "      <td>81</td>\n",
       "      <td>97</td>\n",
       "      <td>96</td>\n",
       "    </tr>\n",
       "    <tr>\n",
       "      <th>248</th>\n",
       "      <td>female</td>\n",
       "      <td>group B</td>\n",
       "      <td>high school</td>\n",
       "      <td>standard</td>\n",
       "      <td>none</td>\n",
       "      <td>65</td>\n",
       "      <td>64</td>\n",
       "      <td>62</td>\n",
       "    </tr>\n",
       "    <tr>\n",
       "      <th>507</th>\n",
       "      <td>male</td>\n",
       "      <td>group B</td>\n",
       "      <td>bachelor's degree</td>\n",
       "      <td>free/reduced</td>\n",
       "      <td>none</td>\n",
       "      <td>55</td>\n",
       "      <td>59</td>\n",
       "      <td>54</td>\n",
       "    </tr>\n",
       "    <tr>\n",
       "      <th>836</th>\n",
       "      <td>male</td>\n",
       "      <td>group E</td>\n",
       "      <td>high school</td>\n",
       "      <td>standard</td>\n",
       "      <td>none</td>\n",
       "      <td>73</td>\n",
       "      <td>64</td>\n",
       "      <td>57</td>\n",
       "    </tr>\n",
       "    <tr>\n",
       "      <th>175</th>\n",
       "      <td>female</td>\n",
       "      <td>group C</td>\n",
       "      <td>master's degree</td>\n",
       "      <td>standard</td>\n",
       "      <td>completed</td>\n",
       "      <td>81</td>\n",
       "      <td>91</td>\n",
       "      <td>87</td>\n",
       "    </tr>\n",
       "    <tr>\n",
       "      <th>982</th>\n",
       "      <td>male</td>\n",
       "      <td>group B</td>\n",
       "      <td>some high school</td>\n",
       "      <td>standard</td>\n",
       "      <td>completed</td>\n",
       "      <td>79</td>\n",
       "      <td>85</td>\n",
       "      <td>86</td>\n",
       "    </tr>\n",
       "    <tr>\n",
       "      <th>330</th>\n",
       "      <td>male</td>\n",
       "      <td>group C</td>\n",
       "      <td>high school</td>\n",
       "      <td>standard</td>\n",
       "      <td>none</td>\n",
       "      <td>71</td>\n",
       "      <td>60</td>\n",
       "      <td>61</td>\n",
       "    </tr>\n",
       "    <tr>\n",
       "      <th>241</th>\n",
       "      <td>female</td>\n",
       "      <td>group E</td>\n",
       "      <td>bachelor's degree</td>\n",
       "      <td>standard</td>\n",
       "      <td>none</td>\n",
       "      <td>80</td>\n",
       "      <td>83</td>\n",
       "      <td>83</td>\n",
       "    </tr>\n",
       "  </tbody>\n",
       "</table>\n",
       "</div>"
      ],
      "text/plain": [
       "     gender race/ethnicity parental level of education         lunch  \\\n",
       "152  female        group B          associate's degree      standard   \n",
       "608  female        group E                some college      standard   \n",
       "580  female        group D            some high school      standard   \n",
       "248  female        group B                 high school      standard   \n",
       "507    male        group B           bachelor's degree  free/reduced   \n",
       "836    male        group E                 high school      standard   \n",
       "175  female        group C             master's degree      standard   \n",
       "982    male        group B            some high school      standard   \n",
       "330    male        group C                 high school      standard   \n",
       "241  female        group E           bachelor's degree      standard   \n",
       "\n",
       "    test preparation course  math score  reading score  writing score  \n",
       "152               completed          59             70             66  \n",
       "608                    none          61             64             62  \n",
       "580                    none          81             97             96  \n",
       "248                    none          65             64             62  \n",
       "507                    none          55             59             54  \n",
       "836                    none          73             64             57  \n",
       "175               completed          81             91             87  \n",
       "982               completed          79             85             86  \n",
       "330                    none          71             60             61  \n",
       "241                    none          80             83             83  "
      ]
     },
     "execution_count": 4,
     "metadata": {},
     "output_type": "execute_result"
    }
   ],
   "source": [
    "# data.sample(10)\n",
    "data.sample(frac=0.01)"
   ]
  },
  {
   "cell_type": "code",
   "execution_count": 5,
   "metadata": {},
   "outputs": [
    {
     "name": "stdout",
     "output_type": "stream",
     "text": [
      "<class 'pandas.core.frame.DataFrame'>\n",
      "RangeIndex: 1000 entries, 0 to 999\n",
      "Data columns (total 8 columns):\n",
      " #   Column                       Non-Null Count  Dtype \n",
      "---  ------                       --------------  ----- \n",
      " 0   gender                       1000 non-null   object\n",
      " 1   race/ethnicity               1000 non-null   object\n",
      " 2   parental level of education  1000 non-null   object\n",
      " 3   lunch                        1000 non-null   object\n",
      " 4   test preparation course      1000 non-null   object\n",
      " 5   math score                   1000 non-null   int64 \n",
      " 6   reading score                1000 non-null   int64 \n",
      " 7   writing score                1000 non-null   int64 \n",
      "dtypes: int64(3), object(5)\n",
      "memory usage: 62.6+ KB\n"
     ]
    }
   ],
   "source": [
    "# data.columns\n",
    "data.info()"
   ]
  },
  {
   "cell_type": "code",
   "execution_count": 6,
   "metadata": {},
   "outputs": [
    {
     "name": "stdout",
     "output_type": "stream",
     "text": [
      "gender: ['female' 'male']\n",
      "race/ethnicity: ['group B' 'group C' 'group A' 'group D' 'group E']\n",
      "parental level of education: [\"bachelor's degree\" 'some college' \"master's degree\" \"associate's degree\"\n",
      " 'high school' 'some high school']\n",
      "lunch: ['standard' 'free/reduced']\n",
      "test preparation course: ['none' 'completed']\n",
      "math score: [ 72  69  90  47  76  71  88  40  64  38  58  65  78  50  18  46  54  66\n",
      "  44  74  73  67  70  62  63  56  97  81  75  57  55  53  59  82  77  33\n",
      "  52   0  79  39  45  60  61  41  49  30  80  42  27  43  68  85  98  87\n",
      "  51  99  84  91  83  89  22 100  96  94  48  35  34  86  92  37  28  24\n",
      "  26  95  36  29  32  93  19  23   8]\n",
      "reading score: [ 72  90  95  57  78  83  43  64  60  54  52  81  53  75  89  32  42  58\n",
      "  69  73  71  74  70  65  87  56  61  84  55  44  41  85  59  17  39  80\n",
      "  37  63  51  49  26  68  45  47  86  34  79  66  67  91 100  76  77  82\n",
      "  92  93  62  88  50  28  48  46  23  38  94  97  99  31  96  24  29  40]\n",
      "writing score: [ 74  88  93  44  75  78  92  39  67  50  52  43  73  70  58  86  28  46\n",
      "  61  63  53  80  72  55  65  38  82  79  83  59  57  54  68  66  62  76\n",
      "  48  42  87  49  10  34  71  37  56  41  22  81  45  36  89  47  90 100\n",
      "  64  98  51  40  84  69  33  60  85  91  77  27  94  95  19  35  32  96\n",
      "  97  99  15  30  23]\n"
     ]
    }
   ],
   "source": [
    "for i in range(data.shape[1]):\n",
    "  print(f'{data.columns[i]}: {data.loc[:,data.columns[i]].unique()}')"
   ]
  },
  {
   "cell_type": "markdown",
   "metadata": {},
   "source": [
    "### 과목별 비교"
   ]
  },
  {
   "cell_type": "code",
   "execution_count": 7,
   "metadata": {},
   "outputs": [
    {
     "data": {
      "text/plain": [
       "<AxesSubplot:>"
      ]
     },
     "execution_count": 7,
     "metadata": {},
     "output_type": "execute_result"
    },
    {
     "data": {
      "image/png": "[encoded data removed]",
      "text/plain": [
       "<Figure size 360x504 with 1 Axes>"
      ]
     },
     "metadata": {
      "needs_background": "light"
     },
     "output_type": "display_data"
    }
   ],
   "source": [
    "fig, ax = plt.subplots(figsize = (5,7))\n",
    "sns.set_theme(style=\"whitegrid\")\n",
    "sns.boxplot(data=data, orient=\"y\", palette=\"Set2\")"
   ]
  },
  {
   "cell_type": "code",
   "execution_count": 8,
   "metadata": {},
   "outputs": [
    {
     "data": {
      "text/plain": [
       "math score       20.00\n",
       "reading score    20.00\n",
       "writing score    21.25\n",
       "dtype: float64"
      ]
     },
     "execution_count": 8,
     "metadata": {},
     "output_type": "execute_result"
    }
   ],
   "source": [
    "q3 = data.quantile(0.75)\n",
    "q1 = data.quantile(0.25)\n",
    "\n",
    "iqr = q3 - q1\n",
    "iqr"
   ]
  },
  {
   "cell_type": "code",
   "execution_count": 9,
   "metadata": {},
   "outputs": [],
   "source": [
    "def is_outlier(column_name):\n",
    "  iqr_range = 1.5\n",
    "  outlier_detection = lambda x: True if x > q3[column_name] + iqr_range*iqr[column_name] or \\\n",
    "    x < q1[column_name] - iqr_range*iqr[column_name] else False\n",
    "  return data[column_name].apply(outlier_detection)\n",
    "\n",
    "math_check = is_outlier('math score')\n",
    "reading_check = is_outlier('reading score')\n",
    "writing_check = is_outlier('writing score')\n"
   ]
  },
  {
   "cell_type": "code",
   "execution_count": 10,
   "metadata": {},
   "outputs": [
    {
     "data": {
      "text/plain": [
       "(1000, 3)"
      ]
     },
     "execution_count": 10,
     "metadata": {},
     "output_type": "execute_result"
    }
   ],
   "source": [
    "total_check = np.concatenate([[math_check], [reading_check], [writing_check]], axis=0)\n",
    "total_check = total_check.T\n",
    "total_check.shape"
   ]
  },
  {
   "cell_type": "code",
   "execution_count": 11,
   "metadata": {},
   "outputs": [
    {
     "data": {
      "text/html": [
       "<div>\n",
       "<style scoped>\n",
       "    .dataframe tbody tr th:only-of-type {\n",
       "        vertical-align: middle;\n",
       "    }\n",
       "\n",
       "    .dataframe tbody tr th {\n",
       "        vertical-align: top;\n",
       "    }\n",
       "\n",
       "    .dataframe thead th {\n",
       "        text-align: right;\n",
       "    }\n",
       "</style>\n",
       "<table border=\"1\" class=\"dataframe\">\n",
       "  <thead>\n",
       "    <tr style=\"text-align: right;\">\n",
       "      <th></th>\n",
       "      <th>gender</th>\n",
       "      <th>race/ethnicity</th>\n",
       "      <th>parental level of education</th>\n",
       "      <th>lunch</th>\n",
       "      <th>test preparation course</th>\n",
       "      <th>math score</th>\n",
       "      <th>reading score</th>\n",
       "      <th>writing score</th>\n",
       "    </tr>\n",
       "  </thead>\n",
       "  <tbody>\n",
       "    <tr>\n",
       "      <th>17</th>\n",
       "      <td>female</td>\n",
       "      <td>group B</td>\n",
       "      <td>some high school</td>\n",
       "      <td>free/reduced</td>\n",
       "      <td>none</td>\n",
       "      <td>18</td>\n",
       "      <td>32</td>\n",
       "      <td>28</td>\n",
       "    </tr>\n",
       "    <tr>\n",
       "      <th>59</th>\n",
       "      <td>female</td>\n",
       "      <td>group C</td>\n",
       "      <td>some high school</td>\n",
       "      <td>free/reduced</td>\n",
       "      <td>none</td>\n",
       "      <td>0</td>\n",
       "      <td>17</td>\n",
       "      <td>10</td>\n",
       "    </tr>\n",
       "    <tr>\n",
       "      <th>76</th>\n",
       "      <td>male</td>\n",
       "      <td>group E</td>\n",
       "      <td>some high school</td>\n",
       "      <td>standard</td>\n",
       "      <td>none</td>\n",
       "      <td>30</td>\n",
       "      <td>26</td>\n",
       "      <td>22</td>\n",
       "    </tr>\n",
       "    <tr>\n",
       "      <th>145</th>\n",
       "      <td>female</td>\n",
       "      <td>group C</td>\n",
       "      <td>some college</td>\n",
       "      <td>free/reduced</td>\n",
       "      <td>none</td>\n",
       "      <td>22</td>\n",
       "      <td>39</td>\n",
       "      <td>33</td>\n",
       "    </tr>\n",
       "    <tr>\n",
       "      <th>211</th>\n",
       "      <td>male</td>\n",
       "      <td>group C</td>\n",
       "      <td>some college</td>\n",
       "      <td>free/reduced</td>\n",
       "      <td>none</td>\n",
       "      <td>35</td>\n",
       "      <td>28</td>\n",
       "      <td>27</td>\n",
       "    </tr>\n",
       "    <tr>\n",
       "      <th>327</th>\n",
       "      <td>male</td>\n",
       "      <td>group A</td>\n",
       "      <td>some college</td>\n",
       "      <td>free/reduced</td>\n",
       "      <td>none</td>\n",
       "      <td>28</td>\n",
       "      <td>23</td>\n",
       "      <td>19</td>\n",
       "    </tr>\n",
       "    <tr>\n",
       "      <th>338</th>\n",
       "      <td>female</td>\n",
       "      <td>group B</td>\n",
       "      <td>some high school</td>\n",
       "      <td>free/reduced</td>\n",
       "      <td>none</td>\n",
       "      <td>24</td>\n",
       "      <td>38</td>\n",
       "      <td>27</td>\n",
       "    </tr>\n",
       "    <tr>\n",
       "      <th>466</th>\n",
       "      <td>female</td>\n",
       "      <td>group D</td>\n",
       "      <td>associate's degree</td>\n",
       "      <td>free/reduced</td>\n",
       "      <td>none</td>\n",
       "      <td>26</td>\n",
       "      <td>31</td>\n",
       "      <td>38</td>\n",
       "    </tr>\n",
       "    <tr>\n",
       "      <th>596</th>\n",
       "      <td>male</td>\n",
       "      <td>group B</td>\n",
       "      <td>high school</td>\n",
       "      <td>free/reduced</td>\n",
       "      <td>none</td>\n",
       "      <td>30</td>\n",
       "      <td>24</td>\n",
       "      <td>15</td>\n",
       "    </tr>\n",
       "    <tr>\n",
       "      <th>787</th>\n",
       "      <td>female</td>\n",
       "      <td>group B</td>\n",
       "      <td>some college</td>\n",
       "      <td>standard</td>\n",
       "      <td>none</td>\n",
       "      <td>19</td>\n",
       "      <td>38</td>\n",
       "      <td>32</td>\n",
       "    </tr>\n",
       "    <tr>\n",
       "      <th>842</th>\n",
       "      <td>female</td>\n",
       "      <td>group B</td>\n",
       "      <td>high school</td>\n",
       "      <td>free/reduced</td>\n",
       "      <td>completed</td>\n",
       "      <td>23</td>\n",
       "      <td>44</td>\n",
       "      <td>36</td>\n",
       "    </tr>\n",
       "    <tr>\n",
       "      <th>980</th>\n",
       "      <td>female</td>\n",
       "      <td>group B</td>\n",
       "      <td>high school</td>\n",
       "      <td>free/reduced</td>\n",
       "      <td>none</td>\n",
       "      <td>8</td>\n",
       "      <td>24</td>\n",
       "      <td>23</td>\n",
       "    </tr>\n",
       "  </tbody>\n",
       "</table>\n",
       "</div>"
      ],
      "text/plain": [
       "     gender race/ethnicity parental level of education         lunch  \\\n",
       "17   female        group B            some high school  free/reduced   \n",
       "59   female        group C            some high school  free/reduced   \n",
       "76     male        group E            some high school      standard   \n",
       "145  female        group C                some college  free/reduced   \n",
       "211    male        group C                some college  free/reduced   \n",
       "327    male        group A                some college  free/reduced   \n",
       "338  female        group B            some high school  free/reduced   \n",
       "466  female        group D          associate's degree  free/reduced   \n",
       "596    male        group B                 high school  free/reduced   \n",
       "787  female        group B                some college      standard   \n",
       "842  female        group B                 high school  free/reduced   \n",
       "980  female        group B                 high school  free/reduced   \n",
       "\n",
       "    test preparation course  math score  reading score  writing score  \n",
       "17                     none          18             32             28  \n",
       "59                     none           0             17             10  \n",
       "76                     none          30             26             22  \n",
       "145                    none          22             39             33  \n",
       "211                    none          35             28             27  \n",
       "327                    none          28             23             19  \n",
       "338                    none          24             38             27  \n",
       "466                    none          26             31             38  \n",
       "596                    none          30             24             15  \n",
       "787                    none          19             38             32  \n",
       "842               completed          23             44             36  \n",
       "980                    none           8             24             23  "
      ]
     },
     "execution_count": 11,
     "metadata": {},
     "output_type": "execute_result"
    }
   ],
   "source": [
    "# 아웃라이어 데이터 체크\n",
    "data.loc[map(lambda x : True if x.any() else False, total_check)]"
   ]
  },
  {
   "cell_type": "code",
   "execution_count": 12,
   "metadata": {},
   "outputs": [
    {
     "data": {
      "text/html": [
       "<div>\n",
       "<style scoped>\n",
       "    .dataframe tbody tr th:only-of-type {\n",
       "        vertical-align: middle;\n",
       "    }\n",
       "\n",
       "    .dataframe tbody tr th {\n",
       "        vertical-align: top;\n",
       "    }\n",
       "\n",
       "    .dataframe thead th {\n",
       "        text-align: right;\n",
       "    }\n",
       "</style>\n",
       "<table border=\"1\" class=\"dataframe\">\n",
       "  <thead>\n",
       "    <tr style=\"text-align: right;\">\n",
       "      <th></th>\n",
       "      <th>gender</th>\n",
       "      <th>race/ethnicity</th>\n",
       "      <th>parental level of education</th>\n",
       "      <th>lunch</th>\n",
       "      <th>test preparation course</th>\n",
       "      <th>math score</th>\n",
       "      <th>reading score</th>\n",
       "      <th>writing score</th>\n",
       "    </tr>\n",
       "  </thead>\n",
       "  <tbody>\n",
       "    <tr>\n",
       "      <th>0</th>\n",
       "      <td>female</td>\n",
       "      <td>group B</td>\n",
       "      <td>bachelor's degree</td>\n",
       "      <td>standard</td>\n",
       "      <td>none</td>\n",
       "      <td>72</td>\n",
       "      <td>72</td>\n",
       "      <td>74</td>\n",
       "    </tr>\n",
       "    <tr>\n",
       "      <th>1</th>\n",
       "      <td>female</td>\n",
       "      <td>group C</td>\n",
       "      <td>some college</td>\n",
       "      <td>standard</td>\n",
       "      <td>completed</td>\n",
       "      <td>69</td>\n",
       "      <td>90</td>\n",
       "      <td>88</td>\n",
       "    </tr>\n",
       "    <tr>\n",
       "      <th>2</th>\n",
       "      <td>female</td>\n",
       "      <td>group B</td>\n",
       "      <td>master's degree</td>\n",
       "      <td>standard</td>\n",
       "      <td>none</td>\n",
       "      <td>90</td>\n",
       "      <td>95</td>\n",
       "      <td>93</td>\n",
       "    </tr>\n",
       "    <tr>\n",
       "      <th>3</th>\n",
       "      <td>male</td>\n",
       "      <td>group A</td>\n",
       "      <td>associate's degree</td>\n",
       "      <td>free/reduced</td>\n",
       "      <td>none</td>\n",
       "      <td>47</td>\n",
       "      <td>57</td>\n",
       "      <td>44</td>\n",
       "    </tr>\n",
       "    <tr>\n",
       "      <th>4</th>\n",
       "      <td>male</td>\n",
       "      <td>group C</td>\n",
       "      <td>some college</td>\n",
       "      <td>standard</td>\n",
       "      <td>none</td>\n",
       "      <td>76</td>\n",
       "      <td>78</td>\n",
       "      <td>75</td>\n",
       "    </tr>\n",
       "    <tr>\n",
       "      <th>...</th>\n",
       "      <td>...</td>\n",
       "      <td>...</td>\n",
       "      <td>...</td>\n",
       "      <td>...</td>\n",
       "      <td>...</td>\n",
       "      <td>...</td>\n",
       "      <td>...</td>\n",
       "      <td>...</td>\n",
       "    </tr>\n",
       "    <tr>\n",
       "      <th>983</th>\n",
       "      <td>female</td>\n",
       "      <td>group E</td>\n",
       "      <td>master's degree</td>\n",
       "      <td>standard</td>\n",
       "      <td>completed</td>\n",
       "      <td>88</td>\n",
       "      <td>99</td>\n",
       "      <td>95</td>\n",
       "    </tr>\n",
       "    <tr>\n",
       "      <th>984</th>\n",
       "      <td>male</td>\n",
       "      <td>group C</td>\n",
       "      <td>high school</td>\n",
       "      <td>free/reduced</td>\n",
       "      <td>none</td>\n",
       "      <td>62</td>\n",
       "      <td>55</td>\n",
       "      <td>55</td>\n",
       "    </tr>\n",
       "    <tr>\n",
       "      <th>985</th>\n",
       "      <td>female</td>\n",
       "      <td>group C</td>\n",
       "      <td>high school</td>\n",
       "      <td>free/reduced</td>\n",
       "      <td>completed</td>\n",
       "      <td>59</td>\n",
       "      <td>71</td>\n",
       "      <td>65</td>\n",
       "    </tr>\n",
       "    <tr>\n",
       "      <th>986</th>\n",
       "      <td>female</td>\n",
       "      <td>group D</td>\n",
       "      <td>some college</td>\n",
       "      <td>standard</td>\n",
       "      <td>completed</td>\n",
       "      <td>68</td>\n",
       "      <td>78</td>\n",
       "      <td>77</td>\n",
       "    </tr>\n",
       "    <tr>\n",
       "      <th>987</th>\n",
       "      <td>female</td>\n",
       "      <td>group D</td>\n",
       "      <td>some college</td>\n",
       "      <td>free/reduced</td>\n",
       "      <td>none</td>\n",
       "      <td>77</td>\n",
       "      <td>86</td>\n",
       "      <td>86</td>\n",
       "    </tr>\n",
       "  </tbody>\n",
       "</table>\n",
       "<p>988 rows × 8 columns</p>\n",
       "</div>"
      ],
      "text/plain": [
       "     gender race/ethnicity parental level of education         lunch  \\\n",
       "0    female        group B           bachelor's degree      standard   \n",
       "1    female        group C                some college      standard   \n",
       "2    female        group B             master's degree      standard   \n",
       "3      male        group A          associate's degree  free/reduced   \n",
       "4      male        group C                some college      standard   \n",
       "..      ...            ...                         ...           ...   \n",
       "983  female        group E             master's degree      standard   \n",
       "984    male        group C                 high school  free/reduced   \n",
       "985  female        group C                 high school  free/reduced   \n",
       "986  female        group D                some college      standard   \n",
       "987  female        group D                some college  free/reduced   \n",
       "\n",
       "    test preparation course  math score  reading score  writing score  \n",
       "0                      none          72             72             74  \n",
       "1                 completed          69             90             88  \n",
       "2                      none          90             95             93  \n",
       "3                      none          47             57             44  \n",
       "4                      none          76             78             75  \n",
       "..                      ...         ...            ...            ...  \n",
       "983               completed          88             99             95  \n",
       "984                    none          62             55             55  \n",
       "985               completed          59             71             65  \n",
       "986               completed          68             78             77  \n",
       "987                    none          77             86             86  \n",
       "\n",
       "[988 rows x 8 columns]"
      ]
     },
     "execution_count": 12,
     "metadata": {},
     "output_type": "execute_result"
    }
   ],
   "source": [
    "data_trim = data.loc[map(lambda x : True if not x.any() else False, total_check)]\n",
    "data_trim.reset_index(drop=True, inplace=True)\n",
    "data_trim"
   ]
  },
  {
   "cell_type": "code",
   "execution_count": 13,
   "metadata": {},
   "outputs": [
    {
     "data": {
      "text/html": [
       "<div>\n",
       "<style scoped>\n",
       "    .dataframe tbody tr th:only-of-type {\n",
       "        vertical-align: middle;\n",
       "    }\n",
       "\n",
       "    .dataframe tbody tr th {\n",
       "        vertical-align: top;\n",
       "    }\n",
       "\n",
       "    .dataframe thead th {\n",
       "        text-align: right;\n",
       "    }\n",
       "</style>\n",
       "<table border=\"1\" class=\"dataframe\">\n",
       "  <thead>\n",
       "    <tr style=\"text-align: right;\">\n",
       "      <th></th>\n",
       "      <th>math score</th>\n",
       "      <th>reading score</th>\n",
       "      <th>writing score</th>\n",
       "    </tr>\n",
       "  </thead>\n",
       "  <tbody>\n",
       "    <tr>\n",
       "      <th>count</th>\n",
       "      <td>988.000000</td>\n",
       "      <td>988.000000</td>\n",
       "      <td>988.000000</td>\n",
       "    </tr>\n",
       "    <tr>\n",
       "      <th>mean</th>\n",
       "      <td>66.625506</td>\n",
       "      <td>69.640688</td>\n",
       "      <td>68.566802</td>\n",
       "    </tr>\n",
       "    <tr>\n",
       "      <th>std</th>\n",
       "      <td>14.409394</td>\n",
       "      <td>14.016760</td>\n",
       "      <td>14.525267</td>\n",
       "    </tr>\n",
       "    <tr>\n",
       "      <th>min</th>\n",
       "      <td>27.000000</td>\n",
       "      <td>29.000000</td>\n",
       "      <td>27.000000</td>\n",
       "    </tr>\n",
       "    <tr>\n",
       "      <th>25%</th>\n",
       "      <td>57.000000</td>\n",
       "      <td>60.000000</td>\n",
       "      <td>58.000000</td>\n",
       "    </tr>\n",
       "    <tr>\n",
       "      <th>50%</th>\n",
       "      <td>66.000000</td>\n",
       "      <td>70.000000</td>\n",
       "      <td>69.000000</td>\n",
       "    </tr>\n",
       "    <tr>\n",
       "      <th>75%</th>\n",
       "      <td>77.000000</td>\n",
       "      <td>80.000000</td>\n",
       "      <td>79.000000</td>\n",
       "    </tr>\n",
       "    <tr>\n",
       "      <th>max</th>\n",
       "      <td>100.000000</td>\n",
       "      <td>100.000000</td>\n",
       "      <td>100.000000</td>\n",
       "    </tr>\n",
       "  </tbody>\n",
       "</table>\n",
       "</div>"
      ],
      "text/plain": [
       "       math score  reading score  writing score\n",
       "count  988.000000     988.000000     988.000000\n",
       "mean    66.625506      69.640688      68.566802\n",
       "std     14.409394      14.016760      14.525267\n",
       "min     27.000000      29.000000      27.000000\n",
       "25%     57.000000      60.000000      58.000000\n",
       "50%     66.000000      70.000000      69.000000\n",
       "75%     77.000000      80.000000      79.000000\n",
       "max    100.000000     100.000000     100.000000"
      ]
     },
     "execution_count": 13,
     "metadata": {},
     "output_type": "execute_result"
    }
   ],
   "source": [
    "data_trim.describe()"
   ]
  },
  {
   "cell_type": "code",
   "execution_count": 14,
   "metadata": {},
   "outputs": [
    {
     "data": {
      "text/plain": [
       "Index(['math score', 'reading score', 'writing score'], dtype='object')"
      ]
     },
     "execution_count": 14,
     "metadata": {},
     "output_type": "execute_result"
    }
   ],
   "source": [
    "subject_name = data_trim.columns[-3:]\n",
    "subject_name"
   ]
  },
  {
   "cell_type": "code",
   "execution_count": 363,
   "metadata": {},
   "outputs": [
    {
     "data": {
      "image/png": "[encoded data removed]",
      "text/plain": [
       "<Figure size 1440x360 with 3 Axes>"
      ]
     },
     "metadata": {},
     "output_type": "display_data"
    }
   ],
   "source": [
    "fig, ax = plt.subplots(nrows=1, ncols=3, figsize=(20,5))\n",
    "for i in range(len(subject_name)):\n",
    "  sns.histplot(data=data_trim, x=subject_name[i], stat = \"probability\", kde=True, ax=ax[i])"
   ]
  },
  {
   "cell_type": "code",
   "execution_count": 16,
   "metadata": {},
   "outputs": [
    {
     "data": {
      "image/png": "[encoded data removed]",
      "text/plain": [
       "<Figure size 432x288 with 1 Axes>"
      ]
     },
     "metadata": {},
     "output_type": "display_data"
    }
   ],
   "source": [
    "from scipy import stats\n",
    "subject_name = data_trim.columns[-3:]\n",
    "\n",
    "for i in range(len(subject_name)):\n",
    "  sub = subject_name[i]\n",
    "  data_trim_mean = np.mean(data_trim[sub])  \n",
    "  data_trim_std = np.std(data_trim[sub])  \n",
    "  cv1_pdf = stats.norm.pdf(data_trim[sub].sort_values(), loc=data_trim_mean, scale=data_trim_std)\n",
    "  plt.plot(data_trim[sub].sort_values(), cv1_pdf, label=sub)\n",
    "  plt.legend()"
   ]
  },
  {
   "cell_type": "code",
   "execution_count": 17,
   "metadata": {},
   "outputs": [
    {
     "data": {
      "text/plain": [
       "LeveneResult(statistic=1.0546845877222482, pvalue=0.3045564692359549)"
      ]
     },
     "execution_count": 17,
     "metadata": {},
     "output_type": "execute_result"
    }
   ],
   "source": [
    "stats.levene(data_trim['reading score'], data_trim['writing score'])"
   ]
  },
  {
   "cell_type": "code",
   "execution_count": 18,
   "metadata": {},
   "outputs": [
    {
     "data": {
      "text/plain": [
       "Ttest_relResult(statistic=7.480374154343835, pvalue=1.6357011784200183e-13)"
      ]
     },
     "execution_count": 18,
     "metadata": {},
     "output_type": "execute_result"
    }
   ],
   "source": [
    "stats.ttest_rel(data_trim['reading score'], data_trim['writing score'])"
   ]
  },
  {
   "cell_type": "markdown",
   "metadata": {},
   "source": [
    "paired t-test를 해보았을 때, 읽기 점수와 쓰기 점수 간에 차이가 있다고 한다.  \n",
    "그래프를 보았을 때는 없어보인다. 정규성 검정을 하지 않아서 생기는 문제일 수도 있다."
   ]
  },
  {
   "cell_type": "code",
   "execution_count": 19,
   "metadata": {},
   "outputs": [
    {
     "name": "stdout",
     "output_type": "stream",
     "text": [
      "reading \n",
      " statistic: 0.9943972229957581 \n",
      " p-value 0.0009765107533894479\n",
      "writing \n",
      " statistic: 0.9930988550186157 \n",
      " p-value 0.00015123761841095984\n"
     ]
    }
   ],
   "source": [
    "# 0.05 보다 작으면 정규성 만족 X\n",
    "print('reading \\n statistic: {result[0]} \\n p-value {result[1]}'.format(result = stats.shapiro(data_trim['reading score'])))\n",
    "print('writing \\n statistic: {result[0]} \\n p-value {result[1]}'.format(result = stats.shapiro(data_trim['writing score'])))"
   ]
  },
  {
   "cell_type": "code",
   "execution_count": 20,
   "metadata": {},
   "outputs": [
    {
     "data": {
      "text/plain": [
       "MannwhitneyuResult(statistic=507293.0, pvalue=0.12952348679091782)"
      ]
     },
     "execution_count": 20,
     "metadata": {},
     "output_type": "execute_result"
    }
   ],
   "source": [
    "# 정규성 가정을 만족하지 않으므로 Mann–Whitney U test로 재분석한다.\n",
    "stats.mannwhitneyu(data_trim['reading score'], data_trim['writing score'])"
   ]
  },
  {
   "cell_type": "markdown",
   "metadata": {},
   "source": [
    "읽기 점수와 쓰기 점수 간 유의미한 차이는 관찰되지 않는다.   \n",
    "이번에는 점수들 간의 상관관계를 살펴보자."
   ]
  },
  {
   "cell_type": "code",
   "execution_count": 21,
   "metadata": {},
   "outputs": [
    {
     "data": {
      "text/plain": [
       "<AxesSubplot:xlabel='reading score', ylabel='writing score'>"
      ]
     },
     "execution_count": 21,
     "metadata": {},
     "output_type": "execute_result"
    },
    {
     "data": {
      "image/png": "[encoded data removed]",
      "text/plain": [
       "<Figure size 1440x360 with 3 Axes>"
      ]
     },
     "metadata": {},
     "output_type": "display_data"
    }
   ],
   "source": [
    "sns.set_style(\"darkgrid\")\n",
    "fig, ax = plt.subplots(nrows=1, ncols=3, figsize=(20,5))\n",
    "sns.scatterplot(data=data_trim, x='math score', y='reading score', color='#B69FEE', alpha=0.5, ax=ax[0])\n",
    "sns.scatterplot(data=data_trim, x='math score', y='writing score', color='#B69FEE', alpha=0.5, ax=ax[1])\n",
    "sns.scatterplot(data=data_trim, x='reading score', y='writing score', color='#B69FEE', alpha=0.5, ax=ax[2])"
   ]
  },
  {
   "cell_type": "code",
   "execution_count": 22,
   "metadata": {},
   "outputs": [
    {
     "data": {
      "text/html": [
       "<div>\n",
       "<style scoped>\n",
       "    .dataframe tbody tr th:only-of-type {\n",
       "        vertical-align: middle;\n",
       "    }\n",
       "\n",
       "    .dataframe tbody tr th {\n",
       "        vertical-align: top;\n",
       "    }\n",
       "\n",
       "    .dataframe thead th {\n",
       "        text-align: right;\n",
       "    }\n",
       "</style>\n",
       "<table border=\"1\" class=\"dataframe\">\n",
       "  <thead>\n",
       "    <tr style=\"text-align: right;\">\n",
       "      <th></th>\n",
       "      <th>math score</th>\n",
       "      <th>reading score</th>\n",
       "      <th>writing score</th>\n",
       "    </tr>\n",
       "  </thead>\n",
       "  <tbody>\n",
       "    <tr>\n",
       "      <th>math score</th>\n",
       "      <td>1.000000</td>\n",
       "      <td>0.801405</td>\n",
       "      <td>0.783349</td>\n",
       "    </tr>\n",
       "    <tr>\n",
       "      <th>reading score</th>\n",
       "      <td>0.801405</td>\n",
       "      <td>1.000000</td>\n",
       "      <td>0.950629</td>\n",
       "    </tr>\n",
       "    <tr>\n",
       "      <th>writing score</th>\n",
       "      <td>0.783349</td>\n",
       "      <td>0.950629</td>\n",
       "      <td>1.000000</td>\n",
       "    </tr>\n",
       "  </tbody>\n",
       "</table>\n",
       "</div>"
      ],
      "text/plain": [
       "               math score  reading score  writing score\n",
       "math score       1.000000       0.801405       0.783349\n",
       "reading score    0.801405       1.000000       0.950629\n",
       "writing score    0.783349       0.950629       1.000000"
      ]
     },
     "execution_count": 22,
     "metadata": {},
     "output_type": "execute_result"
    }
   ],
   "source": [
    "data_trim.corr(method='pearson')"
   ]
  },
  {
   "cell_type": "markdown",
   "metadata": {},
   "source": [
    "세 과목 간의 상관이 높다.   \n",
    "하나를 잘하면 다른 과목도 잘하는 경향이 있는 것으로 보인다.   \n",
    "이와 관련하여 부모 학력이 미치는 영향을 추후 알아보고자 한다."
   ]
  },
  {
   "cell_type": "code",
   "execution_count": 23,
   "metadata": {},
   "outputs": [
    {
     "name": "stdout",
     "output_type": "stream",
     "text": [
      "math-reading \n",
      " statistic: 0.3186777263345346 \n",
      " p-value 0.5724675059839113\n",
      "math-writing \n",
      " statistic: 0.20258250633372804 \n",
      " p-value 0.6526937696261298\n"
     ]
    }
   ],
   "source": [
    "# levene test\n",
    "print('math-reading \\n statistic: {result[0]} \\n p-value {result[1]}'.format(result = stats.levene(data_trim['math score'], data_trim['reading score'])))\n",
    "print('math-writing \\n statistic: {result[0]} \\n p-value {result[1]}'.format(result = stats.levene(data_trim['math score'], data_trim['writing score'])))"
   ]
  },
  {
   "cell_type": "code",
   "execution_count": 24,
   "metadata": {},
   "outputs": [
    {
     "name": "stdout",
     "output_type": "stream",
     "text": [
      "math \n",
      " statistic: 0.9960000514984131 \n",
      " p-value 0.011811562813818455\n"
     ]
    }
   ],
   "source": [
    "# math score - shapiro-wilk test\n",
    "print('math \\n statistic: {result[0]} \\n p-value {result[1]}'.format(result = stats.shapiro(data_trim['math score'])))"
   ]
  },
  {
   "cell_type": "code",
   "execution_count": 25,
   "metadata": {},
   "outputs": [
    {
     "name": "stdout",
     "output_type": "stream",
     "text": [
      "math-reading \n",
      " statistic: 429692.0 \n",
      " p-value 2.0667982392432928e-06\n",
      "math-writing \n",
      " statistic: 449346.5 \n",
      " p-value 0.0011278084602097279\n"
     ]
    }
   ],
   "source": [
    "# Mann–Whitney U test\n",
    "print('math-reading \\n statistic: {result[0]} \\n p-value {result[1]}'.format(result = stats.mannwhitneyu(data_trim['math score'], data_trim['reading score'], alternative='less')))\n",
    "print('math-writing \\n statistic: {result[0]} \\n p-value {result[1]}'.format(result = stats.mannwhitneyu(data_trim['math score'], data_trim['writing score'], alternative='less')))"
   ]
  },
  {
   "cell_type": "markdown",
   "metadata": {},
   "source": [
    "그래도 수학 과목을 다른 두 과목보다 어려워하는 경향이 있는 것 같다.   \n",
    "일반적으로 수학/읽기는 성별에 따라 달라질 수 있다고 하므로 성별에 따른 추가분석도 해보고자 한다."
   ]
  },
  {
   "cell_type": "markdown",
   "metadata": {},
   "source": [
    "---"
   ]
  },
  {
   "cell_type": "markdown",
   "metadata": {},
   "source": [
    "### 부모 학력과의 관계"
   ]
  },
  {
   "cell_type": "code",
   "execution_count": 321,
   "metadata": {},
   "outputs": [
    {
     "data": {
      "text/plain": [
       "some college          226\n",
       "associate's degree    222\n",
       "high school           196\n",
       "some high school      179\n",
       "bachelor's degree     118\n",
       "master's degree        59\n",
       "Name: parental level of education, dtype: int64"
      ]
     },
     "execution_count": 321,
     "metadata": {},
     "output_type": "execute_result"
    }
   ],
   "source": [
    "var_of_interest = 'parental level of education'\n",
    "education_level = data[var_of_interest].unique()\n",
    "data[var_of_interest].value_counts()"
   ]
  },
  {
   "cell_type": "code",
   "execution_count": 322,
   "metadata": {},
   "outputs": [
    {
     "data": {
      "text/html": [
       "<div>\n",
       "<style scoped>\n",
       "    .dataframe tbody tr th:only-of-type {\n",
       "        vertical-align: middle;\n",
       "    }\n",
       "\n",
       "    .dataframe tbody tr th {\n",
       "        vertical-align: top;\n",
       "    }\n",
       "\n",
       "    .dataframe thead th {\n",
       "        text-align: right;\n",
       "    }\n",
       "</style>\n",
       "<table border=\"1\" class=\"dataframe\">\n",
       "  <thead>\n",
       "    <tr style=\"text-align: right;\">\n",
       "      <th></th>\n",
       "      <th>math score</th>\n",
       "      <th>reading score</th>\n",
       "      <th>writing score</th>\n",
       "    </tr>\n",
       "    <tr>\n",
       "      <th>parental level of education</th>\n",
       "      <th></th>\n",
       "      <th></th>\n",
       "      <th></th>\n",
       "    </tr>\n",
       "  </thead>\n",
       "  <tbody>\n",
       "    <tr>\n",
       "      <th>associate's degree</th>\n",
       "      <td>23.00</td>\n",
       "      <td>20.00</td>\n",
       "      <td>22.0</td>\n",
       "    </tr>\n",
       "    <tr>\n",
       "      <th>bachelor's degree</th>\n",
       "      <td>18.00</td>\n",
       "      <td>19.75</td>\n",
       "      <td>20.5</td>\n",
       "    </tr>\n",
       "    <tr>\n",
       "      <th>high school</th>\n",
       "      <td>18.25</td>\n",
       "      <td>20.25</td>\n",
       "      <td>21.0</td>\n",
       "    </tr>\n",
       "    <tr>\n",
       "      <th>master's degree</th>\n",
       "      <td>25.50</td>\n",
       "      <td>19.00</td>\n",
       "      <td>18.0</td>\n",
       "    </tr>\n",
       "    <tr>\n",
       "      <th>some college</th>\n",
       "      <td>17.00</td>\n",
       "      <td>19.75</td>\n",
       "      <td>19.0</td>\n",
       "    </tr>\n",
       "    <tr>\n",
       "      <th>some high school</th>\n",
       "      <td>21.00</td>\n",
       "      <td>22.50</td>\n",
       "      <td>23.0</td>\n",
       "    </tr>\n",
       "  </tbody>\n",
       "</table>\n",
       "</div>"
      ],
      "text/plain": [
       "                             math score  reading score  writing score\n",
       "parental level of education                                          \n",
       "associate's degree                23.00          20.00           22.0\n",
       "bachelor's degree                 18.00          19.75           20.5\n",
       "high school                       18.25          20.25           21.0\n",
       "master's degree                   25.50          19.00           18.0\n",
       "some college                      17.00          19.75           19.0\n",
       "some high school                  21.00          22.50           23.0"
      ]
     },
     "execution_count": 322,
     "metadata": {},
     "output_type": "execute_result"
    }
   ],
   "source": [
    "q3 = data.groupby([var_of_interest]).quantile(0.75)\n",
    "q1 = data.groupby([var_of_interest]).quantile(0.25)\n",
    "\n",
    "iqr = q3 - q1\n",
    "iqr"
   ]
  },
  {
   "cell_type": "code",
   "execution_count": 323,
   "metadata": {},
   "outputs": [
    {
     "data": {
      "text/plain": [
       "(957, 8)"
      ]
     },
     "execution_count": 323,
     "metadata": {},
     "output_type": "execute_result"
    }
   ],
   "source": [
    "data_trim2 = data.copy()\n",
    "\n",
    "def is_outlier(education_level):\n",
    "  iqr_range = 1.5\n",
    "\n",
    "  for i in range(len(subject_name)):\n",
    "    column_name = subject_name[i]\n",
    "    outlier_detection = lambda x: True if x > q3[column_name][education_level] + iqr_range*iqr[column_name][education_level] or \\\n",
    "      x < q1[column_name][education_level] - iqr_range*iqr[column_name][education_level] else False\n",
    "\n",
    "    outlier_check = data[column_name].apply(outlier_detection)\n",
    "    data_trim2.drop(data_trim2[outlier_check].index, axis = 0, inplace=True)\n",
    "\n",
    "  return data_trim2\n",
    "\n",
    "for i in range(len(education_level)):\n",
    "  is_outlier(education_level[i])\n",
    "\n",
    "data_trim2.shape"
   ]
  },
  {
   "cell_type": "code",
   "execution_count": 372,
   "metadata": {},
   "outputs": [
    {
     "data": {
      "text/plain": [
       "<AxesSubplot:xlabel='parental level of education', ylabel='math score'>"
      ]
     },
     "execution_count": 372,
     "metadata": {},
     "output_type": "execute_result"
    },
    {
     "data": {
      "image/png": "[encoded data removed]",
      "text/plain": [
       "<Figure size 1440x360 with 1 Axes>"
      ]
     },
     "metadata": {},
     "output_type": "display_data"
    }
   ],
   "source": [
    "fig, ax = plt.subplots(figsize = (20,5))\n",
    "sns.boxplot(x=var_of_interest, y=\"math score\", data=data_trim2, showmeans=True, meanprops={\"markerfacecolor\":\"white\"})"
   ]
  },
  {
   "cell_type": "code",
   "execution_count": 375,
   "metadata": {},
   "outputs": [
    {
     "data": {
      "text/plain": [
       "<AxesSubplot:xlabel='parental level of education', ylabel='reading score'>"
      ]
     },
     "execution_count": 375,
     "metadata": {},
     "output_type": "execute_result"
    },
    {
     "data": {
      "image/png": "[encoded data removed]",
      "text/plain": [
       "<Figure size 1440x360 with 1 Axes>"
      ]
     },
     "metadata": {},
     "output_type": "display_data"
    }
   ],
   "source": [
    "fig, ax = plt.subplots(figsize = (20,5))\n",
    "sns.boxplot(x=var_of_interest, y=\"reading score\", data=data_trim2, showmeans=True, meanprops={\"markerfacecolor\":\"white\"})"
   ]
  },
  {
   "cell_type": "code",
   "execution_count": 376,
   "metadata": {},
   "outputs": [
    {
     "data": {
      "text/plain": [
       "<AxesSubplot:xlabel='parental level of education', ylabel='writing score'>"
      ]
     },
     "execution_count": 376,
     "metadata": {},
     "output_type": "execute_result"
    },
    {
     "data": {
      "image/png": "[encoded data removed]",
      "text/plain": [
       "<Figure size 1440x360 with 1 Axes>"
      ]
     },
     "metadata": {},
     "output_type": "display_data"
    }
   ],
   "source": [
    "fig, ax = plt.subplots(figsize = (20,5))\n",
    "sns.boxplot(x=var_of_interest, y=\"writing score\", data=data_trim2, showmeans=True, meanprops={\"markerfacecolor\":\"white\"})"
   ]
  },
  {
   "cell_type": "code",
   "execution_count": 327,
   "metadata": {},
   "outputs": [
    {
     "data": {
      "text/html": [
       "<div>\n",
       "<style scoped>\n",
       "    .dataframe tbody tr th:only-of-type {\n",
       "        vertical-align: middle;\n",
       "    }\n",
       "\n",
       "    .dataframe tbody tr th {\n",
       "        vertical-align: top;\n",
       "    }\n",
       "\n",
       "    .dataframe thead th {\n",
       "        text-align: right;\n",
       "    }\n",
       "</style>\n",
       "<table border=\"1\" class=\"dataframe\">\n",
       "  <thead>\n",
       "    <tr style=\"text-align: right;\">\n",
       "      <th></th>\n",
       "      <th>parental level of education</th>\n",
       "      <th>associate's degree</th>\n",
       "      <th>bachelor's degree</th>\n",
       "      <th>high school</th>\n",
       "      <th>master's degree</th>\n",
       "      <th>some college</th>\n",
       "      <th>some high school</th>\n",
       "    </tr>\n",
       "  </thead>\n",
       "  <tbody>\n",
       "    <tr>\n",
       "      <th rowspan=\"8\" valign=\"top\">math score</th>\n",
       "      <th>count</th>\n",
       "      <td>217.000000</td>\n",
       "      <td>113.000000</td>\n",
       "      <td>186.000000</td>\n",
       "      <td>59.000000</td>\n",
       "      <td>214.000000</td>\n",
       "      <td>168.000000</td>\n",
       "    </tr>\n",
       "    <tr>\n",
       "      <th>mean</th>\n",
       "      <td>67.986175</td>\n",
       "      <td>69.761062</td>\n",
       "      <td>63.822581</td>\n",
       "      <td>69.745763</td>\n",
       "      <td>68.042056</td>\n",
       "      <td>65.708333</td>\n",
       "    </tr>\n",
       "    <tr>\n",
       "      <th>std</th>\n",
       "      <td>14.536824</td>\n",
       "      <td>13.573395</td>\n",
       "      <td>12.708190</td>\n",
       "      <td>15.153915</td>\n",
       "      <td>12.289280</td>\n",
       "      <td>13.391549</td>\n",
       "    </tr>\n",
       "    <tr>\n",
       "      <th>min</th>\n",
       "      <td>37.000000</td>\n",
       "      <td>37.000000</td>\n",
       "      <td>34.000000</td>\n",
       "      <td>40.000000</td>\n",
       "      <td>35.000000</td>\n",
       "      <td>35.000000</td>\n",
       "    </tr>\n",
       "    <tr>\n",
       "      <th>25%</th>\n",
       "      <td>57.000000</td>\n",
       "      <td>62.000000</td>\n",
       "      <td>56.000000</td>\n",
       "      <td>55.500000</td>\n",
       "      <td>59.000000</td>\n",
       "      <td>56.750000</td>\n",
       "    </tr>\n",
       "    <tr>\n",
       "      <th>50%</th>\n",
       "      <td>67.000000</td>\n",
       "      <td>68.000000</td>\n",
       "      <td>64.000000</td>\n",
       "      <td>73.000000</td>\n",
       "      <td>68.000000</td>\n",
       "      <td>65.500000</td>\n",
       "    </tr>\n",
       "    <tr>\n",
       "      <th>75%</th>\n",
       "      <td>80.000000</td>\n",
       "      <td>79.000000</td>\n",
       "      <td>72.000000</td>\n",
       "      <td>81.000000</td>\n",
       "      <td>76.000000</td>\n",
       "      <td>75.000000</td>\n",
       "    </tr>\n",
       "    <tr>\n",
       "      <th>max</th>\n",
       "      <td>98.000000</td>\n",
       "      <td>99.000000</td>\n",
       "      <td>99.000000</td>\n",
       "      <td>95.000000</td>\n",
       "      <td>99.000000</td>\n",
       "      <td>97.000000</td>\n",
       "    </tr>\n",
       "    <tr>\n",
       "      <th rowspan=\"8\" valign=\"top\">reading score</th>\n",
       "      <th>count</th>\n",
       "      <td>217.000000</td>\n",
       "      <td>113.000000</td>\n",
       "      <td>186.000000</td>\n",
       "      <td>59.000000</td>\n",
       "      <td>214.000000</td>\n",
       "      <td>168.000000</td>\n",
       "    </tr>\n",
       "    <tr>\n",
       "      <th>mean</th>\n",
       "      <td>71.138249</td>\n",
       "      <td>73.327434</td>\n",
       "      <td>66.354839</td>\n",
       "      <td>75.372881</td>\n",
       "      <td>70.481308</td>\n",
       "      <td>69.065476</td>\n",
       "    </tr>\n",
       "    <tr>\n",
       "      <th>std</th>\n",
       "      <td>13.117675</td>\n",
       "      <td>13.241198</td>\n",
       "      <td>12.416767</td>\n",
       "      <td>13.775163</td>\n",
       "      <td>12.301652</td>\n",
       "      <td>13.300822</td>\n",
       "    </tr>\n",
       "    <tr>\n",
       "      <th>min</th>\n",
       "      <td>42.000000</td>\n",
       "      <td>42.000000</td>\n",
       "      <td>41.000000</td>\n",
       "      <td>42.000000</td>\n",
       "      <td>41.000000</td>\n",
       "      <td>37.000000</td>\n",
       "    </tr>\n",
       "    <tr>\n",
       "      <th>25%</th>\n",
       "      <td>61.000000</td>\n",
       "      <td>63.000000</td>\n",
       "      <td>56.000000</td>\n",
       "      <td>65.500000</td>\n",
       "      <td>61.000000</td>\n",
       "      <td>59.000000</td>\n",
       "    </tr>\n",
       "    <tr>\n",
       "      <th>50%</th>\n",
       "      <td>73.000000</td>\n",
       "      <td>73.000000</td>\n",
       "      <td>67.000000</td>\n",
       "      <td>76.000000</td>\n",
       "      <td>71.000000</td>\n",
       "      <td>68.500000</td>\n",
       "    </tr>\n",
       "    <tr>\n",
       "      <th>75%</th>\n",
       "      <td>81.000000</td>\n",
       "      <td>82.000000</td>\n",
       "      <td>75.000000</td>\n",
       "      <td>84.500000</td>\n",
       "      <td>79.750000</td>\n",
       "      <td>79.250000</td>\n",
       "    </tr>\n",
       "    <tr>\n",
       "      <th>max</th>\n",
       "      <td>100.000000</td>\n",
       "      <td>100.000000</td>\n",
       "      <td>99.000000</td>\n",
       "      <td>100.000000</td>\n",
       "      <td>100.000000</td>\n",
       "      <td>100.000000</td>\n",
       "    </tr>\n",
       "    <tr>\n",
       "      <th rowspan=\"8\" valign=\"top\">writing score</th>\n",
       "      <th>count</th>\n",
       "      <td>217.000000</td>\n",
       "      <td>113.000000</td>\n",
       "      <td>186.000000</td>\n",
       "      <td>59.000000</td>\n",
       "      <td>214.000000</td>\n",
       "      <td>168.000000</td>\n",
       "    </tr>\n",
       "    <tr>\n",
       "      <th>mean</th>\n",
       "      <td>70.105991</td>\n",
       "      <td>73.769912</td>\n",
       "      <td>64.091398</td>\n",
       "      <td>75.677966</td>\n",
       "      <td>70.018692</td>\n",
       "      <td>67.041667</td>\n",
       "    </tr>\n",
       "    <tr>\n",
       "      <th>std</th>\n",
       "      <td>13.703298</td>\n",
       "      <td>13.610007</td>\n",
       "      <td>12.354110</td>\n",
       "      <td>13.730711</td>\n",
       "      <td>13.033709</td>\n",
       "      <td>13.493558</td>\n",
       "    </tr>\n",
       "    <tr>\n",
       "      <th>min</th>\n",
       "      <td>40.000000</td>\n",
       "      <td>44.000000</td>\n",
       "      <td>40.000000</td>\n",
       "      <td>46.000000</td>\n",
       "      <td>41.000000</td>\n",
       "      <td>40.000000</td>\n",
       "    </tr>\n",
       "    <tr>\n",
       "      <th>25%</th>\n",
       "      <td>59.000000</td>\n",
       "      <td>64.000000</td>\n",
       "      <td>54.000000</td>\n",
       "      <td>67.000000</td>\n",
       "      <td>61.000000</td>\n",
       "      <td>56.000000</td>\n",
       "    </tr>\n",
       "    <tr>\n",
       "      <th>50%</th>\n",
       "      <td>71.000000</td>\n",
       "      <td>74.000000</td>\n",
       "      <td>65.000000</td>\n",
       "      <td>75.000000</td>\n",
       "      <td>70.000000</td>\n",
       "      <td>68.000000</td>\n",
       "    </tr>\n",
       "    <tr>\n",
       "      <th>75%</th>\n",
       "      <td>80.000000</td>\n",
       "      <td>83.000000</td>\n",
       "      <td>73.000000</td>\n",
       "      <td>85.000000</td>\n",
       "      <td>79.000000</td>\n",
       "      <td>78.000000</td>\n",
       "    </tr>\n",
       "    <tr>\n",
       "      <th>max</th>\n",
       "      <td>99.000000</td>\n",
       "      <td>100.000000</td>\n",
       "      <td>100.000000</td>\n",
       "      <td>100.000000</td>\n",
       "      <td>99.000000</td>\n",
       "      <td>100.000000</td>\n",
       "    </tr>\n",
       "  </tbody>\n",
       "</table>\n",
       "</div>"
      ],
      "text/plain": [
       "parental level of education  associate's degree  bachelor's degree  \\\n",
       "math score    count                  217.000000         113.000000   \n",
       "              mean                    67.986175          69.761062   \n",
       "              std                     14.536824          13.573395   \n",
       "              min                     37.000000          37.000000   \n",
       "              25%                     57.000000          62.000000   \n",
       "              50%                     67.000000          68.000000   \n",
       "              75%                     80.000000          79.000000   \n",
       "              max                     98.000000          99.000000   \n",
       "reading score count                  217.000000         113.000000   \n",
       "              mean                    71.138249          73.327434   \n",
       "              std                     13.117675          13.241198   \n",
       "              min                     42.000000          42.000000   \n",
       "              25%                     61.000000          63.000000   \n",
       "              50%                     73.000000          73.000000   \n",
       "              75%                     81.000000          82.000000   \n",
       "              max                    100.000000         100.000000   \n",
       "writing score count                  217.000000         113.000000   \n",
       "              mean                    70.105991          73.769912   \n",
       "              std                     13.703298          13.610007   \n",
       "              min                     40.000000          44.000000   \n",
       "              25%                     59.000000          64.000000   \n",
       "              50%                     71.000000          74.000000   \n",
       "              75%                     80.000000          83.000000   \n",
       "              max                     99.000000         100.000000   \n",
       "\n",
       "parental level of education  high school  master's degree  some college  \\\n",
       "math score    count           186.000000        59.000000    214.000000   \n",
       "              mean             63.822581        69.745763     68.042056   \n",
       "              std              12.708190        15.153915     12.289280   \n",
       "              min              34.000000        40.000000     35.000000   \n",
       "              25%              56.000000        55.500000     59.000000   \n",
       "              50%              64.000000        73.000000     68.000000   \n",
       "              75%              72.000000        81.000000     76.000000   \n",
       "              max              99.000000        95.000000     99.000000   \n",
       "reading score count           186.000000        59.000000    214.000000   \n",
       "              mean             66.354839        75.372881     70.481308   \n",
       "              std              12.416767        13.775163     12.301652   \n",
       "              min              41.000000        42.000000     41.000000   \n",
       "              25%              56.000000        65.500000     61.000000   \n",
       "              50%              67.000000        76.000000     71.000000   \n",
       "              75%              75.000000        84.500000     79.750000   \n",
       "              max              99.000000       100.000000    100.000000   \n",
       "writing score count           186.000000        59.000000    214.000000   \n",
       "              mean             64.091398        75.677966     70.018692   \n",
       "              std              12.354110        13.730711     13.033709   \n",
       "              min              40.000000        46.000000     41.000000   \n",
       "              25%              54.000000        67.000000     61.000000   \n",
       "              50%              65.000000        75.000000     70.000000   \n",
       "              75%              73.000000        85.000000     79.000000   \n",
       "              max             100.000000       100.000000     99.000000   \n",
       "\n",
       "parental level of education  some high school  \n",
       "math score    count                168.000000  \n",
       "              mean                  65.708333  \n",
       "              std                   13.391549  \n",
       "              min                   35.000000  \n",
       "              25%                   56.750000  \n",
       "              50%                   65.500000  \n",
       "              75%                   75.000000  \n",
       "              max                   97.000000  \n",
       "reading score count                168.000000  \n",
       "              mean                  69.065476  \n",
       "              std                   13.300822  \n",
       "              min                   37.000000  \n",
       "              25%                   59.000000  \n",
       "              50%                   68.500000  \n",
       "              75%                   79.250000  \n",
       "              max                  100.000000  \n",
       "writing score count                168.000000  \n",
       "              mean                  67.041667  \n",
       "              std                   13.493558  \n",
       "              min                   40.000000  \n",
       "              25%                   56.000000  \n",
       "              50%                   68.000000  \n",
       "              75%                   78.000000  \n",
       "              max                  100.000000  "
      ]
     },
     "execution_count": 327,
     "metadata": {},
     "output_type": "execute_result"
    }
   ],
   "source": [
    "data_trim2.groupby([var_of_interest]).describe().T"
   ]
  },
  {
   "cell_type": "code",
   "execution_count": 328,
   "metadata": {},
   "outputs": [
    {
     "data": {
      "text/html": [
       "<div>\n",
       "<style scoped>\n",
       "    .dataframe tbody tr th:only-of-type {\n",
       "        vertical-align: middle;\n",
       "    }\n",
       "\n",
       "    .dataframe tbody tr th {\n",
       "        vertical-align: top;\n",
       "    }\n",
       "\n",
       "    .dataframe thead th {\n",
       "        text-align: right;\n",
       "    }\n",
       "</style>\n",
       "<table border=\"1\" class=\"dataframe\">\n",
       "  <thead>\n",
       "    <tr style=\"text-align: right;\">\n",
       "      <th></th>\n",
       "      <th>gender</th>\n",
       "      <th>race/ethnicity</th>\n",
       "      <th>parental level of education</th>\n",
       "      <th>lunch</th>\n",
       "      <th>test preparation course</th>\n",
       "      <th>math score</th>\n",
       "      <th>reading score</th>\n",
       "      <th>writing score</th>\n",
       "      <th>avg score</th>\n",
       "    </tr>\n",
       "  </thead>\n",
       "  <tbody>\n",
       "    <tr>\n",
       "      <th>0</th>\n",
       "      <td>female</td>\n",
       "      <td>group B</td>\n",
       "      <td>bachelor's degree</td>\n",
       "      <td>standard</td>\n",
       "      <td>none</td>\n",
       "      <td>72</td>\n",
       "      <td>72</td>\n",
       "      <td>74</td>\n",
       "      <td>72.666667</td>\n",
       "    </tr>\n",
       "    <tr>\n",
       "      <th>1</th>\n",
       "      <td>female</td>\n",
       "      <td>group C</td>\n",
       "      <td>some college</td>\n",
       "      <td>standard</td>\n",
       "      <td>completed</td>\n",
       "      <td>69</td>\n",
       "      <td>90</td>\n",
       "      <td>88</td>\n",
       "      <td>82.333333</td>\n",
       "    </tr>\n",
       "    <tr>\n",
       "      <th>2</th>\n",
       "      <td>female</td>\n",
       "      <td>group B</td>\n",
       "      <td>master's degree</td>\n",
       "      <td>standard</td>\n",
       "      <td>none</td>\n",
       "      <td>90</td>\n",
       "      <td>95</td>\n",
       "      <td>93</td>\n",
       "      <td>92.666667</td>\n",
       "    </tr>\n",
       "    <tr>\n",
       "      <th>3</th>\n",
       "      <td>male</td>\n",
       "      <td>group A</td>\n",
       "      <td>associate's degree</td>\n",
       "      <td>free/reduced</td>\n",
       "      <td>none</td>\n",
       "      <td>47</td>\n",
       "      <td>57</td>\n",
       "      <td>44</td>\n",
       "      <td>49.333333</td>\n",
       "    </tr>\n",
       "    <tr>\n",
       "      <th>4</th>\n",
       "      <td>male</td>\n",
       "      <td>group C</td>\n",
       "      <td>some college</td>\n",
       "      <td>standard</td>\n",
       "      <td>none</td>\n",
       "      <td>76</td>\n",
       "      <td>78</td>\n",
       "      <td>75</td>\n",
       "      <td>76.333333</td>\n",
       "    </tr>\n",
       "  </tbody>\n",
       "</table>\n",
       "</div>"
      ],
      "text/plain": [
       "   gender race/ethnicity parental level of education         lunch  \\\n",
       "0  female        group B           bachelor's degree      standard   \n",
       "1  female        group C                some college      standard   \n",
       "2  female        group B             master's degree      standard   \n",
       "3    male        group A          associate's degree  free/reduced   \n",
       "4    male        group C                some college      standard   \n",
       "\n",
       "  test preparation course  math score  reading score  writing score  avg score  \n",
       "0                    none          72             72             74  72.666667  \n",
       "1               completed          69             90             88  82.333333  \n",
       "2                    none          90             95             93  92.666667  \n",
       "3                    none          47             57             44  49.333333  \n",
       "4                    none          76             78             75  76.333333  "
      ]
     },
     "execution_count": 328,
     "metadata": {},
     "output_type": "execute_result"
    }
   ],
   "source": [
    "data_trim2['avg score'] = (data_trim2['math score'] + data_trim2['reading score'] + data_trim2['writing score'])/3\n",
    "data_trim2.head()"
   ]
  },
  {
   "cell_type": "code",
   "execution_count": 329,
   "metadata": {},
   "outputs": [
    {
     "data": {
      "text/html": [
       "<div>\n",
       "<style scoped>\n",
       "    .dataframe tbody tr th:only-of-type {\n",
       "        vertical-align: middle;\n",
       "    }\n",
       "\n",
       "    .dataframe tbody tr th {\n",
       "        vertical-align: top;\n",
       "    }\n",
       "\n",
       "    .dataframe thead th {\n",
       "        text-align: right;\n",
       "    }\n",
       "</style>\n",
       "<table border=\"1\" class=\"dataframe\">\n",
       "  <thead>\n",
       "    <tr style=\"text-align: right;\">\n",
       "      <th></th>\n",
       "      <th>count</th>\n",
       "      <th>mean</th>\n",
       "      <th>std</th>\n",
       "      <th>min</th>\n",
       "      <th>25%</th>\n",
       "      <th>50%</th>\n",
       "      <th>75%</th>\n",
       "      <th>max</th>\n",
       "    </tr>\n",
       "    <tr>\n",
       "      <th>parental level of education</th>\n",
       "      <th></th>\n",
       "      <th></th>\n",
       "      <th></th>\n",
       "      <th></th>\n",
       "      <th></th>\n",
       "      <th></th>\n",
       "      <th></th>\n",
       "      <th></th>\n",
       "    </tr>\n",
       "  </thead>\n",
       "  <tbody>\n",
       "    <tr>\n",
       "      <th>associate's degree</th>\n",
       "      <td>217.0</td>\n",
       "      <td>69.743472</td>\n",
       "      <td>12.987618</td>\n",
       "      <td>43.333333</td>\n",
       "      <td>59.000000</td>\n",
       "      <td>69.666667</td>\n",
       "      <td>79.000000</td>\n",
       "      <td>97.000000</td>\n",
       "    </tr>\n",
       "    <tr>\n",
       "      <th>bachelor's degree</th>\n",
       "      <td>113.0</td>\n",
       "      <td>72.286136</td>\n",
       "      <td>12.685205</td>\n",
       "      <td>46.666667</td>\n",
       "      <td>64.333333</td>\n",
       "      <td>71.333333</td>\n",
       "      <td>80.666667</td>\n",
       "      <td>99.666667</td>\n",
       "    </tr>\n",
       "    <tr>\n",
       "      <th>high school</th>\n",
       "      <td>186.0</td>\n",
       "      <td>64.756272</td>\n",
       "      <td>11.648314</td>\n",
       "      <td>41.000000</td>\n",
       "      <td>54.750000</td>\n",
       "      <td>65.666667</td>\n",
       "      <td>72.916667</td>\n",
       "      <td>95.666667</td>\n",
       "    </tr>\n",
       "    <tr>\n",
       "      <th>master's degree</th>\n",
       "      <td>59.0</td>\n",
       "      <td>73.598870</td>\n",
       "      <td>13.601017</td>\n",
       "      <td>44.666667</td>\n",
       "      <td>63.166667</td>\n",
       "      <td>73.333333</td>\n",
       "      <td>85.500000</td>\n",
       "      <td>97.666667</td>\n",
       "    </tr>\n",
       "    <tr>\n",
       "      <th>some college</th>\n",
       "      <td>214.0</td>\n",
       "      <td>69.514019</td>\n",
       "      <td>11.672212</td>\n",
       "      <td>40.666667</td>\n",
       "      <td>60.750000</td>\n",
       "      <td>69.333333</td>\n",
       "      <td>78.000000</td>\n",
       "      <td>99.000000</td>\n",
       "    </tr>\n",
       "    <tr>\n",
       "      <th>some high school</th>\n",
       "      <td>168.0</td>\n",
       "      <td>67.271825</td>\n",
       "      <td>12.542285</td>\n",
       "      <td>41.333333</td>\n",
       "      <td>57.666667</td>\n",
       "      <td>68.000000</td>\n",
       "      <td>77.000000</td>\n",
       "      <td>99.000000</td>\n",
       "    </tr>\n",
       "  </tbody>\n",
       "</table>\n",
       "</div>"
      ],
      "text/plain": [
       "                             count       mean        std        min  \\\n",
       "parental level of education                                           \n",
       "associate's degree           217.0  69.743472  12.987618  43.333333   \n",
       "bachelor's degree            113.0  72.286136  12.685205  46.666667   \n",
       "high school                  186.0  64.756272  11.648314  41.000000   \n",
       "master's degree               59.0  73.598870  13.601017  44.666667   \n",
       "some college                 214.0  69.514019  11.672212  40.666667   \n",
       "some high school             168.0  67.271825  12.542285  41.333333   \n",
       "\n",
       "                                   25%        50%        75%        max  \n",
       "parental level of education                                              \n",
       "associate's degree           59.000000  69.666667  79.000000  97.000000  \n",
       "bachelor's degree            64.333333  71.333333  80.666667  99.666667  \n",
       "high school                  54.750000  65.666667  72.916667  95.666667  \n",
       "master's degree              63.166667  73.333333  85.500000  97.666667  \n",
       "some college                 60.750000  69.333333  78.000000  99.000000  \n",
       "some high school             57.666667  68.000000  77.000000  99.000000  "
      ]
     },
     "execution_count": 329,
     "metadata": {},
     "output_type": "execute_result"
    }
   ],
   "source": [
    "data_trim2.groupby([var_of_interest])['avg score'].describe()"
   ]
  },
  {
   "cell_type": "code",
   "execution_count": 377,
   "metadata": {},
   "outputs": [
    {
     "data": {
      "text/plain": [
       "<AxesSubplot:xlabel='parental level of education', ylabel='avg score'>"
      ]
     },
     "execution_count": 377,
     "metadata": {},
     "output_type": "execute_result"
    },
    {
     "data": {
      "image/png": "[encoded data removed]",
      "text/plain": [
       "<Figure size 1440x504 with 1 Axes>"
      ]
     },
     "metadata": {},
     "output_type": "display_data"
    }
   ],
   "source": [
    "fig, ax = plt.subplots(figsize = (20,7))\n",
    "sns.boxplot(x=var_of_interest, y=\"avg score\", data=data_trim2, showmeans=True, meanprops={\"markerfacecolor\":\"white\"})"
   ]
  },
  {
   "cell_type": "code",
   "execution_count": 331,
   "metadata": {},
   "outputs": [
    {
     "data": {
      "text/plain": [
       "LeveneResult(statistic=1.2543576266916117, pvalue=0.2816403124228428)"
      ]
     },
     "execution_count": 331,
     "metadata": {},
     "output_type": "execute_result"
    }
   ],
   "source": [
    "stats.levene(data_trim2['avg score'][data_trim2[var_of_interest] == education_level[0]],\n",
    "      data_trim2['avg score'][data_trim2[var_of_interest] == education_level[1]],\n",
    "      data_trim2['avg score'][data_trim2[var_of_interest] == education_level[2]],\n",
    "      data_trim2['avg score'][data_trim2[var_of_interest] == education_level[3]],\n",
    "      data_trim2['avg score'][data_trim2[var_of_interest] == education_level[4]],\n",
    "      data_trim2['avg score'][data_trim2[var_of_interest] == education_level[5]])"
   ]
  },
  {
   "cell_type": "code",
   "execution_count": 332,
   "metadata": {},
   "outputs": [
    {
     "name": "stdout",
     "output_type": "stream",
     "text": [
      "bachelor's degree \n",
      " statistic: 0.9853048324584961 \n",
      " p-value 0.254457026720047\n",
      "some college \n",
      " statistic: 0.9905035495758057 \n",
      " p-value 0.1734883040189743\n",
      "master's degree \n",
      " statistic: 0.9737408757209778 \n",
      " p-value 0.230475053191185\n",
      "associate's degree \n",
      " statistic: 0.9812613725662231 \n",
      " p-value 0.005550941918045282\n",
      "high school \n",
      " statistic: 0.9861021041870117 \n",
      " p-value 0.06338229030370712\n",
      "some high school \n",
      " statistic: 0.9833583831787109 \n",
      " p-value 0.04189272224903107\n"
     ]
    }
   ],
   "source": [
    "for i in range(len(education_level)):\n",
    "  print('{var} \\n statistic: {result[0]} \\n p-value {result[1]}'.format(var=education_level[i], result = stats.shapiro(data_trim2['avg score'][data_trim2[var_of_interest] == education_level[i]])))"
   ]
  },
  {
   "cell_type": "markdown",
   "metadata": {},
   "source": [
    "shapiro 검정을 만족하지 못하는 요인도 있지만, 중심극한정리에 의해 만족한다고 가정하고 분산분석을 하고자 한다."
   ]
  },
  {
   "cell_type": "code",
   "execution_count": 378,
   "metadata": {},
   "outputs": [
    {
     "data": {
      "text/plain": [
       "F_onewayResult(statistic=8.449732116850281, pvalue=7.781958047233906e-08)"
      ]
     },
     "execution_count": 378,
     "metadata": {},
     "output_type": "execute_result"
    }
   ],
   "source": [
    "stats.f_oneway(data_trim2['avg score'][data_trim2[var_of_interest] == education_level[0]],\n",
    "      data_trim2['avg score'][data_trim2[var_of_interest] == education_level[1]],\n",
    "      data_trim2['avg score'][data_trim2[var_of_interest] == education_level[2]],\n",
    "      data_trim2['avg score'][data_trim2[var_of_interest] == education_level[3]],\n",
    "      data_trim2['avg score'][data_trim2[var_of_interest] == education_level[4]],\n",
    "      data_trim2['avg score'][data_trim2[var_of_interest] == education_level[5]])"
   ]
  },
  {
   "cell_type": "code",
   "execution_count": 379,
   "metadata": {},
   "outputs": [
    {
     "name": "stdout",
     "output_type": "stream",
     "text": [
      "Test Multiple Comparison ttest_ind \n",
      "FWER=0.05 method=bonf\n",
      "alphacSidak=0.00, alphacBonf=0.003\n",
      "====================================================================\n",
      "      group1             group2        stat   pval  pval_corr reject\n",
      "--------------------------------------------------------------------\n",
      "associate's degree bachelor's degree  -1.701 0.0899       1.0  False\n",
      "associate's degree       high school   4.029 0.0001     0.001   True\n",
      "associate's degree   master's degree -2.0014 0.0463     0.695  False\n",
      "associate's degree      some college  0.1928 0.8472       1.0  False\n",
      "associate's degree  some high school  1.8797 0.0609    0.9136  False\n",
      " bachelor's degree       high school  5.2392    0.0       0.0   True\n",
      " bachelor's degree   master's degree -0.6284 0.5306       1.0  False\n",
      " bachelor's degree      some college  1.9815 0.0484    0.7257  False\n",
      " bachelor's degree  some high school   3.271 0.0012    0.0181   True\n",
      "       high school   master's degree -4.8737    0.0       0.0   True\n",
      "       high school      some college   -4.07 0.0001    0.0009   True\n",
      "       high school  some high school -1.9564 0.0512    0.7682  False\n",
      "   master's degree      some college  2.2938 0.0226    0.3385  False\n",
      "   master's degree  some high school  3.2603 0.0013    0.0193   True\n",
      "      some college  some high school  1.8033 0.0721       1.0  False\n",
      "--------------------------------------------------------------------\n"
     ]
    }
   ],
   "source": [
    "from statsmodels.sandbox.stats.multicomp import MultiComparison\n",
    "\n",
    "comp = MultiComparison(data_trim2['avg score'], data_trim2[var_of_interest])\n",
    "result = comp.allpairtest(stats.ttest_ind, method='bonf')\n",
    "print(result[0])"
   ]
  },
  {
   "cell_type": "markdown",
   "metadata": {},
   "source": [
    "대체로 부모 학력이 대학교 이상일 때 자녀의 점수가 더 높은 것으로 보인다."
   ]
  },
  {
   "cell_type": "code",
   "execution_count": 380,
   "metadata": {},
   "outputs": [
    {
     "data": {
      "text/plain": [
       "parental level of education  test preparation course\n",
       "associate's degree           completed                  0.373272\n",
       "                             none                       0.626728\n",
       "bachelor's degree            completed                  0.389381\n",
       "                             none                       0.610619\n",
       "high school                  completed                  0.295699\n",
       "                             none                       0.704301\n",
       "master's degree              completed                  0.338983\n",
       "                             none                       0.661017\n",
       "some college                 completed                  0.350467\n",
       "                             none                       0.649533\n",
       "some high school             completed                  0.446429\n",
       "                             none                       0.553571\n",
       "dtype: float64"
      ]
     },
     "execution_count": 380,
     "metadata": {},
     "output_type": "execute_result"
    }
   ],
   "source": [
    "var_of_interest_2 = 'test preparation course'\n",
    "temp = data_trim2.groupby([var_of_interest, var_of_interest_2]).size()/data_trim2.groupby([var_of_interest]).size()\n",
    "temp"
   ]
  },
  {
   "cell_type": "markdown",
   "metadata": {},
   "source": [
    "'test preparation course' 여부의 영향은 적은 것으로 보인다."
   ]
  },
  {
   "cell_type": "markdown",
   "metadata": {},
   "source": [
    "---"
   ]
  },
  {
   "cell_type": "markdown",
   "metadata": {},
   "source": [
    "### 성별에 따른 차이 분석"
   ]
  },
  {
   "cell_type": "code",
   "execution_count": 383,
   "metadata": {},
   "outputs": [
    {
     "data": {
      "text/plain": [
       "female    518\n",
       "male      482\n",
       "Name: gender, dtype: int64"
      ]
     },
     "execution_count": 383,
     "metadata": {},
     "output_type": "execute_result"
    }
   ],
   "source": [
    "var_of_interest = 'gender'\n",
    "gender = data[var_of_interest].unique()\n",
    "data[var_of_interest].value_counts()"
   ]
  },
  {
   "cell_type": "code",
   "execution_count": 382,
   "metadata": {},
   "outputs": [
    {
     "data": {
      "text/html": [
       "<div>\n",
       "<style scoped>\n",
       "    .dataframe tbody tr th:only-of-type {\n",
       "        vertical-align: middle;\n",
       "    }\n",
       "\n",
       "    .dataframe tbody tr th {\n",
       "        vertical-align: top;\n",
       "    }\n",
       "\n",
       "    .dataframe thead th {\n",
       "        text-align: right;\n",
       "    }\n",
       "</style>\n",
       "<table border=\"1\" class=\"dataframe\">\n",
       "  <thead>\n",
       "    <tr style=\"text-align: right;\">\n",
       "      <th></th>\n",
       "      <th>math score</th>\n",
       "      <th>reading score</th>\n",
       "      <th>writing score</th>\n",
       "    </tr>\n",
       "    <tr>\n",
       "      <th>gender</th>\n",
       "      <th></th>\n",
       "      <th></th>\n",
       "      <th></th>\n",
       "    </tr>\n",
       "  </thead>\n",
       "  <tbody>\n",
       "    <tr>\n",
       "      <th>female</th>\n",
       "      <td>20.0</td>\n",
       "      <td>19.75</td>\n",
       "      <td>18.00</td>\n",
       "    </tr>\n",
       "    <tr>\n",
       "      <th>male</th>\n",
       "      <td>20.0</td>\n",
       "      <td>19.00</td>\n",
       "      <td>20.75</td>\n",
       "    </tr>\n",
       "  </tbody>\n",
       "</table>\n",
       "</div>"
      ],
      "text/plain": [
       "        math score  reading score  writing score\n",
       "gender                                          \n",
       "female        20.0          19.75          18.00\n",
       "male          20.0          19.00          20.75"
      ]
     },
     "execution_count": 382,
     "metadata": {},
     "output_type": "execute_result"
    }
   ],
   "source": [
    "q3 = data.groupby([var_of_interest]).quantile(0.75)\n",
    "q1 = data.groupby([var_of_interest]).quantile(0.25)\n",
    "\n",
    "iqr = q3 - q1\n",
    "iqr"
   ]
  },
  {
   "cell_type": "code",
   "execution_count": 384,
   "metadata": {},
   "outputs": [
    {
     "data": {
      "text/plain": [
       "(977, 8)"
      ]
     },
     "execution_count": 384,
     "metadata": {},
     "output_type": "execute_result"
    }
   ],
   "source": [
    "data_trim3 = data.copy()\n",
    "\n",
    "def is_outlier(gender):\n",
    "  iqr_range = 1.5\n",
    "\n",
    "  for i in range(len(subject_name)):\n",
    "    column_name = subject_name[i]\n",
    "    outlier_detection = lambda x: True if x > q3[column_name][gender] + iqr_range*iqr[column_name][gender] or \\\n",
    "      x < q1[column_name][gender] - iqr_range*iqr[column_name][gender] else False\n",
    "\n",
    "    outlier_check = data[column_name].apply(outlier_detection)\n",
    "    data_trim3.drop(data_trim3[outlier_check].index, axis = 0, inplace=True)\n",
    "\n",
    "  return data_trim3\n",
    "\n",
    "for i in range(len(gender)):\n",
    "  is_outlier(gender[i])\n",
    "\n",
    "data_trim3.shape"
   ]
  },
  {
   "cell_type": "code",
   "execution_count": 386,
   "metadata": {},
   "outputs": [
    {
     "data": {
      "text/plain": [
       "<AxesSubplot:xlabel='gender', ylabel='writing score'>"
      ]
     },
     "execution_count": 386,
     "metadata": {},
     "output_type": "execute_result"
    },
    {
     "data": {
      "image/png": "[encoded data removed]",
      "text/plain": [
       "<Figure size 1440x504 with 3 Axes>"
      ]
     },
     "metadata": {},
     "output_type": "display_data"
    }
   ],
   "source": [
    "fig, ax = plt.subplots(nrows=1, ncols=3, sharey=False, figsize = (20,7))\n",
    "sns.boxplot(x=var_of_interest, y=\"math score\", data=data_trim3, ax=ax[0], showmeans=True, meanprops={\"markerfacecolor\":\"white\"})\n",
    "sns.boxplot(x=var_of_interest, y=\"reading score\", data=data_trim3, ax=ax[1], showmeans=True, meanprops={\"markerfacecolor\":\"white\"})\n",
    "sns.boxplot(x=var_of_interest, y=\"writing score\", data=data_trim3, ax=ax[2], showmeans=True, meanprops={\"markerfacecolor\":\"white\"})"
   ]
  },
  {
   "cell_type": "code",
   "execution_count": 387,
   "metadata": {},
   "outputs": [
    {
     "data": {
      "text/html": [
       "<div>\n",
       "<style scoped>\n",
       "    .dataframe tbody tr th:only-of-type {\n",
       "        vertical-align: middle;\n",
       "    }\n",
       "\n",
       "    .dataframe tbody tr th {\n",
       "        vertical-align: top;\n",
       "    }\n",
       "\n",
       "    .dataframe thead th {\n",
       "        text-align: right;\n",
       "    }\n",
       "</style>\n",
       "<table border=\"1\" class=\"dataframe\">\n",
       "  <thead>\n",
       "    <tr style=\"text-align: right;\">\n",
       "      <th></th>\n",
       "      <th>gender</th>\n",
       "      <th>female</th>\n",
       "      <th>male</th>\n",
       "    </tr>\n",
       "  </thead>\n",
       "  <tbody>\n",
       "    <tr>\n",
       "      <th rowspan=\"8\" valign=\"top\">math score</th>\n",
       "      <th>count</th>\n",
       "      <td>496.000000</td>\n",
       "      <td>469.000000</td>\n",
       "    </tr>\n",
       "    <tr>\n",
       "      <th>mean</th>\n",
       "      <td>67.743952</td>\n",
       "      <td>66.123667</td>\n",
       "    </tr>\n",
       "    <tr>\n",
       "      <th>std</th>\n",
       "      <td>14.306492</td>\n",
       "      <td>13.974857</td>\n",
       "    </tr>\n",
       "    <tr>\n",
       "      <th>min</th>\n",
       "      <td>29.000000</td>\n",
       "      <td>29.000000</td>\n",
       "    </tr>\n",
       "    <tr>\n",
       "      <th>25%</th>\n",
       "      <td>58.000000</td>\n",
       "      <td>57.000000</td>\n",
       "    </tr>\n",
       "    <tr>\n",
       "      <th>50%</th>\n",
       "      <td>68.000000</td>\n",
       "      <td>65.000000</td>\n",
       "    </tr>\n",
       "    <tr>\n",
       "      <th>75%</th>\n",
       "      <td>78.000000</td>\n",
       "      <td>76.000000</td>\n",
       "    </tr>\n",
       "    <tr>\n",
       "      <th>max</th>\n",
       "      <td>100.000000</td>\n",
       "      <td>100.000000</td>\n",
       "    </tr>\n",
       "    <tr>\n",
       "      <th rowspan=\"8\" valign=\"top\">reading score</th>\n",
       "      <th>count</th>\n",
       "      <td>496.000000</td>\n",
       "      <td>469.000000</td>\n",
       "    </tr>\n",
       "    <tr>\n",
       "      <th>mean</th>\n",
       "      <td>70.663306</td>\n",
       "      <td>69.249467</td>\n",
       "    </tr>\n",
       "    <tr>\n",
       "      <th>std</th>\n",
       "      <td>13.618375</td>\n",
       "      <td>13.510981</td>\n",
       "    </tr>\n",
       "    <tr>\n",
       "      <th>min</th>\n",
       "      <td>40.000000</td>\n",
       "      <td>34.000000</td>\n",
       "    </tr>\n",
       "    <tr>\n",
       "      <th>25%</th>\n",
       "      <td>60.750000</td>\n",
       "      <td>59.000000</td>\n",
       "    </tr>\n",
       "    <tr>\n",
       "      <th>50%</th>\n",
       "      <td>71.000000</td>\n",
       "      <td>70.000000</td>\n",
       "    </tr>\n",
       "    <tr>\n",
       "      <th>75%</th>\n",
       "      <td>81.000000</td>\n",
       "      <td>79.000000</td>\n",
       "    </tr>\n",
       "    <tr>\n",
       "      <th>max</th>\n",
       "      <td>100.000000</td>\n",
       "      <td>100.000000</td>\n",
       "    </tr>\n",
       "    <tr>\n",
       "      <th rowspan=\"8\" valign=\"top\">writing score</th>\n",
       "      <th>count</th>\n",
       "      <td>496.000000</td>\n",
       "      <td>469.000000</td>\n",
       "    </tr>\n",
       "    <tr>\n",
       "      <th>mean</th>\n",
       "      <td>69.596774</td>\n",
       "      <td>68.200426</td>\n",
       "    </tr>\n",
       "    <tr>\n",
       "      <th>std</th>\n",
       "      <td>14.301611</td>\n",
       "      <td>13.898530</td>\n",
       "    </tr>\n",
       "    <tr>\n",
       "      <th>min</th>\n",
       "      <td>38.000000</td>\n",
       "      <td>37.000000</td>\n",
       "    </tr>\n",
       "    <tr>\n",
       "      <th>25%</th>\n",
       "      <td>58.750000</td>\n",
       "      <td>58.000000</td>\n",
       "    </tr>\n",
       "    <tr>\n",
       "      <th>50%</th>\n",
       "      <td>70.000000</td>\n",
       "      <td>69.000000</td>\n",
       "    </tr>\n",
       "    <tr>\n",
       "      <th>75%</th>\n",
       "      <td>79.250000</td>\n",
       "      <td>78.000000</td>\n",
       "    </tr>\n",
       "    <tr>\n",
       "      <th>max</th>\n",
       "      <td>100.000000</td>\n",
       "      <td>100.000000</td>\n",
       "    </tr>\n",
       "  </tbody>\n",
       "</table>\n",
       "</div>"
      ],
      "text/plain": [
       "gender                   female        male\n",
       "math score    count  496.000000  469.000000\n",
       "              mean    67.743952   66.123667\n",
       "              std     14.306492   13.974857\n",
       "              min     29.000000   29.000000\n",
       "              25%     58.000000   57.000000\n",
       "              50%     68.000000   65.000000\n",
       "              75%     78.000000   76.000000\n",
       "              max    100.000000  100.000000\n",
       "reading score count  496.000000  469.000000\n",
       "              mean    70.663306   69.249467\n",
       "              std     13.618375   13.510981\n",
       "              min     40.000000   34.000000\n",
       "              25%     60.750000   59.000000\n",
       "              50%     71.000000   70.000000\n",
       "              75%     81.000000   79.000000\n",
       "              max    100.000000  100.000000\n",
       "writing score count  496.000000  469.000000\n",
       "              mean    69.596774   68.200426\n",
       "              std     14.301611   13.898530\n",
       "              min     38.000000   37.000000\n",
       "              25%     58.750000   58.000000\n",
       "              50%     70.000000   69.000000\n",
       "              75%     79.250000   78.000000\n",
       "              max    100.000000  100.000000"
      ]
     },
     "execution_count": 387,
     "metadata": {},
     "output_type": "execute_result"
    }
   ],
   "source": [
    "data_trim3.groupby(data_trim[var_of_interest]).describe().T"
   ]
  },
  {
   "cell_type": "code",
   "execution_count": 388,
   "metadata": {},
   "outputs": [
    {
     "data": {
      "text/html": [
       "<div>\n",
       "<style scoped>\n",
       "    .dataframe tbody tr th:only-of-type {\n",
       "        vertical-align: middle;\n",
       "    }\n",
       "\n",
       "    .dataframe tbody tr th {\n",
       "        vertical-align: top;\n",
       "    }\n",
       "\n",
       "    .dataframe thead th {\n",
       "        text-align: right;\n",
       "    }\n",
       "</style>\n",
       "<table border=\"1\" class=\"dataframe\">\n",
       "  <thead>\n",
       "    <tr style=\"text-align: right;\">\n",
       "      <th></th>\n",
       "      <th>gender</th>\n",
       "      <th>race/ethnicity</th>\n",
       "      <th>parental level of education</th>\n",
       "      <th>lunch</th>\n",
       "      <th>test preparation course</th>\n",
       "      <th>math score</th>\n",
       "      <th>reading score</th>\n",
       "      <th>writing score</th>\n",
       "      <th>all</th>\n",
       "    </tr>\n",
       "  </thead>\n",
       "  <tbody>\n",
       "    <tr>\n",
       "      <th>0</th>\n",
       "      <td>female</td>\n",
       "      <td>group B</td>\n",
       "      <td>bachelor's degree</td>\n",
       "      <td>standard</td>\n",
       "      <td>none</td>\n",
       "      <td>72</td>\n",
       "      <td>72</td>\n",
       "      <td>74</td>\n",
       "      <td></td>\n",
       "    </tr>\n",
       "    <tr>\n",
       "      <th>1</th>\n",
       "      <td>female</td>\n",
       "      <td>group C</td>\n",
       "      <td>some college</td>\n",
       "      <td>standard</td>\n",
       "      <td>completed</td>\n",
       "      <td>69</td>\n",
       "      <td>90</td>\n",
       "      <td>88</td>\n",
       "      <td></td>\n",
       "    </tr>\n",
       "    <tr>\n",
       "      <th>2</th>\n",
       "      <td>female</td>\n",
       "      <td>group B</td>\n",
       "      <td>master's degree</td>\n",
       "      <td>standard</td>\n",
       "      <td>none</td>\n",
       "      <td>90</td>\n",
       "      <td>95</td>\n",
       "      <td>93</td>\n",
       "      <td></td>\n",
       "    </tr>\n",
       "    <tr>\n",
       "      <th>3</th>\n",
       "      <td>male</td>\n",
       "      <td>group A</td>\n",
       "      <td>associate's degree</td>\n",
       "      <td>free/reduced</td>\n",
       "      <td>none</td>\n",
       "      <td>47</td>\n",
       "      <td>57</td>\n",
       "      <td>44</td>\n",
       "      <td></td>\n",
       "    </tr>\n",
       "    <tr>\n",
       "      <th>4</th>\n",
       "      <td>male</td>\n",
       "      <td>group C</td>\n",
       "      <td>some college</td>\n",
       "      <td>standard</td>\n",
       "      <td>none</td>\n",
       "      <td>76</td>\n",
       "      <td>78</td>\n",
       "      <td>75</td>\n",
       "      <td></td>\n",
       "    </tr>\n",
       "  </tbody>\n",
       "</table>\n",
       "</div>"
      ],
      "text/plain": [
       "   gender race/ethnicity parental level of education         lunch  \\\n",
       "0  female        group B           bachelor's degree      standard   \n",
       "1  female        group C                some college      standard   \n",
       "2  female        group B             master's degree      standard   \n",
       "3    male        group A          associate's degree  free/reduced   \n",
       "4    male        group C                some college      standard   \n",
       "\n",
       "  test preparation course  math score  reading score  writing score all  \n",
       "0                    none          72             72             74      \n",
       "1               completed          69             90             88      \n",
       "2                    none          90             95             93      \n",
       "3                    none          47             57             44      \n",
       "4                    none          76             78             75      "
      ]
     },
     "execution_count": 388,
     "metadata": {},
     "output_type": "execute_result"
    }
   ],
   "source": [
    "data_trim3[\"all\"] = \"\"\n",
    "data_trim3.head()"
   ]
  },
  {
   "cell_type": "code",
   "execution_count": 389,
   "metadata": {},
   "outputs": [
    {
     "data": {
      "image/png": "[encoded data removed]",
      "text/plain": [
       "<Figure size 1440x360 with 3 Axes>"
      ]
     },
     "metadata": {},
     "output_type": "display_data"
    }
   ],
   "source": [
    "fig, ax = plt.subplots(nrows=1, ncols=3, figsize=(20,5))\n",
    "for i in range(len(subject_name)):\n",
    "  sns.violinplot(x=subject_name[i], y='all', hue='gender', data=data_trim3, split=True, ax = ax[i])"
   ]
  },
  {
   "cell_type": "code",
   "execution_count": 391,
   "metadata": {},
   "outputs": [
    {
     "data": {
      "image/png": "[encoded data removed]",
      "text/plain": [
       "<Figure size 1080x360 with 3 Axes>"
      ]
     },
     "metadata": {},
     "output_type": "display_data"
    }
   ],
   "source": [
    "fig, ax = plt.subplots(nrows=1, ncols=3, figsize=(15,5), sharey=True)\n",
    "\n",
    "for i in range(len(subject_name)):\n",
    "  sns.barplot(x='gender', y=subject_name[i], data=data_trim, ax=ax[i], ci=95)\n",
    "  ax[i].set_ylabel('')\n",
    "  ax[i].set_xlabel('')\n",
    "  ax[i].set_title(subject_name[i])"
   ]
  },
  {
   "cell_type": "code",
   "execution_count": 392,
   "metadata": {},
   "outputs": [
    {
     "name": "stdout",
     "output_type": "stream",
     "text": [
      "math score\n",
      "LeveneResult(F) : 0.074 \n",
      "p-value : 0.785\n",
      "t statistic : -5.560 \n",
      "p-value : 0.000\n",
      "Cohen's D: 0.178\n",
      "-----\n",
      "reading score\n",
      "LeveneResult(F) : 0.006 \n",
      "p-value : 0.940\n",
      "t statistic : 8.489 \n",
      "p-value : 0.000\n",
      "Cohen's D: 0.272\n",
      "-----\n",
      "writing score\n",
      "LeveneResult(F) : 0.031 \n",
      "p-value : 0.859\n",
      "t statistic : 10.805 \n",
      "p-value : 0.000\n",
      "Cohen's D: 0.346\n",
      "-----\n"
     ]
    }
   ],
   "source": [
    "for i in range(len(subject_name)):\n",
    "  print(subject_name[i])\n",
    "\n",
    "  lresult = stats.levene(data_trim3[subject_name[i]][data_trim3['gender'] == 'female'], data_trim3[subject_name[i]][data_trim3['gender'] == 'male'])\n",
    "  print('LeveneResult(F) : %.3f \\np-value : %.3f' % (lresult)) # 등분산 검정\n",
    "  \n",
    "  result = stats.ttest_ind(data_trim3[subject_name[i]][data_trim3['gender'] == 'female'], data_trim3[subject_name[i]][data_trim3['gender'] == 'male'], equal_var=True if lresult[1] > 0.05 else False)\n",
    "  print('t statistic : %.3f \\np-value : %.3f' % (result))\n",
    "  \n",
    "  t = result.statistic\n",
    "  df = len(data_trim3[subject_name[i]][data_trim3['gender'] == 'female']) + len(data_trim3[subject_name[i]][data_trim3['gender'] == 'male']) - 2\n",
    "  print(f'Cohen\\'s D: {abs(t) / np.sqrt(df):.3f}')\n",
    "\n",
    "  print('-----')"
   ]
  },
  {
   "cell_type": "markdown",
   "metadata": {},
   "source": [
    "수학은 여자보다 남자 집단의 점수가 유의미하게 더 높다.    \n",
    "읽기와 쓰기는 남자보다 여자 집단의 점수가 유의미하게 더 높다.   \n",
    "추후 데이터 구조를 바꾸어서 2요인(성별, 과목) 분산분석도 시도해 볼 수 있을 것 같다."
   ]
  }
 ],
 "metadata": {
  "kernelspec": {
   "display_name": "Python 3.10.2 64-bit",
   "language": "python",
   "name": "python3"
  },
  "language_info": {
   "codemirror_mode": {
    "name": "ipython",
    "version": 3
   },
   "file_extension": ".py",
   "mimetype": "text/x-python",
   "name": "python",
   "nbconvert_exporter": "python",
   "pygments_lexer": "ipython3",
   "version": "3.10.2"
  },
  "orig_nbformat": 4,
  "vscode": {
   "interpreter": {
    "hash": "369f2c481f4da34e4445cda3fffd2e751bd1c4d706f27375911949ba6bb62e1c"
   }
  }
 },
 "nbformat": 4,
 "nbformat_minor": 2
}
