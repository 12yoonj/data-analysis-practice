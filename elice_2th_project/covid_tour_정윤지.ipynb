{
  "cells": [
    {
      "cell_type": "markdown",
      "metadata": {
        "id": "QUL3wK2GQzKa"
      },
      "source": [
        "# 코로나 확진자 추이 분석\n",
        "### 사용 데이터 \n",
        "- [Covid-19 Weekly Trends In World - Latest Data](https://www.kaggle.com/datasets/anandhuh/covid19-weekly-trends-in-world-latest-data)\n",
        "- now: 최근 1주 [4월 6일 ~ 4월 13일]\n",
        "- prec: 이전 1주 [3월 30일 ~ 4월 5일]"
      ]
    },
    {
      "cell_type": "markdown",
      "metadata": {
        "id": "OYOWljBmSNMa"
      },
      "source": [
        "## Contents\n",
        "1. 데이터 준비  \n",
        "1-1. 데이터 읽어오기  \n",
        "1-2. 전체 데이터 확인하기  \n",
        "1-3. 데이터 전처리  \n",
        "2. 데이터 분석  \n",
        "2-1. 분석 목표 구체화  \n",
        "2-2. 분석 및 시각화"
      ]
    },
    {
      "cell_type": "markdown",
      "metadata": {
        "id": "2PAbomrHRiBT"
      },
      "source": [
        "## 1. 데이터 준비\n"
      ]
    },
    {
      "cell_type": "markdown",
      "metadata": {
        "id": "TkqlnTJqTHaU"
      },
      "source": [
        "### 1-1. 데이터 읽어오기"
      ]
    },
    {
      "cell_type": "code",
      "execution_count": 1,
      "metadata": {
        "colab": {
          "base_uri": "https://localhost:8080/",
          "height": 267
        },
        "id": "zCrqkiIQ_ikq",
        "outputId": "5b145896-1159-4f1e-c926-8dd8f2514ea0"
      },
      "outputs": [
        {
          "data": {
            "text/html": [
              "<div>\n",
              "<style scoped>\n",
              "    .dataframe tbody tr th:only-of-type {\n",
              "        vertical-align: middle;\n",
              "    }\n",
              "\n",
              "    .dataframe tbody tr th {\n",
              "        vertical-align: top;\n",
              "    }\n",
              "\n",
              "    .dataframe thead th {\n",
              "        text-align: right;\n",
              "    }\n",
              "</style>\n",
              "<table border=\"1\" class=\"dataframe\">\n",
              "  <thead>\n",
              "    <tr style=\"text-align: right;\">\n",
              "      <th></th>\n",
              "      <th>Country, Other</th>\n",
              "      <th>Cases in the last 7 days</th>\n",
              "      <th>Cases in the preceding 7 days</th>\n",
              "      <th>Weekly Case % Change</th>\n",
              "      <th>Cases in the last 7 days/1M pop</th>\n",
              "      <th>Deaths in the last 7 days</th>\n",
              "      <th>Deaths in the preceding 7 days</th>\n",
              "      <th>Weekly Death % Change</th>\n",
              "      <th>Deaths in the last 7 days/1M pop</th>\n",
              "      <th>Population</th>\n",
              "    </tr>\n",
              "  </thead>\n",
              "  <tbody>\n",
              "    <tr>\n",
              "      <th>0</th>\n",
              "      <td>Afghanistan</td>\n",
              "      <td>308</td>\n",
              "      <td>291</td>\n",
              "      <td>6.0</td>\n",
              "      <td>8.0</td>\n",
              "      <td>5</td>\n",
              "      <td>6</td>\n",
              "      <td>-17</td>\n",
              "      <td>0.1</td>\n",
              "      <td>40483797</td>\n",
              "    </tr>\n",
              "    <tr>\n",
              "      <th>1</th>\n",
              "      <td>Albania</td>\n",
              "      <td>236</td>\n",
              "      <td>471</td>\n",
              "      <td>-50.0</td>\n",
              "      <td>82.0</td>\n",
              "      <td>2</td>\n",
              "      <td>0</td>\n",
              "      <td>200</td>\n",
              "      <td>0.7</td>\n",
              "      <td>2872219</td>\n",
              "    </tr>\n",
              "    <tr>\n",
              "      <th>2</th>\n",
              "      <td>Algeria</td>\n",
              "      <td>31</td>\n",
              "      <td>48</td>\n",
              "      <td>-35.0</td>\n",
              "      <td>0.7</td>\n",
              "      <td>0</td>\n",
              "      <td>0</td>\n",
              "      <td>0</td>\n",
              "      <td>0.0</td>\n",
              "      <td>45256195</td>\n",
              "    </tr>\n",
              "    <tr>\n",
              "      <th>3</th>\n",
              "      <td>Andorra</td>\n",
              "      <td>304</td>\n",
              "      <td>311</td>\n",
              "      <td>-2.0</td>\n",
              "      <td>3923.0</td>\n",
              "      <td>0</td>\n",
              "      <td>0</td>\n",
              "      <td>0</td>\n",
              "      <td>0.0</td>\n",
              "      <td>77484</td>\n",
              "    </tr>\n",
              "    <tr>\n",
              "      <th>4</th>\n",
              "      <td>Angola</td>\n",
              "      <td>0</td>\n",
              "      <td>56</td>\n",
              "      <td>-100.0</td>\n",
              "      <td>0.0</td>\n",
              "      <td>0</td>\n",
              "      <td>0</td>\n",
              "      <td>0</td>\n",
              "      <td>0.0</td>\n",
              "      <td>34679470</td>\n",
              "    </tr>\n",
              "  </tbody>\n",
              "</table>\n",
              "</div>"
            ],
            "text/plain": [
              "  Country, Other  Cases in the last 7 days  Cases in the preceding 7 days  \\\n",
              "0    Afghanistan                       308                            291   \n",
              "1        Albania                       236                            471   \n",
              "2        Algeria                        31                             48   \n",
              "3        Andorra                       304                            311   \n",
              "4         Angola                         0                             56   \n",
              "\n",
              "   Weekly Case % Change  Cases in the last 7 days/1M pop  \\\n",
              "0                   6.0                              8.0   \n",
              "1                 -50.0                             82.0   \n",
              "2                 -35.0                              0.7   \n",
              "3                  -2.0                           3923.0   \n",
              "4                -100.0                              0.0   \n",
              "\n",
              "   Deaths in the last 7 days  Deaths in the preceding 7 days  \\\n",
              "0                          5                               6   \n",
              "1                          2                               0   \n",
              "2                          0                               0   \n",
              "3                          0                               0   \n",
              "4                          0                               0   \n",
              "\n",
              "   Weekly Death % Change  Deaths in the last 7 days/1M pop  Population  \n",
              "0                    -17                               0.1    40483797  \n",
              "1                    200                               0.7     2872219  \n",
              "2                      0                               0.0    45256195  \n",
              "3                      0                               0.0       77484  \n",
              "4                      0                               0.0    34679470  "
            ]
          },
          "execution_count": 1,
          "metadata": {},
          "output_type": "execute_result"
        }
      ],
      "source": [
        "import pandas as pd\n",
        "import numpy as np\n",
        "import seaborn as sns\n",
        "import matplotlib.pyplot as plt\n",
        "%matplotlib inline\n",
        "\n",
        "data = pd.read_csv(\"./covid_world_weekly_trend.csv\")\n",
        "covid = data # 혹시 모를 상황을 대비하여 데이터 복사\n",
        "covid.head()"
      ]
    },
    {
      "cell_type": "markdown",
      "metadata": {
        "id": "bmnSduk-TQ6u"
      },
      "source": [
        "### 1-2. 전체 데이터 확인하기"
      ]
    },
    {
      "cell_type": "code",
      "execution_count": 172,
      "metadata": {
        "colab": {
          "base_uri": "https://localhost:8080/"
        },
        "id": "RpKopoNs_rcg",
        "outputId": "646a5249-76a5-4b55-811f-521660d3b804"
      },
      "outputs": [
        {
          "name": "stdout",
          "output_type": "stream",
          "text": [
            "Index(['Country, Other', 'Cases in the last 7 days',\n",
            "       'Cases in the preceding 7 days', 'Weekly Case % Change',\n",
            "       'Cases in the last 7 days/1M pop', 'Deaths in the last 7 days',\n",
            "       'Deaths in the preceding 7 days', 'Weekly Death % Change',\n",
            "       'Deaths in the last 7 days/1M pop', 'Population'],\n",
            "      dtype='object')\n",
            "(212, 10)\n"
          ]
        }
      ],
      "source": [
        "print(covid.columns)\n",
        "print(covid.shape)"
      ]
    },
    {
      "cell_type": "code",
      "execution_count": 173,
      "metadata": {
        "colab": {
          "base_uri": "https://localhost:8080/"
        },
        "id": "aX1ptpNc_ynx",
        "outputId": "b172c0c0-7b18-49d0-855f-33ee6e82fe0a"
      },
      "outputs": [
        {
          "name": "stdout",
          "output_type": "stream",
          "text": [
            "<class 'pandas.core.frame.DataFrame'>\n",
            "RangeIndex: 212 entries, 0 to 211\n",
            "Data columns (total 10 columns):\n",
            " #   Column                            Non-Null Count  Dtype  \n",
            "---  ------                            --------------  -----  \n",
            " 0   Country, Other                    212 non-null    object \n",
            " 1   Cases in the last 7 days          212 non-null    int64  \n",
            " 2   Cases in the preceding 7 days     212 non-null    int64  \n",
            " 3   Weekly Case % Change              212 non-null    float64\n",
            " 4   Cases in the last 7 days/1M pop   212 non-null    float64\n",
            " 5   Deaths in the last 7 days         212 non-null    int64  \n",
            " 6   Deaths in the preceding 7 days    212 non-null    int64  \n",
            " 7   Weekly Death % Change             212 non-null    int64  \n",
            " 8   Deaths in the last 7 days/1M pop  212 non-null    float64\n",
            " 9   Population                        212 non-null    int64  \n",
            "dtypes: float64(3), int64(6), object(1)\n",
            "memory usage: 16.7+ KB\n"
          ]
        }
      ],
      "source": [
        "covid.info()"
      ]
    },
    {
      "cell_type": "markdown",
      "metadata": {
        "id": "jTJXMeQnA4JQ"
      },
      "source": [
        "### 1-3. 데이터 전처리  \n",
        "1. 결측치 및 중복치 확인\n",
        "2. 데이터 설계 (필요한 데이터는 무엇인가?)"
      ]
    },
    {
      "cell_type": "code",
      "execution_count": 2,
      "metadata": {
        "colab": {
          "base_uri": "https://localhost:8080/"
        },
        "id": "GI_UaUaSTvtO",
        "outputId": "b612a225-9a31-4e02-92cb-fa6818ad6987"
      },
      "outputs": [
        {
          "data": {
            "text/plain": [
              "Country, Other                      0\n",
              "Cases in the last 7 days            0\n",
              "Cases in the preceding 7 days       0\n",
              "Weekly Case % Change                0\n",
              "Cases in the last 7 days/1M pop     0\n",
              "Deaths in the last 7 days           0\n",
              "Deaths in the preceding 7 days      0\n",
              "Weekly Death % Change               0\n",
              "Deaths in the last 7 days/1M pop    0\n",
              "Population                          0\n",
              "dtype: int64"
            ]
          },
          "execution_count": 2,
          "metadata": {},
          "output_type": "execute_result"
        }
      ],
      "source": [
        "covid.isnull().sum()"
      ]
    },
    {
      "cell_type": "code",
      "execution_count": 3,
      "metadata": {
        "colab": {
          "base_uri": "https://localhost:8080/"
        },
        "id": "bp9CW_fCVf4a",
        "outputId": "9f5b72cd-7211-4237-ea96-a3e2e771cd44"
      },
      "outputs": [
        {
          "data": {
            "text/plain": [
              "0"
            ]
          },
          "execution_count": 3,
          "metadata": {},
          "output_type": "execute_result"
        }
      ],
      "source": [
        "covid.duplicated().sum()"
      ]
    },
    {
      "cell_type": "markdown",
      "metadata": {
        "id": "qTjjrdAEUCPa"
      },
      "source": [
        "column 이름을 좀 더 간단하게 바꾸고, 필요없는 column 지우기"
      ]
    },
    {
      "cell_type": "code",
      "execution_count": 4,
      "metadata": {
        "id": "Ku9_38xwBZOw"
      },
      "outputs": [],
      "source": [
        "covid.rename(columns={'Country, Other': 'country', 'Cases in the last 7 days': 'cases_now', 'Cases in the preceding 7 days': 'cases_prec', 'Weekly Case % Change': 'case_change',\n",
        "'Cases in the last 7 days/1M pop': 'cases_1m', 'Deaths in the last 7 days': 'deaths_now', 'Deaths in the preceding 7 days': 'deaths_prec',\n",
        "'Weekly Death % Change': 'death_change', 'Deaths in the last 7 days/1M pop': 'deaths_1m', 'Population': 'population'\n",
        "}, inplace=True) # Reanme columns"
      ]
    },
    {
      "cell_type": "code",
      "execution_count": 5,
      "metadata": {
        "id": "wNIIFp71HMFm"
      },
      "outputs": [],
      "source": [
        "covid.drop(columns = ['deaths_now', 'deaths_prec','death_change', 'deaths_1m'], inplace=True)"
      ]
    },
    {
      "cell_type": "code",
      "execution_count": 6,
      "metadata": {
        "colab": {
          "base_uri": "https://localhost:8080/",
          "height": 206
        },
        "id": "Dc__kyXYAH7H",
        "outputId": "b40dcf2f-0031-40e2-8add-fda96dd2d16d"
      },
      "outputs": [
        {
          "data": {
            "text/html": [
              "<div>\n",
              "<style scoped>\n",
              "    .dataframe tbody tr th:only-of-type {\n",
              "        vertical-align: middle;\n",
              "    }\n",
              "\n",
              "    .dataframe tbody tr th {\n",
              "        vertical-align: top;\n",
              "    }\n",
              "\n",
              "    .dataframe thead th {\n",
              "        text-align: right;\n",
              "    }\n",
              "</style>\n",
              "<table border=\"1\" class=\"dataframe\">\n",
              "  <thead>\n",
              "    <tr style=\"text-align: right;\">\n",
              "      <th></th>\n",
              "      <th>count</th>\n",
              "      <th>mean</th>\n",
              "      <th>std</th>\n",
              "      <th>min</th>\n",
              "      <th>25%</th>\n",
              "      <th>50%</th>\n",
              "      <th>75%</th>\n",
              "      <th>max</th>\n",
              "    </tr>\n",
              "  </thead>\n",
              "  <tbody>\n",
              "    <tr>\n",
              "      <th>cases_now</th>\n",
              "      <td>212.0</td>\n",
              "      <td>3.226665e+04</td>\n",
              "      <td>1.411302e+05</td>\n",
              "      <td>0.0</td>\n",
              "      <td>40.00</td>\n",
              "      <td>420.5</td>\n",
              "      <td>5742.0</td>\n",
              "      <td>1.367873e+06</td>\n",
              "    </tr>\n",
              "    <tr>\n",
              "      <th>cases_prec</th>\n",
              "      <td>212.0</td>\n",
              "      <td>4.072566e+04</td>\n",
              "      <td>1.808994e+05</td>\n",
              "      <td>0.0</td>\n",
              "      <td>60.50</td>\n",
              "      <td>587.0</td>\n",
              "      <td>7363.5</td>\n",
              "      <td>1.916973e+06</td>\n",
              "    </tr>\n",
              "    <tr>\n",
              "      <th>case_change</th>\n",
              "      <td>212.0</td>\n",
              "      <td>7.387231e+02</td>\n",
              "      <td>5.645690e+03</td>\n",
              "      <td>-100.0</td>\n",
              "      <td>-40.50</td>\n",
              "      <td>-23.0</td>\n",
              "      <td>-1.5</td>\n",
              "      <td>5.150000e+04</td>\n",
              "    </tr>\n",
              "    <tr>\n",
              "      <th>cases_1m</th>\n",
              "      <td>212.0</td>\n",
              "      <td>2.527309e+03</td>\n",
              "      <td>6.455296e+03</td>\n",
              "      <td>0.0</td>\n",
              "      <td>6.75</td>\n",
              "      <td>162.5</td>\n",
              "      <td>2312.5</td>\n",
              "      <td>6.013800e+04</td>\n",
              "    </tr>\n",
              "    <tr>\n",
              "      <th>population</th>\n",
              "      <td>212.0</td>\n",
              "      <td>3.697350e+07</td>\n",
              "      <td>1.437274e+08</td>\n",
              "      <td>3660.0</td>\n",
              "      <td>640090.00</td>\n",
              "      <td>6629760.5</td>\n",
              "      <td>26403046.0</td>\n",
              "      <td>1.449190e+09</td>\n",
              "    </tr>\n",
              "  </tbody>\n",
              "</table>\n",
              "</div>"
            ],
            "text/plain": [
              "             count          mean           std     min        25%        50%  \\\n",
              "cases_now    212.0  3.226665e+04  1.411302e+05     0.0      40.00      420.5   \n",
              "cases_prec   212.0  4.072566e+04  1.808994e+05     0.0      60.50      587.0   \n",
              "case_change  212.0  7.387231e+02  5.645690e+03  -100.0     -40.50      -23.0   \n",
              "cases_1m     212.0  2.527309e+03  6.455296e+03     0.0       6.75      162.5   \n",
              "population   212.0  3.697350e+07  1.437274e+08  3660.0  640090.00  6629760.5   \n",
              "\n",
              "                    75%           max  \n",
              "cases_now        5742.0  1.367873e+06  \n",
              "cases_prec       7363.5  1.916973e+06  \n",
              "case_change        -1.5  5.150000e+04  \n",
              "cases_1m         2312.5  6.013800e+04  \n",
              "population   26403046.0  1.449190e+09  "
            ]
          },
          "execution_count": 6,
          "metadata": {},
          "output_type": "execute_result"
        }
      ],
      "source": [
        "covid.describe().T"
      ]
    },
    {
      "cell_type": "markdown",
      "metadata": {
        "id": "-DLUIEASUjxY"
      },
      "source": [
        "## 2. 데이터 분석"
      ]
    },
    {
      "cell_type": "markdown",
      "metadata": {
        "id": "BroWFdeJUrka"
      },
      "source": [
        "### 2-1. 분석 목표 구체화\n",
        "1. 인구 수가 많을수록 확진자 수가 많아지는 경향성이 있는가?\n",
        "2. 누적 확진자 수가 많은 나라에서의 최근(2주) 확진자 수 추이는 어떠한가?"
      ]
    },
    {
      "cell_type": "markdown",
      "metadata": {
        "id": "eD5wBzrka1IG"
      },
      "source": [
        "### 2-2. 분석 및 시각화"
      ]
    },
    {
      "cell_type": "markdown",
      "metadata": {
        "id": "ZycZHcxvVqXd"
      },
      "source": [
        "데이터 간 상관관계 확인해보기"
      ]
    },
    {
      "cell_type": "code",
      "execution_count": 7,
      "metadata": {
        "colab": {
          "base_uri": "https://localhost:8080/",
          "height": 206
        },
        "id": "yklo35TiKNO7",
        "outputId": "9294068d-a484-4e0e-9d85-eca3c220d95e"
      },
      "outputs": [
        {
          "data": {
            "text/html": [
              "<div>\n",
              "<style scoped>\n",
              "    .dataframe tbody tr th:only-of-type {\n",
              "        vertical-align: middle;\n",
              "    }\n",
              "\n",
              "    .dataframe tbody tr th {\n",
              "        vertical-align: top;\n",
              "    }\n",
              "\n",
              "    .dataframe thead th {\n",
              "        text-align: right;\n",
              "    }\n",
              "</style>\n",
              "<table border=\"1\" class=\"dataframe\">\n",
              "  <thead>\n",
              "    <tr style=\"text-align: right;\">\n",
              "      <th></th>\n",
              "      <th>cases_now</th>\n",
              "      <th>cases_prec</th>\n",
              "      <th>case_change</th>\n",
              "      <th>cases_1m</th>\n",
              "      <th>population</th>\n",
              "    </tr>\n",
              "  </thead>\n",
              "  <tbody>\n",
              "    <tr>\n",
              "      <th>cases_now</th>\n",
              "      <td>1.000000</td>\n",
              "      <td>0.988608</td>\n",
              "      <td>-0.030285</td>\n",
              "      <td>0.317531</td>\n",
              "      <td>0.062086</td>\n",
              "    </tr>\n",
              "    <tr>\n",
              "      <th>cases_prec</th>\n",
              "      <td>0.988608</td>\n",
              "      <td>1.000000</td>\n",
              "      <td>-0.030432</td>\n",
              "      <td>0.319180</td>\n",
              "      <td>0.055180</td>\n",
              "    </tr>\n",
              "    <tr>\n",
              "      <th>case_change</th>\n",
              "      <td>-0.030285</td>\n",
              "      <td>-0.030432</td>\n",
              "      <td>1.000000</td>\n",
              "      <td>0.096624</td>\n",
              "      <td>-0.030066</td>\n",
              "    </tr>\n",
              "    <tr>\n",
              "      <th>cases_1m</th>\n",
              "      <td>0.317531</td>\n",
              "      <td>0.319180</td>\n",
              "      <td>0.096624</td>\n",
              "      <td>1.000000</td>\n",
              "      <td>-0.066246</td>\n",
              "    </tr>\n",
              "    <tr>\n",
              "      <th>population</th>\n",
              "      <td>0.062086</td>\n",
              "      <td>0.055180</td>\n",
              "      <td>-0.030066</td>\n",
              "      <td>-0.066246</td>\n",
              "      <td>1.000000</td>\n",
              "    </tr>\n",
              "  </tbody>\n",
              "</table>\n",
              "</div>"
            ],
            "text/plain": [
              "             cases_now  cases_prec  case_change  cases_1m  population\n",
              "cases_now     1.000000    0.988608    -0.030285  0.317531    0.062086\n",
              "cases_prec    0.988608    1.000000    -0.030432  0.319180    0.055180\n",
              "case_change  -0.030285   -0.030432     1.000000  0.096624   -0.030066\n",
              "cases_1m      0.317531    0.319180     0.096624  1.000000   -0.066246\n",
              "population    0.062086    0.055180    -0.030066 -0.066246    1.000000"
            ]
          },
          "execution_count": 7,
          "metadata": {},
          "output_type": "execute_result"
        }
      ],
      "source": [
        "covid.corr()"
      ]
    },
    {
      "cell_type": "code",
      "execution_count": 8,
      "metadata": {
        "colab": {
          "base_uri": "https://localhost:8080/"
        },
        "id": "8uVXG5KrKrAa",
        "outputId": "8b193762-11a7-42bd-c72c-c7ce96e1fce1"
      },
      "outputs": [
        {
          "name": "stdout",
          "output_type": "stream",
          "text": [
            "인구 수와 최근 1주간 확진자 수 : (0.06208606171224264, 0.3683809554109821)\n",
            "인구 수와 이전 1주간 확진자 수 : (0.05518047234912976, 0.4241171415612549)\n",
            "인구 수와 최근 2주간 확진자 수 변화 : (-0.030066264492943164, 0.6633580237551276)\n"
          ]
        }
      ],
      "source": [
        "import scipy.stats as stats\n",
        "\n",
        "# 피어슨 상관계수 검정 (r, p-value)\n",
        "print('인구 수와 최근 1주간 확진자 수 :', stats.pearsonr(covid.cases_now, covid.population))\n",
        "print('인구 수와 이전 1주간 확진자 수 :', stats.pearsonr(covid.cases_prec, covid.population))\n",
        "print('인구 수와 최근 2주간 확진자 수 변화 :', stats.pearsonr(covid.case_change, covid.population))"
      ]
    },
    {
      "cell_type": "markdown",
      "metadata": {
        "id": "_OwZBb5CKqxC"
      },
      "source": [
        "=> 인구 수가 많을 수록 확진자 수가 많다고 결정지을 수 없다."
      ]
    },
    {
      "cell_type": "markdown",
      "metadata": {
        "id": "qKaWMThqYDFZ"
      },
      "source": [
        "질병관리청을 참고하여 누적 확진자 수가 많은 나라를 뽑았다. [출처](http://ncov.mohw.go.kr/bdBoardList_Real.do?brdId=1&brdGubun=14&ncvContSeq=&contSeq=&board_id=&gubun=)"
      ]
    },
    {
      "cell_type": "code",
      "execution_count": 9,
      "metadata": {
        "colab": {
          "base_uri": "https://localhost:8080/",
          "height": 363
        },
        "id": "n6CUL_yPPaoW",
        "outputId": "51f12f4d-282e-4ca2-8de7-0618a8cc2062"
      },
      "outputs": [
        {
          "data": {
            "text/html": [
              "<div>\n",
              "<style scoped>\n",
              "    .dataframe tbody tr th:only-of-type {\n",
              "        vertical-align: middle;\n",
              "    }\n",
              "\n",
              "    .dataframe tbody tr th {\n",
              "        vertical-align: top;\n",
              "    }\n",
              "\n",
              "    .dataframe thead th {\n",
              "        text-align: right;\n",
              "    }\n",
              "</style>\n",
              "<table border=\"1\" class=\"dataframe\">\n",
              "  <thead>\n",
              "    <tr style=\"text-align: right;\">\n",
              "      <th></th>\n",
              "      <th>country</th>\n",
              "      <th>cases_now</th>\n",
              "      <th>cases_prec</th>\n",
              "      <th>case_change</th>\n",
              "      <th>cases_1m</th>\n",
              "      <th>population</th>\n",
              "    </tr>\n",
              "  </thead>\n",
              "  <tbody>\n",
              "    <tr>\n",
              "      <th>0</th>\n",
              "      <td>Brazil</td>\n",
              "      <td>143800</td>\n",
              "      <td>157732</td>\n",
              "      <td>-9.0</td>\n",
              "      <td>668.0</td>\n",
              "      <td>215241599</td>\n",
              "    </tr>\n",
              "    <tr>\n",
              "      <th>1</th>\n",
              "      <td>France</td>\n",
              "      <td>935108</td>\n",
              "      <td>952013</td>\n",
              "      <td>-2.0</td>\n",
              "      <td>14270.0</td>\n",
              "      <td>65529910</td>\n",
              "    </tr>\n",
              "    <tr>\n",
              "      <th>2</th>\n",
              "      <td>Germany</td>\n",
              "      <td>977384</td>\n",
              "      <td>1256200</td>\n",
              "      <td>-22.0</td>\n",
              "      <td>11600.0</td>\n",
              "      <td>84259518</td>\n",
              "    </tr>\n",
              "    <tr>\n",
              "      <th>3</th>\n",
              "      <td>India</td>\n",
              "      <td>7091</td>\n",
              "      <td>7710</td>\n",
              "      <td>-8.0</td>\n",
              "      <td>5.0</td>\n",
              "      <td>1404087743</td>\n",
              "    </tr>\n",
              "    <tr>\n",
              "      <th>4</th>\n",
              "      <td>Italy</td>\n",
              "      <td>438144</td>\n",
              "      <td>476296</td>\n",
              "      <td>-8.0</td>\n",
              "      <td>7266.0</td>\n",
              "      <td>60304008</td>\n",
              "    </tr>\n",
              "    <tr>\n",
              "      <th>5</th>\n",
              "      <td>Russia</td>\n",
              "      <td>92721</td>\n",
              "      <td>122601</td>\n",
              "      <td>-24.0</td>\n",
              "      <td>635.0</td>\n",
              "      <td>146045544</td>\n",
              "    </tr>\n",
              "    <tr>\n",
              "      <th>6</th>\n",
              "      <td>S. Korea</td>\n",
              "      <td>1367873</td>\n",
              "      <td>1916973</td>\n",
              "      <td>-29.0</td>\n",
              "      <td>26640.0</td>\n",
              "      <td>51347510</td>\n",
              "    </tr>\n",
              "    <tr>\n",
              "      <th>7</th>\n",
              "      <td>Turkey</td>\n",
              "      <td>52911</td>\n",
              "      <td>88360</td>\n",
              "      <td>-40.0</td>\n",
              "      <td>616.0</td>\n",
              "      <td>85949948</td>\n",
              "    </tr>\n",
              "    <tr>\n",
              "      <th>8</th>\n",
              "      <td>UK</td>\n",
              "      <td>242883</td>\n",
              "      <td>388122</td>\n",
              "      <td>-37.0</td>\n",
              "      <td>3545.0</td>\n",
              "      <td>68519051</td>\n",
              "    </tr>\n",
              "    <tr>\n",
              "      <th>9</th>\n",
              "      <td>USA</td>\n",
              "      <td>206520</td>\n",
              "      <td>206409</td>\n",
              "      <td>0.1</td>\n",
              "      <td>617.0</td>\n",
              "      <td>334448237</td>\n",
              "    </tr>\n",
              "  </tbody>\n",
              "</table>\n",
              "</div>"
            ],
            "text/plain": [
              "    country  cases_now  cases_prec  case_change  cases_1m  population\n",
              "0    Brazil     143800      157732         -9.0     668.0   215241599\n",
              "1    France     935108      952013         -2.0   14270.0    65529910\n",
              "2   Germany     977384     1256200        -22.0   11600.0    84259518\n",
              "3     India       7091        7710         -8.0       5.0  1404087743\n",
              "4     Italy     438144      476296         -8.0    7266.0    60304008\n",
              "5    Russia      92721      122601        -24.0     635.0   146045544\n",
              "6  S. Korea    1367873     1916973        -29.0   26640.0    51347510\n",
              "7    Turkey      52911       88360        -40.0     616.0    85949948\n",
              "8        UK     242883      388122        -37.0    3545.0    68519051\n",
              "9       USA     206520      206409          0.1     617.0   334448237"
            ]
          },
          "execution_count": 9,
          "metadata": {},
          "output_type": "execute_result"
        }
      ],
      "source": [
        "top_country = ['USA', 'S. Korea', 'India', 'Brazil','France', 'Germany', 'Russia', 'Italy', 'Turkey', 'UK']\n",
        "covid_top = covid[covid.country.isin(top_country)].reset_index(drop=True)\n",
        "covid_top"
      ]
    },
    {
      "cell_type": "code",
      "execution_count": 182,
      "metadata": {
        "colab": {
          "base_uri": "https://localhost:8080/"
        },
        "id": "fG-F82dxYKUV",
        "outputId": "c2af0046-f083-4950-84f2-21912eb958c0"
      },
      "outputs": [
        {
          "name": "stdout",
          "output_type": "stream",
          "text": [
            "10\n"
          ]
        }
      ],
      "source": [
        "print(len(covid_top))"
      ]
    },
    {
      "cell_type": "markdown",
      "metadata": {
        "id": "3oSH90kjYhGj"
      },
      "source": [
        "최근 2주간 데이터에서는 확진자 수의 차이가 국가 간에 크기 때문에, 로그변환을 하여서 비교하고자 했습니다."
      ]
    },
    {
      "cell_type": "code",
      "execution_count": 10,
      "metadata": {
        "colab": {
          "base_uri": "https://localhost:8080/",
          "height": 363
        },
        "id": "ISOVPHpsfv3_",
        "outputId": "b6c477da-53b9-4194-8b34-b03ed62ea861"
      },
      "outputs": [
        {
          "data": {
            "text/html": [
              "<div>\n",
              "<style scoped>\n",
              "    .dataframe tbody tr th:only-of-type {\n",
              "        vertical-align: middle;\n",
              "    }\n",
              "\n",
              "    .dataframe tbody tr th {\n",
              "        vertical-align: top;\n",
              "    }\n",
              "\n",
              "    .dataframe thead th {\n",
              "        text-align: right;\n",
              "    }\n",
              "</style>\n",
              "<table border=\"1\" class=\"dataframe\">\n",
              "  <thead>\n",
              "    <tr style=\"text-align: right;\">\n",
              "      <th></th>\n",
              "      <th>country</th>\n",
              "      <th>cases_now</th>\n",
              "      <th>cases_prec</th>\n",
              "      <th>case_change</th>\n",
              "      <th>cases_1m</th>\n",
              "      <th>population</th>\n",
              "      <th>log_now</th>\n",
              "      <th>log_prec</th>\n",
              "    </tr>\n",
              "  </thead>\n",
              "  <tbody>\n",
              "    <tr>\n",
              "      <th>0</th>\n",
              "      <td>Brazil</td>\n",
              "      <td>143800</td>\n",
              "      <td>157732</td>\n",
              "      <td>-9.0</td>\n",
              "      <td>668.0</td>\n",
              "      <td>215241599</td>\n",
              "      <td>11.876186</td>\n",
              "      <td>11.968659</td>\n",
              "    </tr>\n",
              "    <tr>\n",
              "      <th>1</th>\n",
              "      <td>France</td>\n",
              "      <td>935108</td>\n",
              "      <td>952013</td>\n",
              "      <td>-2.0</td>\n",
              "      <td>14270.0</td>\n",
              "      <td>65529910</td>\n",
              "      <td>13.748418</td>\n",
              "      <td>13.766335</td>\n",
              "    </tr>\n",
              "    <tr>\n",
              "      <th>2</th>\n",
              "      <td>Germany</td>\n",
              "      <td>977384</td>\n",
              "      <td>1256200</td>\n",
              "      <td>-22.0</td>\n",
              "      <td>11600.0</td>\n",
              "      <td>84259518</td>\n",
              "      <td>13.792636</td>\n",
              "      <td>14.043603</td>\n",
              "    </tr>\n",
              "    <tr>\n",
              "      <th>3</th>\n",
              "      <td>India</td>\n",
              "      <td>7091</td>\n",
              "      <td>7710</td>\n",
              "      <td>-8.0</td>\n",
              "      <td>5.0</td>\n",
              "      <td>1404087743</td>\n",
              "      <td>8.866723</td>\n",
              "      <td>8.950403</td>\n",
              "    </tr>\n",
              "    <tr>\n",
              "      <th>4</th>\n",
              "      <td>Italy</td>\n",
              "      <td>438144</td>\n",
              "      <td>476296</td>\n",
              "      <td>-8.0</td>\n",
              "      <td>7266.0</td>\n",
              "      <td>60304008</td>\n",
              "      <td>12.990305</td>\n",
              "      <td>13.073797</td>\n",
              "    </tr>\n",
              "    <tr>\n",
              "      <th>5</th>\n",
              "      <td>Russia</td>\n",
              "      <td>92721</td>\n",
              "      <td>122601</td>\n",
              "      <td>-24.0</td>\n",
              "      <td>635.0</td>\n",
              "      <td>146045544</td>\n",
              "      <td>11.437361</td>\n",
              "      <td>11.716699</td>\n",
              "    </tr>\n",
              "    <tr>\n",
              "      <th>6</th>\n",
              "      <td>S. Korea</td>\n",
              "      <td>1367873</td>\n",
              "      <td>1916973</td>\n",
              "      <td>-29.0</td>\n",
              "      <td>26640.0</td>\n",
              "      <td>51347510</td>\n",
              "      <td>14.128768</td>\n",
              "      <td>14.466258</td>\n",
              "    </tr>\n",
              "    <tr>\n",
              "      <th>7</th>\n",
              "      <td>Turkey</td>\n",
              "      <td>52911</td>\n",
              "      <td>88360</td>\n",
              "      <td>-40.0</td>\n",
              "      <td>616.0</td>\n",
              "      <td>85949948</td>\n",
              "      <td>10.876385</td>\n",
              "      <td>11.389186</td>\n",
              "    </tr>\n",
              "    <tr>\n",
              "      <th>8</th>\n",
              "      <td>UK</td>\n",
              "      <td>242883</td>\n",
              "      <td>388122</td>\n",
              "      <td>-37.0</td>\n",
              "      <td>3545.0</td>\n",
              "      <td>68519051</td>\n",
              "      <td>12.400339</td>\n",
              "      <td>12.869078</td>\n",
              "    </tr>\n",
              "    <tr>\n",
              "      <th>9</th>\n",
              "      <td>USA</td>\n",
              "      <td>206520</td>\n",
              "      <td>206409</td>\n",
              "      <td>0.1</td>\n",
              "      <td>617.0</td>\n",
              "      <td>334448237</td>\n",
              "      <td>12.238157</td>\n",
              "      <td>12.237620</td>\n",
              "    </tr>\n",
              "  </tbody>\n",
              "</table>\n",
              "</div>"
            ],
            "text/plain": [
              "    country  cases_now  cases_prec  case_change  cases_1m  population  \\\n",
              "0    Brazil     143800      157732         -9.0     668.0   215241599   \n",
              "1    France     935108      952013         -2.0   14270.0    65529910   \n",
              "2   Germany     977384     1256200        -22.0   11600.0    84259518   \n",
              "3     India       7091        7710         -8.0       5.0  1404087743   \n",
              "4     Italy     438144      476296         -8.0    7266.0    60304008   \n",
              "5    Russia      92721      122601        -24.0     635.0   146045544   \n",
              "6  S. Korea    1367873     1916973        -29.0   26640.0    51347510   \n",
              "7    Turkey      52911       88360        -40.0     616.0    85949948   \n",
              "8        UK     242883      388122        -37.0    3545.0    68519051   \n",
              "9       USA     206520      206409          0.1     617.0   334448237   \n",
              "\n",
              "     log_now   log_prec  \n",
              "0  11.876186  11.968659  \n",
              "1  13.748418  13.766335  \n",
              "2  13.792636  14.043603  \n",
              "3   8.866723   8.950403  \n",
              "4  12.990305  13.073797  \n",
              "5  11.437361  11.716699  \n",
              "6  14.128768  14.466258  \n",
              "7  10.876385  11.389186  \n",
              "8  12.400339  12.869078  \n",
              "9  12.238157  12.237620  "
            ]
          },
          "execution_count": 10,
          "metadata": {},
          "output_type": "execute_result"
        }
      ],
      "source": [
        "covid_top['log_now'] = np.log1p(covid_top['cases_now'])\n",
        "covid_top['log_prec'] = np.log1p(covid_top['cases_prec'])\n",
        "covid_top"
      ]
    },
    {
      "cell_type": "code",
      "execution_count": 11,
      "metadata": {
        "colab": {
          "base_uri": "https://localhost:8080/",
          "height": 268
        },
        "id": "tonS3M0QY47R",
        "outputId": "b9f9c474-20f9-487f-b374-820478c7f2e8"
      },
      "outputs": [
        {
          "data": {
            "text/html": [
              "<div>\n",
              "<style scoped>\n",
              "    .dataframe tbody tr th:only-of-type {\n",
              "        vertical-align: middle;\n",
              "    }\n",
              "\n",
              "    .dataframe tbody tr th {\n",
              "        vertical-align: top;\n",
              "    }\n",
              "\n",
              "    .dataframe thead th {\n",
              "        text-align: right;\n",
              "    }\n",
              "</style>\n",
              "<table border=\"1\" class=\"dataframe\">\n",
              "  <thead>\n",
              "    <tr style=\"text-align: right;\">\n",
              "      <th></th>\n",
              "      <th>count</th>\n",
              "      <th>mean</th>\n",
              "      <th>std</th>\n",
              "      <th>min</th>\n",
              "      <th>25%</th>\n",
              "      <th>50%</th>\n",
              "      <th>75%</th>\n",
              "      <th>max</th>\n",
              "    </tr>\n",
              "  </thead>\n",
              "  <tbody>\n",
              "    <tr>\n",
              "      <th>cases_now</th>\n",
              "      <td>10.0</td>\n",
              "      <td>4.464435e+05</td>\n",
              "      <td>4.753248e+05</td>\n",
              "      <td>7.091000e+03</td>\n",
              "      <td>1.054908e+05</td>\n",
              "      <td>2.247015e+05</td>\n",
              "      <td>8.108670e+05</td>\n",
              "      <td>1.367873e+06</td>\n",
              "    </tr>\n",
              "    <tr>\n",
              "      <th>cases_prec</th>\n",
              "      <td>10.0</td>\n",
              "      <td>5.572416e+05</td>\n",
              "      <td>6.255530e+05</td>\n",
              "      <td>7.710000e+03</td>\n",
              "      <td>1.313838e+05</td>\n",
              "      <td>2.972655e+05</td>\n",
              "      <td>8.330838e+05</td>\n",
              "      <td>1.916973e+06</td>\n",
              "    </tr>\n",
              "    <tr>\n",
              "      <th>case_change</th>\n",
              "      <td>10.0</td>\n",
              "      <td>-1.789000e+01</td>\n",
              "      <td>1.446255e+01</td>\n",
              "      <td>-4.000000e+01</td>\n",
              "      <td>-2.775000e+01</td>\n",
              "      <td>-1.550000e+01</td>\n",
              "      <td>-8.000000e+00</td>\n",
              "      <td>1.000000e-01</td>\n",
              "    </tr>\n",
              "    <tr>\n",
              "      <th>cases_1m</th>\n",
              "      <td>10.0</td>\n",
              "      <td>6.586200e+03</td>\n",
              "      <td>8.699129e+03</td>\n",
              "      <td>5.000000e+00</td>\n",
              "      <td>6.215000e+02</td>\n",
              "      <td>2.106500e+03</td>\n",
              "      <td>1.051650e+04</td>\n",
              "      <td>2.664000e+04</td>\n",
              "    </tr>\n",
              "    <tr>\n",
              "      <th>population</th>\n",
              "      <td>10.0</td>\n",
              "      <td>2.515733e+08</td>\n",
              "      <td>4.147066e+08</td>\n",
              "      <td>5.134751e+07</td>\n",
              "      <td>6.627720e+07</td>\n",
              "      <td>8.510473e+07</td>\n",
              "      <td>1.979426e+08</td>\n",
              "      <td>1.404088e+09</td>\n",
              "    </tr>\n",
              "    <tr>\n",
              "      <th>log_now</th>\n",
              "      <td>10.0</td>\n",
              "      <td>1.223553e+01</td>\n",
              "      <td>1.593632e+00</td>\n",
              "      <td>8.866723e+00</td>\n",
              "      <td>1.154707e+01</td>\n",
              "      <td>1.231925e+01</td>\n",
              "      <td>1.355889e+01</td>\n",
              "      <td>1.412877e+01</td>\n",
              "    </tr>\n",
              "    <tr>\n",
              "      <th>log_prec</th>\n",
              "      <td>10.0</td>\n",
              "      <td>1.244816e+01</td>\n",
              "      <td>1.601713e+00</td>\n",
              "      <td>8.950403e+00</td>\n",
              "      <td>1.177969e+01</td>\n",
              "      <td>1.255335e+01</td>\n",
              "      <td>1.359320e+01</td>\n",
              "      <td>1.446626e+01</td>\n",
              "    </tr>\n",
              "  </tbody>\n",
              "</table>\n",
              "</div>"
            ],
            "text/plain": [
              "             count          mean           std           min           25%  \\\n",
              "cases_now     10.0  4.464435e+05  4.753248e+05  7.091000e+03  1.054908e+05   \n",
              "cases_prec    10.0  5.572416e+05  6.255530e+05  7.710000e+03  1.313838e+05   \n",
              "case_change   10.0 -1.789000e+01  1.446255e+01 -4.000000e+01 -2.775000e+01   \n",
              "cases_1m      10.0  6.586200e+03  8.699129e+03  5.000000e+00  6.215000e+02   \n",
              "population    10.0  2.515733e+08  4.147066e+08  5.134751e+07  6.627720e+07   \n",
              "log_now       10.0  1.223553e+01  1.593632e+00  8.866723e+00  1.154707e+01   \n",
              "log_prec      10.0  1.244816e+01  1.601713e+00  8.950403e+00  1.177969e+01   \n",
              "\n",
              "                      50%           75%           max  \n",
              "cases_now    2.247015e+05  8.108670e+05  1.367873e+06  \n",
              "cases_prec   2.972655e+05  8.330838e+05  1.916973e+06  \n",
              "case_change -1.550000e+01 -8.000000e+00  1.000000e-01  \n",
              "cases_1m     2.106500e+03  1.051650e+04  2.664000e+04  \n",
              "population   8.510473e+07  1.979426e+08  1.404088e+09  \n",
              "log_now      1.231925e+01  1.355889e+01  1.412877e+01  \n",
              "log_prec     1.255335e+01  1.359320e+01  1.446626e+01  "
            ]
          },
          "execution_count": 11,
          "metadata": {},
          "output_type": "execute_result"
        }
      ],
      "source": [
        "covid_top.describe().T"
      ]
    },
    {
      "cell_type": "code",
      "execution_count": 12,
      "metadata": {
        "colab": {
          "base_uri": "https://localhost:8080/",
          "height": 496
        },
        "id": "A8xX8H6AWH6l",
        "outputId": "54c1cc35-f436-47f0-a28e-b35bd43d5bb7"
      },
      "outputs": [
        {
          "data": {
            "image/png": "[encoded data removed]",
            "text/plain": [
              "<Figure size 576x576 with 1 Axes>"
            ]
          },
          "metadata": {
            "needs_background": "light"
          },
          "output_type": "display_data"
        }
      ],
      "source": [
        "fig, ax = plt.subplots(figsize = (8,8))\n",
        "sns.barplot(data=covid_top, x='country', y='case_change')\n",
        "plt.ylabel('Weekly change (%)', size = 13)\n",
        "plt.show()\n",
        "# plt.savefig('/content/drive/MyDrive/Colab Notebooks/감소 추세.png', dpi=300)"
      ]
    },
    {
      "cell_type": "markdown",
      "metadata": {
        "id": "2_MpWggGZMj0"
      },
      "source": [
        "=> 1. 미국에서는 확진자 수의 변화가 거의 없으며,  \n",
        "=> 2. 미국을 제외한 나라에서는 각 나라에서 전주 대비 8%~40%, 평균 약 18% 정도 확진자 수가 줄었음을 확인할 수 있습니다."
      ]
    },
    {
      "cell_type": "code",
      "execution_count": 26,
      "metadata": {
        "colab": {
          "base_uri": "https://localhost:8080/",
          "height": 504
        },
        "id": "2IY6LAh8bt6d",
        "outputId": "fdb6059b-0c92-4856-eda8-34acfeb119a8"
      },
      "outputs": [
        {
          "data": {
            "image/png": "[encoded data removed]",
            "text/plain": [
              "<Figure size 1152x576 with 2 Axes>"
            ]
          },
          "metadata": {
            "needs_background": "light"
          },
          "output_type": "display_data"
        }
      ],
      "source": [
        "# 그림 사이즈, 바 굵기 조정\n",
        "fig, ax = plt.subplots(figsize=(16,8))\n",
        "bar_width = 0.25\n",
        "\n",
        "index = np.arange(len(covid_top))\n",
        "\n",
        "b1 = plt.bar(index - bar_width/2, covid_top['log_prec'], bar_width, alpha=0.4, color='red', label='March 30 - April 05')\n",
        "\n",
        "b2 = plt.bar(index + bar_width/2, covid_top['log_now'], bar_width, alpha=0.4, color='blue', label='April 06 - April 13')\n",
        "\n",
        "plt.xticks(np.arange(0, len(covid_top)), labels=covid_top['country'])\n",
        "plt.ylim(8, 15)\n",
        "\n",
        "# x축, y축 이름 및 범례 설정\n",
        "plt.xlabel('Top 10 country (Over 20 thousand cumulative cases)', size = 13)\n",
        "plt.ylabel('confirmed case number (log)', size = 13)\n",
        "plt.legend()\n",
        "\n",
        "ax2 = ax.twinx()\n",
        "ax2.stem(index, covid_top['case_change'])\n",
        "ax2.invert_yaxis()\n",
        "ax2.set_ylabel('decrease in cases (%)', size=13)\n",
        "plt.show()\n",
        "# plt.savefig('/content/drive/MyDrive/Colab Notebooks/나라별 확진자 수.png', dpi=300)"
      ]
    },
    {
      "cell_type": "code",
      "execution_count": 187,
      "metadata": {
        "colab": {
          "base_uri": "https://localhost:8080/",
          "height": 112
        },
        "id": "931K46uWm4Fc",
        "outputId": "99f57d25-9b35-463d-be9e-e596a2112808"
      },
      "outputs": [
        {
          "data": {
            "text/html": [
              "\n",
              "  <div id=\"df-f86a96a7-2cf8-4b36-86ac-8f9a1f6bbc77\">\n",
              "    <div class=\"colab-df-container\">\n",
              "      <div>\n",
              "<style scoped>\n",
              "    .dataframe tbody tr th:only-of-type {\n",
              "        vertical-align: middle;\n",
              "    }\n",
              "\n",
              "    .dataframe tbody tr th {\n",
              "        vertical-align: top;\n",
              "    }\n",
              "\n",
              "    .dataframe thead th {\n",
              "        text-align: right;\n",
              "    }\n",
              "</style>\n",
              "<table border=\"1\" class=\"dataframe\">\n",
              "  <thead>\n",
              "    <tr style=\"text-align: right;\">\n",
              "      <th></th>\n",
              "      <th>Brazil</th>\n",
              "      <th>France</th>\n",
              "      <th>Germany</th>\n",
              "      <th>India</th>\n",
              "      <th>Italy</th>\n",
              "      <th>Russia</th>\n",
              "      <th>S. Korea</th>\n",
              "      <th>Turkey</th>\n",
              "      <th>UK</th>\n",
              "      <th>USA</th>\n",
              "      <th>total_mean</th>\n",
              "    </tr>\n",
              "  </thead>\n",
              "  <tbody>\n",
              "    <tr>\n",
              "      <th>0</th>\n",
              "      <td>157732</td>\n",
              "      <td>952013</td>\n",
              "      <td>1256200</td>\n",
              "      <td>7710</td>\n",
              "      <td>476296</td>\n",
              "      <td>122601</td>\n",
              "      <td>1916973</td>\n",
              "      <td>88360</td>\n",
              "      <td>388122</td>\n",
              "      <td>206409</td>\n",
              "      <td>557241.6</td>\n",
              "    </tr>\n",
              "    <tr>\n",
              "      <th>1</th>\n",
              "      <td>143800</td>\n",
              "      <td>935108</td>\n",
              "      <td>977384</td>\n",
              "      <td>7091</td>\n",
              "      <td>438144</td>\n",
              "      <td>92721</td>\n",
              "      <td>1367873</td>\n",
              "      <td>52911</td>\n",
              "      <td>242883</td>\n",
              "      <td>206520</td>\n",
              "      <td>446443.5</td>\n",
              "    </tr>\n",
              "  </tbody>\n",
              "</table>\n",
              "</div>\n",
              "      <button class=\"colab-df-convert\" onclick=\"convertToInteractive('df-f86a96a7-2cf8-4b36-86ac-8f9a1f6bbc77')\"\n",
              "              title=\"Convert this dataframe to an interactive table.\"\n",
              "              style=\"display:none;\">\n",
              "        \n",
              "  <svg xmlns=\"http://www.w3.org/2000/svg\" height=\"24px\"viewBox=\"0 0 24 24\"\n",
              "       width=\"24px\">\n",
              "    <path d=\"M0 0h24v24H0V0z\" fill=\"none\"/>\n",
              "    <path d=\"M18.56 5.44l.94 2.06.94-2.06 2.06-.94-2.06-.94-.94-2.06-.94 2.06-2.06.94zm-11 1L8.5 8.5l.94-2.06 2.06-.94-2.06-.94L8.5 2.5l-.94 2.06-2.06.94zm10 10l.94 2.06.94-2.06 2.06-.94-2.06-.94-.94-2.06-.94 2.06-2.06.94z\"/><path d=\"M17.41 7.96l-1.37-1.37c-.4-.4-.92-.59-1.43-.59-.52 0-1.04.2-1.43.59L10.3 9.45l-7.72 7.72c-.78.78-.78 2.05 0 2.83L4 21.41c.39.39.9.59 1.41.59.51 0 1.02-.2 1.41-.59l7.78-7.78 2.81-2.81c.8-.78.8-2.07 0-2.86zM5.41 20L4 18.59l7.72-7.72 1.47 1.35L5.41 20z\"/>\n",
              "  </svg>\n",
              "      </button>\n",
              "      \n",
              "  <style>\n",
              "    .colab-df-container {\n",
              "      display:flex;\n",
              "      flex-wrap:wrap;\n",
              "      gap: 12px;\n",
              "    }\n",
              "\n",
              "    .colab-df-convert {\n",
              "      background-color: #E8F0FE;\n",
              "      border: none;\n",
              "      border-radius: 50%;\n",
              "      cursor: pointer;\n",
              "      display: none;\n",
              "      fill: #1967D2;\n",
              "      height: 32px;\n",
              "      padding: 0 0 0 0;\n",
              "      width: 32px;\n",
              "    }\n",
              "\n",
              "    .colab-df-convert:hover {\n",
              "      background-color: #E2EBFA;\n",
              "      box-shadow: 0px 1px 2px rgba(60, 64, 67, 0.3), 0px 1px 3px 1px rgba(60, 64, 67, 0.15);\n",
              "      fill: #174EA6;\n",
              "    }\n",
              "\n",
              "    [theme=dark] .colab-df-convert {\n",
              "      background-color: #3B4455;\n",
              "      fill: #D2E3FC;\n",
              "    }\n",
              "\n",
              "    [theme=dark] .colab-df-convert:hover {\n",
              "      background-color: #434B5C;\n",
              "      box-shadow: 0px 1px 3px 1px rgba(0, 0, 0, 0.15);\n",
              "      filter: drop-shadow(0px 1px 2px rgba(0, 0, 0, 0.3));\n",
              "      fill: #FFFFFF;\n",
              "    }\n",
              "  </style>\n",
              "\n",
              "      <script>\n",
              "        const buttonEl =\n",
              "          document.querySelector('#df-f86a96a7-2cf8-4b36-86ac-8f9a1f6bbc77 button.colab-df-convert');\n",
              "        buttonEl.style.display =\n",
              "          google.colab.kernel.accessAllowed ? 'block' : 'none';\n",
              "\n",
              "        async function convertToInteractive(key) {\n",
              "          const element = document.querySelector('#df-f86a96a7-2cf8-4b36-86ac-8f9a1f6bbc77');\n",
              "          const dataTable =\n",
              "            await google.colab.kernel.invokeFunction('convertToInteractive',\n",
              "                                                     [key], {});\n",
              "          if (!dataTable) return;\n",
              "\n",
              "          const docLinkHtml = 'Like what you see? Visit the ' +\n",
              "            '<a target=\"_blank\" href=https://colab.research.google.com/notebooks/data_table.ipynb>data table notebook</a>'\n",
              "            + ' to learn more about interactive tables.';\n",
              "          element.innerHTML = '';\n",
              "          dataTable['output_type'] = 'display_data';\n",
              "          await google.colab.output.renderOutput(dataTable, element);\n",
              "          const docLink = document.createElement('div');\n",
              "          docLink.innerHTML = docLinkHtml;\n",
              "          element.appendChild(docLink);\n",
              "        }\n",
              "      </script>\n",
              "    </div>\n",
              "  </div>\n",
              "  "
            ],
            "text/plain": [
              "   Brazil  France  Germany  India   Italy  Russia  S. Korea  Turkey      UK  \\\n",
              "0  157732  952013  1256200   7710  476296  122601   1916973   88360  388122   \n",
              "1  143800  935108   977384   7091  438144   92721   1367873   52911  242883   \n",
              "\n",
              "      USA  total_mean  \n",
              "0  206409    557241.6  \n",
              "1  206520    446443.5  "
            ]
          },
          "execution_count": 187,
          "metadata": {},
          "output_type": "execute_result"
        }
      ],
      "source": [
        "temp = pd.DataFrame({})\n",
        "covid_top.country\n",
        "for idx in range(len(covid_top['country'])) :\n",
        "  name = covid_top.country[idx]\n",
        "  temp[name] = [covid_top.iloc[idx]['cases_prec'], covid_top.iloc[idx]['cases_now']]\n",
        "temp['total_mean'] = temp.mean(axis=1)\n",
        "temp"
      ]
    },
    {
      "cell_type": "code",
      "execution_count": 200,
      "metadata": {
        "colab": {
          "base_uri": "https://localhost:8080/",
          "height": 494
        },
        "id": "Ezdo7hUmyVUg",
        "outputId": "e702c005-24bd-4db8-c03c-107d182b020c"
      },
      "outputs": [
        {
          "data": {
            "image/png": "[encoded data removed]",
            "text/plain": [
              "<Figure size 576x576 with 1 Axes>"
            ]
          },
          "metadata": {
            "needs_background": "light"
          },
          "output_type": "display_data"
        }
      ],
      "source": [
        "plt.figure(figsize=(8,8))\n",
        "sns.barplot(data=temp, x=[0,1], y='S. Korea', label='South Korea', color='lightblue')\n",
        "plt.plot([0,1], temp['total_mean'], color='green', label='Total: Top 10 country')\n",
        "plt.xticks(np.arange(0,2), labels=['March 30 - April 05', 'April 06 - April 13'])\n",
        "plt.ylabel('confirmed case number', size=13)\n",
        "plt.legend()\n",
        "plt.show()\n",
        "# plt.savefig('/content/drive/MyDrive/Colab Notebooks/한국과 전체.png', dpi=300)"
      ]
    },
    {
      "cell_type": "markdown",
      "metadata": {
        "id": "TpFWhFL0MJQs"
      },
      "source": [
        "# 미국 여행객 수 분석\n",
        "### 사용 데이터 \n",
        "- [Trips by US people(from 2019 to Nov 2021)](https://www.kaggle.com/datasets/ramjasmaurya/trips-by-distancefrom-2019-to-nov-2021)"
      ]
    },
    {
      "cell_type": "markdown",
      "metadata": {
        "id": "l5Y7_WtYc-yP"
      },
      "source": [
        "## Contents\n",
        "1. 데이터 준비  \n",
        "1-1. 데이터 읽어오기  \n",
        "1-2. 데이터 전처리  \n",
        "2. 데이터 분석  \n",
        "2-1. 분석 목표 구체화  \n",
        "2-2. 분석 및 시각화"
      ]
    },
    {
      "cell_type": "markdown",
      "metadata": {
        "id": "fTv-louNdMvt"
      },
      "source": [
        "## 1. 데이터 준비"
      ]
    },
    {
      "cell_type": "markdown",
      "metadata": {
        "id": "_53RKNTddRWI"
      },
      "source": [
        "### 1-1. 데이터 읽어오기"
      ]
    },
    {
      "cell_type": "code",
      "execution_count": 189,
      "metadata": {
        "colab": {
          "base_uri": "https://localhost:8080/",
          "height": 284
        },
        "id": "zUdyjvxSnzJB",
        "outputId": "55d96d83-033c-44f4-95d9-688c630be72f"
      },
      "outputs": [
        {
          "data": {
            "text/html": [
              "\n",
              "  <div id=\"df-ffde56dd-9c90-4619-ba6f-4525e62d8c69\">\n",
              "    <div class=\"colab-df-container\">\n",
              "      <div>\n",
              "<style scoped>\n",
              "    .dataframe tbody tr th:only-of-type {\n",
              "        vertical-align: middle;\n",
              "    }\n",
              "\n",
              "    .dataframe tbody tr th {\n",
              "        vertical-align: top;\n",
              "    }\n",
              "\n",
              "    .dataframe thead th {\n",
              "        text-align: right;\n",
              "    }\n",
              "</style>\n",
              "<table border=\"1\" class=\"dataframe\">\n",
              "  <thead>\n",
              "    <tr style=\"text-align: right;\">\n",
              "      <th></th>\n",
              "      <th>Unnamed: 0</th>\n",
              "      <th>Level</th>\n",
              "      <th>Date</th>\n",
              "      <th>Population Staying at Home</th>\n",
              "      <th>Population Not Staying at Home</th>\n",
              "      <th>Number of Trips</th>\n",
              "      <th>Number of Trips &lt;1</th>\n",
              "      <th>Number of Trips 1-3</th>\n",
              "      <th>Number of Trips 3-5</th>\n",
              "      <th>Number of Trips 5-10</th>\n",
              "      <th>Number of Trips 10-25</th>\n",
              "      <th>Number of Trips 25-50</th>\n",
              "      <th>Number of Trips 50-100</th>\n",
              "      <th>Number of Trips 100-250</th>\n",
              "      <th>Number of Trips 250-500</th>\n",
              "      <th>Number of Trips &gt;=500</th>\n",
              "      <th>Week</th>\n",
              "      <th>Month</th>\n",
              "    </tr>\n",
              "  </thead>\n",
              "  <tbody>\n",
              "    <tr>\n",
              "      <th>0</th>\n",
              "      <td>0</td>\n",
              "      <td>National</td>\n",
              "      <td>2019/01/01</td>\n",
              "      <td>77,433,867</td>\n",
              "      <td>248,733,553</td>\n",
              "      <td>897,784,368</td>\n",
              "      <td>241,667,151</td>\n",
              "      <td>234,284,795</td>\n",
              "      <td>108,078,903</td>\n",
              "      <td>129,670,778</td>\n",
              "      <td>116,904,343</td>\n",
              "      <td>40,432,062</td>\n",
              "      <td>15,686,639</td>\n",
              "      <td>7,525,563</td>\n",
              "      <td>1,806,022</td>\n",
              "      <td>1,728,112</td>\n",
              "      <td>0</td>\n",
              "      <td>1</td>\n",
              "    </tr>\n",
              "    <tr>\n",
              "      <th>1</th>\n",
              "      <td>1</td>\n",
              "      <td>National</td>\n",
              "      <td>2019/01/02</td>\n",
              "      <td>61,305,201</td>\n",
              "      <td>264,862,219</td>\n",
              "      <td>1,139,452,281</td>\n",
              "      <td>291,276,735</td>\n",
              "      <td>285,887,315</td>\n",
              "      <td>138,039,296</td>\n",
              "      <td>171,637,514</td>\n",
              "      <td>167,412,698</td>\n",
              "      <td>56,148,976</td>\n",
              "      <td>17,739,183</td>\n",
              "      <td>7,817,044</td>\n",
              "      <td>1,962,301</td>\n",
              "      <td>1,531,219</td>\n",
              "      <td>0</td>\n",
              "      <td>1</td>\n",
              "    </tr>\n",
              "    <tr>\n",
              "      <th>2</th>\n",
              "      <td>2</td>\n",
              "      <td>National</td>\n",
              "      <td>2019/01/03</td>\n",
              "      <td>63,050,480</td>\n",
              "      <td>263,116,940</td>\n",
              "      <td>1,162,752,684</td>\n",
              "      <td>296,375,014</td>\n",
              "      <td>290,074,425</td>\n",
              "      <td>140,771,581</td>\n",
              "      <td>175,775,410</td>\n",
              "      <td>172,027,487</td>\n",
              "      <td>57,632,422</td>\n",
              "      <td>18,366,626</td>\n",
              "      <td>8,124,548</td>\n",
              "      <td>2,038,099</td>\n",
              "      <td>1,567,072</td>\n",
              "      <td>0</td>\n",
              "      <td>1</td>\n",
              "    </tr>\n",
              "    <tr>\n",
              "      <th>3</th>\n",
              "      <td>3</td>\n",
              "      <td>National</td>\n",
              "      <td>2019/01/04</td>\n",
              "      <td>61,803,652</td>\n",
              "      <td>264,363,768</td>\n",
              "      <td>1,181,953,829</td>\n",
              "      <td>293,159,631</td>\n",
              "      <td>295,643,296</td>\n",
              "      <td>145,251,819</td>\n",
              "      <td>181,324,645</td>\n",
              "      <td>176,144,493</td>\n",
              "      <td>58,761,592</td>\n",
              "      <td>19,315,785</td>\n",
              "      <td>8,687,318</td>\n",
              "      <td>2,096,065</td>\n",
              "      <td>1,569,185</td>\n",
              "      <td>0</td>\n",
              "      <td>1</td>\n",
              "    </tr>\n",
              "    <tr>\n",
              "      <th>4</th>\n",
              "      <td>4</td>\n",
              "      <td>National</td>\n",
              "      <td>2019/01/05</td>\n",
              "      <td>64,389,745</td>\n",
              "      <td>261,777,675</td>\n",
              "      <td>1,180,476,620</td>\n",
              "      <td>295,459,014</td>\n",
              "      <td>304,168,709</td>\n",
              "      <td>148,540,651</td>\n",
              "      <td>180,941,769</td>\n",
              "      <td>165,239,790</td>\n",
              "      <td>54,842,134</td>\n",
              "      <td>19,363,939</td>\n",
              "      <td>8,490,791</td>\n",
              "      <td>1,991,159</td>\n",
              "      <td>1,438,664</td>\n",
              "      <td>0</td>\n",
              "      <td>1</td>\n",
              "    </tr>\n",
              "  </tbody>\n",
              "</table>\n",
              "</div>\n",
              "      <button class=\"colab-df-convert\" onclick=\"convertToInteractive('df-ffde56dd-9c90-4619-ba6f-4525e62d8c69')\"\n",
              "              title=\"Convert this dataframe to an interactive table.\"\n",
              "              style=\"display:none;\">\n",
              "        \n",
              "  <svg xmlns=\"http://www.w3.org/2000/svg\" height=\"24px\"viewBox=\"0 0 24 24\"\n",
              "       width=\"24px\">\n",
              "    <path d=\"M0 0h24v24H0V0z\" fill=\"none\"/>\n",
              "    <path d=\"M18.56 5.44l.94 2.06.94-2.06 2.06-.94-2.06-.94-.94-2.06-.94 2.06-2.06.94zm-11 1L8.5 8.5l.94-2.06 2.06-.94-2.06-.94L8.5 2.5l-.94 2.06-2.06.94zm10 10l.94 2.06.94-2.06 2.06-.94-2.06-.94-.94-2.06-.94 2.06-2.06.94z\"/><path d=\"M17.41 7.96l-1.37-1.37c-.4-.4-.92-.59-1.43-.59-.52 0-1.04.2-1.43.59L10.3 9.45l-7.72 7.72c-.78.78-.78 2.05 0 2.83L4 21.41c.39.39.9.59 1.41.59.51 0 1.02-.2 1.41-.59l7.78-7.78 2.81-2.81c.8-.78.8-2.07 0-2.86zM5.41 20L4 18.59l7.72-7.72 1.47 1.35L5.41 20z\"/>\n",
              "  </svg>\n",
              "      </button>\n",
              "      \n",
              "  <style>\n",
              "    .colab-df-container {\n",
              "      display:flex;\n",
              "      flex-wrap:wrap;\n",
              "      gap: 12px;\n",
              "    }\n",
              "\n",
              "    .colab-df-convert {\n",
              "      background-color: #E8F0FE;\n",
              "      border: none;\n",
              "      border-radius: 50%;\n",
              "      cursor: pointer;\n",
              "      display: none;\n",
              "      fill: #1967D2;\n",
              "      height: 32px;\n",
              "      padding: 0 0 0 0;\n",
              "      width: 32px;\n",
              "    }\n",
              "\n",
              "    .colab-df-convert:hover {\n",
              "      background-color: #E2EBFA;\n",
              "      box-shadow: 0px 1px 2px rgba(60, 64, 67, 0.3), 0px 1px 3px 1px rgba(60, 64, 67, 0.15);\n",
              "      fill: #174EA6;\n",
              "    }\n",
              "\n",
              "    [theme=dark] .colab-df-convert {\n",
              "      background-color: #3B4455;\n",
              "      fill: #D2E3FC;\n",
              "    }\n",
              "\n",
              "    [theme=dark] .colab-df-convert:hover {\n",
              "      background-color: #434B5C;\n",
              "      box-shadow: 0px 1px 3px 1px rgba(0, 0, 0, 0.15);\n",
              "      filter: drop-shadow(0px 1px 2px rgba(0, 0, 0, 0.3));\n",
              "      fill: #FFFFFF;\n",
              "    }\n",
              "  </style>\n",
              "\n",
              "      <script>\n",
              "        const buttonEl =\n",
              "          document.querySelector('#df-ffde56dd-9c90-4619-ba6f-4525e62d8c69 button.colab-df-convert');\n",
              "        buttonEl.style.display =\n",
              "          google.colab.kernel.accessAllowed ? 'block' : 'none';\n",
              "\n",
              "        async function convertToInteractive(key) {\n",
              "          const element = document.querySelector('#df-ffde56dd-9c90-4619-ba6f-4525e62d8c69');\n",
              "          const dataTable =\n",
              "            await google.colab.kernel.invokeFunction('convertToInteractive',\n",
              "                                                     [key], {});\n",
              "          if (!dataTable) return;\n",
              "\n",
              "          const docLinkHtml = 'Like what you see? Visit the ' +\n",
              "            '<a target=\"_blank\" href=https://colab.research.google.com/notebooks/data_table.ipynb>data table notebook</a>'\n",
              "            + ' to learn more about interactive tables.';\n",
              "          element.innerHTML = '';\n",
              "          dataTable['output_type'] = 'display_data';\n",
              "          await google.colab.output.renderOutput(dataTable, element);\n",
              "          const docLink = document.createElement('div');\n",
              "          docLink.innerHTML = docLinkHtml;\n",
              "          element.appendChild(docLink);\n",
              "        }\n",
              "      </script>\n",
              "    </div>\n",
              "  </div>\n",
              "  "
            ],
            "text/plain": [
              "   Unnamed: 0     Level        Date Population Staying at Home  \\\n",
              "0           0  National  2019/01/01                 77,433,867   \n",
              "1           1  National  2019/01/02                 61,305,201   \n",
              "2           2  National  2019/01/03                 63,050,480   \n",
              "3           3  National  2019/01/04                 61,803,652   \n",
              "4           4  National  2019/01/05                 64,389,745   \n",
              "\n",
              "  Population Not Staying at Home Number of Trips Number of Trips <1  \\\n",
              "0                    248,733,553     897,784,368        241,667,151   \n",
              "1                    264,862,219   1,139,452,281        291,276,735   \n",
              "2                    263,116,940   1,162,752,684        296,375,014   \n",
              "3                    264,363,768   1,181,953,829        293,159,631   \n",
              "4                    261,777,675   1,180,476,620        295,459,014   \n",
              "\n",
              "  Number of Trips 1-3 Number of Trips 3-5 Number of Trips 5-10  \\\n",
              "0         234,284,795         108,078,903          129,670,778   \n",
              "1         285,887,315         138,039,296          171,637,514   \n",
              "2         290,074,425         140,771,581          175,775,410   \n",
              "3         295,643,296         145,251,819          181,324,645   \n",
              "4         304,168,709         148,540,651          180,941,769   \n",
              "\n",
              "  Number of Trips 10-25 Number of Trips 25-50 Number of Trips 50-100  \\\n",
              "0           116,904,343            40,432,062             15,686,639   \n",
              "1           167,412,698            56,148,976             17,739,183   \n",
              "2           172,027,487            57,632,422             18,366,626   \n",
              "3           176,144,493            58,761,592             19,315,785   \n",
              "4           165,239,790            54,842,134             19,363,939   \n",
              "\n",
              "  Number of Trips 100-250 Number of Trips 250-500 Number of Trips >=500  Week  \\\n",
              "0               7,525,563               1,806,022             1,728,112     0   \n",
              "1               7,817,044               1,962,301             1,531,219     0   \n",
              "2               8,124,548               2,038,099             1,567,072     0   \n",
              "3               8,687,318               2,096,065             1,569,185     0   \n",
              "4               8,490,791               1,991,159             1,438,664     0   \n",
              "\n",
              "   Month  \n",
              "0      1  \n",
              "1      1  \n",
              "2      1  \n",
              "3      1  \n",
              "4      1  "
            ]
          },
          "execution_count": 189,
          "metadata": {},
          "output_type": "execute_result"
        }
      ],
      "source": [
        "import pandas as pd\n",
        "import numpy as np\n",
        "import seaborn as sns\n",
        "import matplotlib.pyplot as plt\n",
        "%matplotlib inline\n",
        "data2 = pd.read_csv(\"./data/National_trips.csv\")\n",
        "tour = data2\n",
        "tour.head()"
      ]
    },
    {
      "cell_type": "markdown",
      "metadata": {
        "id": "INCw6SIsdZLL"
      },
      "source": [
        "### 1-2. 데이터 전처리"
      ]
    },
    {
      "cell_type": "code",
      "execution_count": 190,
      "metadata": {
        "colab": {
          "base_uri": "https://localhost:8080/"
        },
        "id": "Qxqscrgkddhh",
        "outputId": "ae069837-095f-4135-b734-faeffdb69d9c"
      },
      "outputs": [
        {
          "name": "stdout",
          "output_type": "stream",
          "text": [
            "(1055, 18)\n",
            "<class 'pandas.core.frame.DataFrame'>\n",
            "RangeIndex: 1055 entries, 0 to 1054\n",
            "Data columns (total 18 columns):\n",
            " #   Column                          Non-Null Count  Dtype \n",
            "---  ------                          --------------  ----- \n",
            " 0   Unnamed: 0                      1055 non-null   int64 \n",
            " 1   Level                           1055 non-null   object\n",
            " 2   Date                            1055 non-null   object\n",
            " 3   Population Staying at Home      1055 non-null   object\n",
            " 4   Population Not Staying at Home  1055 non-null   object\n",
            " 5   Number of Trips                 1055 non-null   object\n",
            " 6   Number of Trips <1              1055 non-null   object\n",
            " 7   Number of Trips 1-3             1055 non-null   object\n",
            " 8   Number of Trips 3-5             1055 non-null   object\n",
            " 9   Number of Trips 5-10            1055 non-null   object\n",
            " 10  Number of Trips 10-25           1055 non-null   object\n",
            " 11  Number of Trips 25-50           1055 non-null   object\n",
            " 12  Number of Trips 50-100          1055 non-null   object\n",
            " 13  Number of Trips 100-250         1055 non-null   object\n",
            " 14  Number of Trips 250-500         1055 non-null   object\n",
            " 15  Number of Trips >=500           1055 non-null   object\n",
            " 16  Week                            1055 non-null   int64 \n",
            " 17  Month                           1055 non-null   int64 \n",
            "dtypes: int64(3), object(15)\n",
            "memory usage: 148.5+ KB\n"
          ]
        }
      ],
      "source": [
        "print(tour.shape)\n",
        "tour.info()"
      ]
    },
    {
      "cell_type": "code",
      "execution_count": 191,
      "metadata": {
        "colab": {
          "base_uri": "https://localhost:8080/"
        },
        "id": "tTwfRZFFeDHJ",
        "outputId": "4eb447f2-daff-412a-a845-b6dd7f789a78"
      },
      "outputs": [
        {
          "data": {
            "text/plain": [
              "Unnamed: 0                        0\n",
              "Level                             0\n",
              "Date                              0\n",
              "Population Staying at Home        0\n",
              "Population Not Staying at Home    0\n",
              "Number of Trips                   0\n",
              "Number of Trips <1                0\n",
              "Number of Trips 1-3               0\n",
              "Number of Trips 3-5               0\n",
              "Number of Trips 5-10              0\n",
              "Number of Trips 10-25             0\n",
              "Number of Trips 25-50             0\n",
              "Number of Trips 50-100            0\n",
              "Number of Trips 100-250           0\n",
              "Number of Trips 250-500           0\n",
              "Number of Trips >=500             0\n",
              "Week                              0\n",
              "Month                             0\n",
              "dtype: int64"
            ]
          },
          "execution_count": 191,
          "metadata": {},
          "output_type": "execute_result"
        }
      ],
      "source": [
        "tour.isnull().sum()"
      ]
    },
    {
      "cell_type": "code",
      "execution_count": 192,
      "metadata": {
        "colab": {
          "base_uri": "https://localhost:8080/"
        },
        "id": "xOCRw1h2eE5o",
        "outputId": "e29b93a5-2d07-4efb-e315-48f9122e2681"
      },
      "outputs": [
        {
          "data": {
            "text/plain": [
              "0"
            ]
          },
          "execution_count": 192,
          "metadata": {},
          "output_type": "execute_result"
        }
      ],
      "source": [
        "tour.duplicated().sum()"
      ]
    },
    {
      "cell_type": "markdown",
      "metadata": {
        "id": "q7mTEwrreQcX"
      },
      "source": [
        "## 2. 데이터 분석"
      ]
    },
    {
      "cell_type": "markdown",
      "metadata": {
        "id": "SFpWeSWseTzd"
      },
      "source": [
        "### 2-1. 분석 목표 구체화\n",
        "- 코로나 이후(2020~) 평균 여행객 수는 어떻게 변화하였는가? (2019년도에 비해 여행객 수가 줄어들었는가?)\n",
        "- 작년 한 해(2021) 평균 여행객 수는 증가하였는가?"
      ]
    },
    {
      "cell_type": "markdown",
      "metadata": {
        "id": "tqsuoHybeoXz"
      },
      "source": [
        "### 2-2. 분석 및 시각화"
      ]
    },
    {
      "cell_type": "code",
      "execution_count": 193,
      "metadata": {
        "colab": {
          "base_uri": "https://localhost:8080/",
          "height": 284
        },
        "id": "fORYZlCfz5Tq",
        "outputId": "654491a2-8b7c-46f1-fa60-927fe1404861"
      },
      "outputs": [
        {
          "data": {
            "text/html": [
              "\n",
              "  <div id=\"df-e6e160c5-11bd-4c04-858e-2a10f059757b\">\n",
              "    <div class=\"colab-df-container\">\n",
              "      <div>\n",
              "<style scoped>\n",
              "    .dataframe tbody tr th:only-of-type {\n",
              "        vertical-align: middle;\n",
              "    }\n",
              "\n",
              "    .dataframe tbody tr th {\n",
              "        vertical-align: top;\n",
              "    }\n",
              "\n",
              "    .dataframe thead th {\n",
              "        text-align: right;\n",
              "    }\n",
              "</style>\n",
              "<table border=\"1\" class=\"dataframe\">\n",
              "  <thead>\n",
              "    <tr style=\"text-align: right;\">\n",
              "      <th></th>\n",
              "      <th>Unnamed: 0</th>\n",
              "      <th>Level</th>\n",
              "      <th>Date</th>\n",
              "      <th>Population Staying at Home</th>\n",
              "      <th>Population Not Staying at Home</th>\n",
              "      <th>Number of Trips</th>\n",
              "      <th>Number of Trips &lt;1</th>\n",
              "      <th>Number of Trips 1-3</th>\n",
              "      <th>Number of Trips 3-5</th>\n",
              "      <th>Number of Trips 5-10</th>\n",
              "      <th>Number of Trips 10-25</th>\n",
              "      <th>Number of Trips 25-50</th>\n",
              "      <th>Number of Trips 50-100</th>\n",
              "      <th>Number of Trips 100-250</th>\n",
              "      <th>Number of Trips 250-500</th>\n",
              "      <th>Number of Trips &gt;=500</th>\n",
              "      <th>Week</th>\n",
              "      <th>Month</th>\n",
              "      <th>Year</th>\n",
              "    </tr>\n",
              "  </thead>\n",
              "  <tbody>\n",
              "    <tr>\n",
              "      <th>0</th>\n",
              "      <td>0</td>\n",
              "      <td>National</td>\n",
              "      <td>2019/01/01</td>\n",
              "      <td>77,433,867</td>\n",
              "      <td>248,733,553</td>\n",
              "      <td>897,784,368</td>\n",
              "      <td>241,667,151</td>\n",
              "      <td>234,284,795</td>\n",
              "      <td>108,078,903</td>\n",
              "      <td>129,670,778</td>\n",
              "      <td>116,904,343</td>\n",
              "      <td>40,432,062</td>\n",
              "      <td>15,686,639</td>\n",
              "      <td>7,525,563</td>\n",
              "      <td>1,806,022</td>\n",
              "      <td>1,728,112</td>\n",
              "      <td>0</td>\n",
              "      <td>1</td>\n",
              "      <td>0</td>\n",
              "    </tr>\n",
              "    <tr>\n",
              "      <th>1</th>\n",
              "      <td>1</td>\n",
              "      <td>National</td>\n",
              "      <td>2019/01/02</td>\n",
              "      <td>61,305,201</td>\n",
              "      <td>264,862,219</td>\n",
              "      <td>1,139,452,281</td>\n",
              "      <td>291,276,735</td>\n",
              "      <td>285,887,315</td>\n",
              "      <td>138,039,296</td>\n",
              "      <td>171,637,514</td>\n",
              "      <td>167,412,698</td>\n",
              "      <td>56,148,976</td>\n",
              "      <td>17,739,183</td>\n",
              "      <td>7,817,044</td>\n",
              "      <td>1,962,301</td>\n",
              "      <td>1,531,219</td>\n",
              "      <td>0</td>\n",
              "      <td>1</td>\n",
              "      <td>0</td>\n",
              "    </tr>\n",
              "    <tr>\n",
              "      <th>2</th>\n",
              "      <td>2</td>\n",
              "      <td>National</td>\n",
              "      <td>2019/01/03</td>\n",
              "      <td>63,050,480</td>\n",
              "      <td>263,116,940</td>\n",
              "      <td>1,162,752,684</td>\n",
              "      <td>296,375,014</td>\n",
              "      <td>290,074,425</td>\n",
              "      <td>140,771,581</td>\n",
              "      <td>175,775,410</td>\n",
              "      <td>172,027,487</td>\n",
              "      <td>57,632,422</td>\n",
              "      <td>18,366,626</td>\n",
              "      <td>8,124,548</td>\n",
              "      <td>2,038,099</td>\n",
              "      <td>1,567,072</td>\n",
              "      <td>0</td>\n",
              "      <td>1</td>\n",
              "      <td>0</td>\n",
              "    </tr>\n",
              "    <tr>\n",
              "      <th>3</th>\n",
              "      <td>3</td>\n",
              "      <td>National</td>\n",
              "      <td>2019/01/04</td>\n",
              "      <td>61,803,652</td>\n",
              "      <td>264,363,768</td>\n",
              "      <td>1,181,953,829</td>\n",
              "      <td>293,159,631</td>\n",
              "      <td>295,643,296</td>\n",
              "      <td>145,251,819</td>\n",
              "      <td>181,324,645</td>\n",
              "      <td>176,144,493</td>\n",
              "      <td>58,761,592</td>\n",
              "      <td>19,315,785</td>\n",
              "      <td>8,687,318</td>\n",
              "      <td>2,096,065</td>\n",
              "      <td>1,569,185</td>\n",
              "      <td>0</td>\n",
              "      <td>1</td>\n",
              "      <td>0</td>\n",
              "    </tr>\n",
              "    <tr>\n",
              "      <th>4</th>\n",
              "      <td>4</td>\n",
              "      <td>National</td>\n",
              "      <td>2019/01/05</td>\n",
              "      <td>64,389,745</td>\n",
              "      <td>261,777,675</td>\n",
              "      <td>1,180,476,620</td>\n",
              "      <td>295,459,014</td>\n",
              "      <td>304,168,709</td>\n",
              "      <td>148,540,651</td>\n",
              "      <td>180,941,769</td>\n",
              "      <td>165,239,790</td>\n",
              "      <td>54,842,134</td>\n",
              "      <td>19,363,939</td>\n",
              "      <td>8,490,791</td>\n",
              "      <td>1,991,159</td>\n",
              "      <td>1,438,664</td>\n",
              "      <td>0</td>\n",
              "      <td>1</td>\n",
              "      <td>0</td>\n",
              "    </tr>\n",
              "  </tbody>\n",
              "</table>\n",
              "</div>\n",
              "      <button class=\"colab-df-convert\" onclick=\"convertToInteractive('df-e6e160c5-11bd-4c04-858e-2a10f059757b')\"\n",
              "              title=\"Convert this dataframe to an interactive table.\"\n",
              "              style=\"display:none;\">\n",
              "        \n",
              "  <svg xmlns=\"http://www.w3.org/2000/svg\" height=\"24px\"viewBox=\"0 0 24 24\"\n",
              "       width=\"24px\">\n",
              "    <path d=\"M0 0h24v24H0V0z\" fill=\"none\"/>\n",
              "    <path d=\"M18.56 5.44l.94 2.06.94-2.06 2.06-.94-2.06-.94-.94-2.06-.94 2.06-2.06.94zm-11 1L8.5 8.5l.94-2.06 2.06-.94-2.06-.94L8.5 2.5l-.94 2.06-2.06.94zm10 10l.94 2.06.94-2.06 2.06-.94-2.06-.94-.94-2.06-.94 2.06-2.06.94z\"/><path d=\"M17.41 7.96l-1.37-1.37c-.4-.4-.92-.59-1.43-.59-.52 0-1.04.2-1.43.59L10.3 9.45l-7.72 7.72c-.78.78-.78 2.05 0 2.83L4 21.41c.39.39.9.59 1.41.59.51 0 1.02-.2 1.41-.59l7.78-7.78 2.81-2.81c.8-.78.8-2.07 0-2.86zM5.41 20L4 18.59l7.72-7.72 1.47 1.35L5.41 20z\"/>\n",
              "  </svg>\n",
              "      </button>\n",
              "      \n",
              "  <style>\n",
              "    .colab-df-container {\n",
              "      display:flex;\n",
              "      flex-wrap:wrap;\n",
              "      gap: 12px;\n",
              "    }\n",
              "\n",
              "    .colab-df-convert {\n",
              "      background-color: #E8F0FE;\n",
              "      border: none;\n",
              "      border-radius: 50%;\n",
              "      cursor: pointer;\n",
              "      display: none;\n",
              "      fill: #1967D2;\n",
              "      height: 32px;\n",
              "      padding: 0 0 0 0;\n",
              "      width: 32px;\n",
              "    }\n",
              "\n",
              "    .colab-df-convert:hover {\n",
              "      background-color: #E2EBFA;\n",
              "      box-shadow: 0px 1px 2px rgba(60, 64, 67, 0.3), 0px 1px 3px 1px rgba(60, 64, 67, 0.15);\n",
              "      fill: #174EA6;\n",
              "    }\n",
              "\n",
              "    [theme=dark] .colab-df-convert {\n",
              "      background-color: #3B4455;\n",
              "      fill: #D2E3FC;\n",
              "    }\n",
              "\n",
              "    [theme=dark] .colab-df-convert:hover {\n",
              "      background-color: #434B5C;\n",
              "      box-shadow: 0px 1px 3px 1px rgba(0, 0, 0, 0.15);\n",
              "      filter: drop-shadow(0px 1px 2px rgba(0, 0, 0, 0.3));\n",
              "      fill: #FFFFFF;\n",
              "    }\n",
              "  </style>\n",
              "\n",
              "      <script>\n",
              "        const buttonEl =\n",
              "          document.querySelector('#df-e6e160c5-11bd-4c04-858e-2a10f059757b button.colab-df-convert');\n",
              "        buttonEl.style.display =\n",
              "          google.colab.kernel.accessAllowed ? 'block' : 'none';\n",
              "\n",
              "        async function convertToInteractive(key) {\n",
              "          const element = document.querySelector('#df-e6e160c5-11bd-4c04-858e-2a10f059757b');\n",
              "          const dataTable =\n",
              "            await google.colab.kernel.invokeFunction('convertToInteractive',\n",
              "                                                     [key], {});\n",
              "          if (!dataTable) return;\n",
              "\n",
              "          const docLinkHtml = 'Like what you see? Visit the ' +\n",
              "            '<a target=\"_blank\" href=https://colab.research.google.com/notebooks/data_table.ipynb>data table notebook</a>'\n",
              "            + ' to learn more about interactive tables.';\n",
              "          element.innerHTML = '';\n",
              "          dataTable['output_type'] = 'display_data';\n",
              "          await google.colab.output.renderOutput(dataTable, element);\n",
              "          const docLink = document.createElement('div');\n",
              "          docLink.innerHTML = docLinkHtml;\n",
              "          element.appendChild(docLink);\n",
              "        }\n",
              "      </script>\n",
              "    </div>\n",
              "  </div>\n",
              "  "
            ],
            "text/plain": [
              "   Unnamed: 0     Level        Date Population Staying at Home  \\\n",
              "0           0  National  2019/01/01                 77,433,867   \n",
              "1           1  National  2019/01/02                 61,305,201   \n",
              "2           2  National  2019/01/03                 63,050,480   \n",
              "3           3  National  2019/01/04                 61,803,652   \n",
              "4           4  National  2019/01/05                 64,389,745   \n",
              "\n",
              "  Population Not Staying at Home Number of Trips Number of Trips <1  \\\n",
              "0                    248,733,553     897,784,368        241,667,151   \n",
              "1                    264,862,219   1,139,452,281        291,276,735   \n",
              "2                    263,116,940   1,162,752,684        296,375,014   \n",
              "3                    264,363,768   1,181,953,829        293,159,631   \n",
              "4                    261,777,675   1,180,476,620        295,459,014   \n",
              "\n",
              "  Number of Trips 1-3 Number of Trips 3-5 Number of Trips 5-10  \\\n",
              "0         234,284,795         108,078,903          129,670,778   \n",
              "1         285,887,315         138,039,296          171,637,514   \n",
              "2         290,074,425         140,771,581          175,775,410   \n",
              "3         295,643,296         145,251,819          181,324,645   \n",
              "4         304,168,709         148,540,651          180,941,769   \n",
              "\n",
              "  Number of Trips 10-25 Number of Trips 25-50 Number of Trips 50-100  \\\n",
              "0           116,904,343            40,432,062             15,686,639   \n",
              "1           167,412,698            56,148,976             17,739,183   \n",
              "2           172,027,487            57,632,422             18,366,626   \n",
              "3           176,144,493            58,761,592             19,315,785   \n",
              "4           165,239,790            54,842,134             19,363,939   \n",
              "\n",
              "  Number of Trips 100-250 Number of Trips 250-500 Number of Trips >=500  Week  \\\n",
              "0               7,525,563               1,806,022             1,728,112     0   \n",
              "1               7,817,044               1,962,301             1,531,219     0   \n",
              "2               8,124,548               2,038,099             1,567,072     0   \n",
              "3               8,687,318               2,096,065             1,569,185     0   \n",
              "4               8,490,791               1,991,159             1,438,664     0   \n",
              "\n",
              "   Month Year  \n",
              "0      1    0  \n",
              "1      1    0  \n",
              "2      1    0  \n",
              "3      1    0  \n",
              "4      1    0  "
            ]
          },
          "execution_count": 193,
          "metadata": {},
          "output_type": "execute_result"
        }
      ],
      "source": [
        "tour['Year'] = '0' # 'Year' column 만들기\n",
        "tour.head()"
      ]
    },
    {
      "cell_type": "code",
      "execution_count": 194,
      "metadata": {
        "colab": {
          "base_uri": "https://localhost:8080/"
        },
        "id": "AjwoMcbf0C07",
        "outputId": "8c9a167a-348a-4eb8-df4d-5d51d7493836"
      },
      "outputs": [
        {
          "name": "stderr",
          "output_type": "stream",
          "text": [
            "/usr/local/lib/python3.7/dist-packages/ipykernel_launcher.py:2: SettingWithCopyWarning: \n",
            "A value is trying to be set on a copy of a slice from a DataFrame\n",
            "\n",
            "See the caveats in the documentation: https://pandas.pydata.org/pandas-docs/stable/user_guide/indexing.html#returning-a-view-versus-a-copy\n",
            "  \n"
          ]
        }
      ],
      "source": [
        "for i in range(0, len(tour)) :\n",
        "  tour['Year'][i] = tour['Date'][i].split('/')[0]"
      ]
    },
    {
      "cell_type": "code",
      "execution_count": 195,
      "metadata": {
        "colab": {
          "base_uri": "https://localhost:8080/",
          "height": 284
        },
        "id": "FWAPkP5v0uvu",
        "outputId": "0673bf5d-9e8d-4ae1-8804-2a4de0d45ca8"
      },
      "outputs": [
        {
          "data": {
            "text/html": [
              "\n",
              "  <div id=\"df-d22c5188-a995-4ed0-bb96-578947aa7fee\">\n",
              "    <div class=\"colab-df-container\">\n",
              "      <div>\n",
              "<style scoped>\n",
              "    .dataframe tbody tr th:only-of-type {\n",
              "        vertical-align: middle;\n",
              "    }\n",
              "\n",
              "    .dataframe tbody tr th {\n",
              "        vertical-align: top;\n",
              "    }\n",
              "\n",
              "    .dataframe thead th {\n",
              "        text-align: right;\n",
              "    }\n",
              "</style>\n",
              "<table border=\"1\" class=\"dataframe\">\n",
              "  <thead>\n",
              "    <tr style=\"text-align: right;\">\n",
              "      <th></th>\n",
              "      <th>Unnamed: 0</th>\n",
              "      <th>Level</th>\n",
              "      <th>Date</th>\n",
              "      <th>Population Staying at Home</th>\n",
              "      <th>Population Not Staying at Home</th>\n",
              "      <th>Number of Trips</th>\n",
              "      <th>Number of Trips &lt;1</th>\n",
              "      <th>Number of Trips 1-3</th>\n",
              "      <th>Number of Trips 3-5</th>\n",
              "      <th>Number of Trips 5-10</th>\n",
              "      <th>Number of Trips 10-25</th>\n",
              "      <th>Number of Trips 25-50</th>\n",
              "      <th>Number of Trips 50-100</th>\n",
              "      <th>Number of Trips 100-250</th>\n",
              "      <th>Number of Trips 250-500</th>\n",
              "      <th>Number of Trips &gt;=500</th>\n",
              "      <th>Week</th>\n",
              "      <th>Month</th>\n",
              "      <th>Year</th>\n",
              "    </tr>\n",
              "  </thead>\n",
              "  <tbody>\n",
              "    <tr>\n",
              "      <th>1050</th>\n",
              "      <td>1050</td>\n",
              "      <td>National</td>\n",
              "      <td>2021/11/16</td>\n",
              "      <td>70,666,095</td>\n",
              "      <td>257,573,428</td>\n",
              "      <td>1,422,332,291</td>\n",
              "      <td>422,971,622</td>\n",
              "      <td>347,569,809</td>\n",
              "      <td>163,055,860</td>\n",
              "      <td>204,335,363</td>\n",
              "      <td>193,540,842</td>\n",
              "      <td>60,770,560</td>\n",
              "      <td>19,271,631</td>\n",
              "      <td>7,869,865</td>\n",
              "      <td>1,718,347</td>\n",
              "      <td>1,228,392</td>\n",
              "      <td>46</td>\n",
              "      <td>11</td>\n",
              "      <td>2021</td>\n",
              "    </tr>\n",
              "    <tr>\n",
              "      <th>1051</th>\n",
              "      <td>1051</td>\n",
              "      <td>National</td>\n",
              "      <td>2021/11/17</td>\n",
              "      <td>70,574,570</td>\n",
              "      <td>257,664,953</td>\n",
              "      <td>1,479,583,791</td>\n",
              "      <td>445,753,387</td>\n",
              "      <td>366,818,268</td>\n",
              "      <td>168,524,802</td>\n",
              "      <td>208,627,236</td>\n",
              "      <td>197,022,938</td>\n",
              "      <td>61,932,963</td>\n",
              "      <td>19,783,029</td>\n",
              "      <td>8,117,723</td>\n",
              "      <td>1,753,566</td>\n",
              "      <td>1,249,879</td>\n",
              "      <td>46</td>\n",
              "      <td>11</td>\n",
              "      <td>2021</td>\n",
              "    </tr>\n",
              "    <tr>\n",
              "      <th>1052</th>\n",
              "      <td>1052</td>\n",
              "      <td>National</td>\n",
              "      <td>2021/11/18</td>\n",
              "      <td>73,652,360</td>\n",
              "      <td>254,587,163</td>\n",
              "      <td>1,292,774,259</td>\n",
              "      <td>371,718,902</td>\n",
              "      <td>313,351,056</td>\n",
              "      <td>149,167,497</td>\n",
              "      <td>189,716,076</td>\n",
              "      <td>182,150,488</td>\n",
              "      <td>57,863,078</td>\n",
              "      <td>18,482,503</td>\n",
              "      <td>7,544,739</td>\n",
              "      <td>1,618,055</td>\n",
              "      <td>1,161,865</td>\n",
              "      <td>46</td>\n",
              "      <td>11</td>\n",
              "      <td>2021</td>\n",
              "    </tr>\n",
              "    <tr>\n",
              "      <th>1053</th>\n",
              "      <td>1053</td>\n",
              "      <td>National</td>\n",
              "      <td>2021/11/19</td>\n",
              "      <td>69,922,037</td>\n",
              "      <td>258,317,486</td>\n",
              "      <td>1,455,509,629</td>\n",
              "      <td>431,065,435</td>\n",
              "      <td>354,953,324</td>\n",
              "      <td>166,412,148</td>\n",
              "      <td>207,986,642</td>\n",
              "      <td>196,890,342</td>\n",
              "      <td>62,422,373</td>\n",
              "      <td>21,719,535</td>\n",
              "      <td>10,593,977</td>\n",
              "      <td>2,149,691</td>\n",
              "      <td>1,316,162</td>\n",
              "      <td>46</td>\n",
              "      <td>11</td>\n",
              "      <td>2021</td>\n",
              "    </tr>\n",
              "    <tr>\n",
              "      <th>1054</th>\n",
              "      <td>1054</td>\n",
              "      <td>National</td>\n",
              "      <td>2021/11/20</td>\n",
              "      <td>71,570,761</td>\n",
              "      <td>256,668,762</td>\n",
              "      <td>1,313,030,733</td>\n",
              "      <td>382,700,511</td>\n",
              "      <td>322,267,131</td>\n",
              "      <td>151,982,036</td>\n",
              "      <td>187,261,840</td>\n",
              "      <td>172,561,339</td>\n",
              "      <td>58,442,081</td>\n",
              "      <td>24,139,924</td>\n",
              "      <td>10,658,687</td>\n",
              "      <td>1,830,338</td>\n",
              "      <td>1,186,846</td>\n",
              "      <td>46</td>\n",
              "      <td>11</td>\n",
              "      <td>2021</td>\n",
              "    </tr>\n",
              "  </tbody>\n",
              "</table>\n",
              "</div>\n",
              "      <button class=\"colab-df-convert\" onclick=\"convertToInteractive('df-d22c5188-a995-4ed0-bb96-578947aa7fee')\"\n",
              "              title=\"Convert this dataframe to an interactive table.\"\n",
              "              style=\"display:none;\">\n",
              "        \n",
              "  <svg xmlns=\"http://www.w3.org/2000/svg\" height=\"24px\"viewBox=\"0 0 24 24\"\n",
              "       width=\"24px\">\n",
              "    <path d=\"M0 0h24v24H0V0z\" fill=\"none\"/>\n",
              "    <path d=\"M18.56 5.44l.94 2.06.94-2.06 2.06-.94-2.06-.94-.94-2.06-.94 2.06-2.06.94zm-11 1L8.5 8.5l.94-2.06 2.06-.94-2.06-.94L8.5 2.5l-.94 2.06-2.06.94zm10 10l.94 2.06.94-2.06 2.06-.94-2.06-.94-.94-2.06-.94 2.06-2.06.94z\"/><path d=\"M17.41 7.96l-1.37-1.37c-.4-.4-.92-.59-1.43-.59-.52 0-1.04.2-1.43.59L10.3 9.45l-7.72 7.72c-.78.78-.78 2.05 0 2.83L4 21.41c.39.39.9.59 1.41.59.51 0 1.02-.2 1.41-.59l7.78-7.78 2.81-2.81c.8-.78.8-2.07 0-2.86zM5.41 20L4 18.59l7.72-7.72 1.47 1.35L5.41 20z\"/>\n",
              "  </svg>\n",
              "      </button>\n",
              "      \n",
              "  <style>\n",
              "    .colab-df-container {\n",
              "      display:flex;\n",
              "      flex-wrap:wrap;\n",
              "      gap: 12px;\n",
              "    }\n",
              "\n",
              "    .colab-df-convert {\n",
              "      background-color: #E8F0FE;\n",
              "      border: none;\n",
              "      border-radius: 50%;\n",
              "      cursor: pointer;\n",
              "      display: none;\n",
              "      fill: #1967D2;\n",
              "      height: 32px;\n",
              "      padding: 0 0 0 0;\n",
              "      width: 32px;\n",
              "    }\n",
              "\n",
              "    .colab-df-convert:hover {\n",
              "      background-color: #E2EBFA;\n",
              "      box-shadow: 0px 1px 2px rgba(60, 64, 67, 0.3), 0px 1px 3px 1px rgba(60, 64, 67, 0.15);\n",
              "      fill: #174EA6;\n",
              "    }\n",
              "\n",
              "    [theme=dark] .colab-df-convert {\n",
              "      background-color: #3B4455;\n",
              "      fill: #D2E3FC;\n",
              "    }\n",
              "\n",
              "    [theme=dark] .colab-df-convert:hover {\n",
              "      background-color: #434B5C;\n",
              "      box-shadow: 0px 1px 3px 1px rgba(0, 0, 0, 0.15);\n",
              "      filter: drop-shadow(0px 1px 2px rgba(0, 0, 0, 0.3));\n",
              "      fill: #FFFFFF;\n",
              "    }\n",
              "  </style>\n",
              "\n",
              "      <script>\n",
              "        const buttonEl =\n",
              "          document.querySelector('#df-d22c5188-a995-4ed0-bb96-578947aa7fee button.colab-df-convert');\n",
              "        buttonEl.style.display =\n",
              "          google.colab.kernel.accessAllowed ? 'block' : 'none';\n",
              "\n",
              "        async function convertToInteractive(key) {\n",
              "          const element = document.querySelector('#df-d22c5188-a995-4ed0-bb96-578947aa7fee');\n",
              "          const dataTable =\n",
              "            await google.colab.kernel.invokeFunction('convertToInteractive',\n",
              "                                                     [key], {});\n",
              "          if (!dataTable) return;\n",
              "\n",
              "          const docLinkHtml = 'Like what you see? Visit the ' +\n",
              "            '<a target=\"_blank\" href=https://colab.research.google.com/notebooks/data_table.ipynb>data table notebook</a>'\n",
              "            + ' to learn more about interactive tables.';\n",
              "          element.innerHTML = '';\n",
              "          dataTable['output_type'] = 'display_data';\n",
              "          await google.colab.output.renderOutput(dataTable, element);\n",
              "          const docLink = document.createElement('div');\n",
              "          docLink.innerHTML = docLinkHtml;\n",
              "          element.appendChild(docLink);\n",
              "        }\n",
              "      </script>\n",
              "    </div>\n",
              "  </div>\n",
              "  "
            ],
            "text/plain": [
              "      Unnamed: 0     Level        Date Population Staying at Home  \\\n",
              "1050        1050  National  2021/11/16                 70,666,095   \n",
              "1051        1051  National  2021/11/17                 70,574,570   \n",
              "1052        1052  National  2021/11/18                 73,652,360   \n",
              "1053        1053  National  2021/11/19                 69,922,037   \n",
              "1054        1054  National  2021/11/20                 71,570,761   \n",
              "\n",
              "     Population Not Staying at Home Number of Trips Number of Trips <1  \\\n",
              "1050                    257,573,428   1,422,332,291        422,971,622   \n",
              "1051                    257,664,953   1,479,583,791        445,753,387   \n",
              "1052                    254,587,163   1,292,774,259        371,718,902   \n",
              "1053                    258,317,486   1,455,509,629        431,065,435   \n",
              "1054                    256,668,762   1,313,030,733        382,700,511   \n",
              "\n",
              "     Number of Trips 1-3 Number of Trips 3-5 Number of Trips 5-10  \\\n",
              "1050         347,569,809         163,055,860          204,335,363   \n",
              "1051         366,818,268         168,524,802          208,627,236   \n",
              "1052         313,351,056         149,167,497          189,716,076   \n",
              "1053         354,953,324         166,412,148          207,986,642   \n",
              "1054         322,267,131         151,982,036          187,261,840   \n",
              "\n",
              "     Number of Trips 10-25 Number of Trips 25-50 Number of Trips 50-100  \\\n",
              "1050           193,540,842            60,770,560             19,271,631   \n",
              "1051           197,022,938            61,932,963             19,783,029   \n",
              "1052           182,150,488            57,863,078             18,482,503   \n",
              "1053           196,890,342            62,422,373             21,719,535   \n",
              "1054           172,561,339            58,442,081             24,139,924   \n",
              "\n",
              "     Number of Trips 100-250 Number of Trips 250-500 Number of Trips >=500  \\\n",
              "1050               7,869,865               1,718,347             1,228,392   \n",
              "1051               8,117,723               1,753,566             1,249,879   \n",
              "1052               7,544,739               1,618,055             1,161,865   \n",
              "1053              10,593,977               2,149,691             1,316,162   \n",
              "1054              10,658,687               1,830,338             1,186,846   \n",
              "\n",
              "      Week  Month  Year  \n",
              "1050    46     11  2021  \n",
              "1051    46     11  2021  \n",
              "1052    46     11  2021  \n",
              "1053    46     11  2021  \n",
              "1054    46     11  2021  "
            ]
          },
          "execution_count": 195,
          "metadata": {},
          "output_type": "execute_result"
        }
      ],
      "source": [
        "tour.tail()"
      ]
    },
    {
      "cell_type": "markdown",
      "metadata": {
        "id": "kwqYuUjwfMUQ"
      },
      "source": [
        "한 해 평균 여행객 수를 구하기 위해 연도별로 묶어야 합니다.  \n",
        "이를 위해 문자열인 숫자를 정수형으로 바꾸어 줍니다."
      ]
    },
    {
      "cell_type": "code",
      "execution_count": 196,
      "metadata": {
        "colab": {
          "base_uri": "https://localhost:8080/"
        },
        "id": "2Nwz9xoU11F2",
        "outputId": "0b108c72-1a3a-4109-8eae-0f35d9b23dc8"
      },
      "outputs": [
        {
          "name": "stderr",
          "output_type": "stream",
          "text": [
            "/usr/local/lib/python3.7/dist-packages/ipykernel_launcher.py:3: SettingWithCopyWarning: \n",
            "A value is trying to be set on a copy of a slice from a DataFrame\n",
            "\n",
            "See the caveats in the documentation: https://pandas.pydata.org/pandas-docs/stable/user_guide/indexing.html#returning-a-view-versus-a-copy\n",
            "  This is separate from the ipykernel package so we can avoid doing imports until\n"
          ]
        },
        {
          "data": {
            "text/plain": [
              "0     897784368\n",
              "1    1139452281\n",
              "2    1162752684\n",
              "3    1181953829\n",
              "4    1180476620\n",
              "Name: Number of Trips, dtype: object"
            ]
          },
          "execution_count": 196,
          "metadata": {},
          "output_type": "execute_result"
        }
      ],
      "source": [
        "# 데이터 타입을 수정하기 전에 숫자 구분자인 쉼표를 제거해줍니다.\n",
        "for i in range(0, len(tour)) :\n",
        "  tour['Number of Trips'][i] = tour['Number of Trips'][i].replace(',','')\n",
        "\n",
        "tour['Number of Trips'].head()"
      ]
    },
    {
      "cell_type": "code",
      "execution_count": 197,
      "metadata": {
        "colab": {
          "base_uri": "https://localhost:8080/"
        },
        "id": "9SZIe5My2Y31",
        "outputId": "fc4d9f1a-4dbd-427c-e6e9-f11bacb9ae07"
      },
      "outputs": [
        {
          "name": "stdout",
          "output_type": "stream",
          "text": [
            "<class 'pandas.core.frame.DataFrame'>\n",
            "RangeIndex: 1055 entries, 0 to 1054\n",
            "Data columns (total 19 columns):\n",
            " #   Column                          Non-Null Count  Dtype \n",
            "---  ------                          --------------  ----- \n",
            " 0   Unnamed: 0                      1055 non-null   int64 \n",
            " 1   Level                           1055 non-null   object\n",
            " 2   Date                            1055 non-null   object\n",
            " 3   Population Staying at Home      1055 non-null   object\n",
            " 4   Population Not Staying at Home  1055 non-null   object\n",
            " 5   Number of Trips                 1055 non-null   int64 \n",
            " 6   Number of Trips <1              1055 non-null   object\n",
            " 7   Number of Trips 1-3             1055 non-null   object\n",
            " 8   Number of Trips 3-5             1055 non-null   object\n",
            " 9   Number of Trips 5-10            1055 non-null   object\n",
            " 10  Number of Trips 10-25           1055 non-null   object\n",
            " 11  Number of Trips 25-50           1055 non-null   object\n",
            " 12  Number of Trips 50-100          1055 non-null   object\n",
            " 13  Number of Trips 100-250         1055 non-null   object\n",
            " 14  Number of Trips 250-500         1055 non-null   object\n",
            " 15  Number of Trips >=500           1055 non-null   object\n",
            " 16  Week                            1055 non-null   int64 \n",
            " 17  Month                           1055 non-null   int64 \n",
            " 18  Year                            1055 non-null   object\n",
            "dtypes: int64(4), object(15)\n",
            "memory usage: 156.7+ KB\n"
          ]
        }
      ],
      "source": [
        "tour['Number of Trips'] = tour['Number of Trips'].astype(int)\n",
        "tour.info()"
      ]
    },
    {
      "cell_type": "code",
      "execution_count": 198,
      "metadata": {
        "colab": {
          "base_uri": "https://localhost:8080/",
          "height": 511
        },
        "id": "L9gUCyOCocyi",
        "outputId": "e51749f2-7ddf-4854-82fe-6ee6670b60bb"
      },
      "outputs": [
        {
          "data": {
            "image/png": "[encoded data removed]",
            "text/plain": [
              "<Figure size 576x576 with 1 Axes>"
            ]
          },
          "metadata": {
            "needs_background": "light"
          },
          "output_type": "display_data"
        }
      ],
      "source": [
        "plt.figure(figsize=(8,8))\n",
        "x = ['2019', '2020', '2021']\n",
        "y = data2.groupby('Year')['Number of Trips'].mean()\n",
        "plt.xlabel('Year', size = 13)\n",
        "plt.ylabel('Number of Trips', size = 13)\n",
        "plt.plot(x, y)\n",
        "# plt.savefig('/content/drive/MyDrive/Colab Notebooks/여행객 수.png', dpi=300)\n",
        "# plt.bar(x, y)\n",
        "# plt.savefig('/content/drive/MyDrive/Colab Notebooks/여행객 수_bar.png', dpi=300)\n",
        "plt.show()"
      ]
    },
    {
      "cell_type": "code",
      "execution_count": 199,
      "metadata": {
        "colab": {
          "base_uri": "https://localhost:8080/"
        },
        "id": "m26wEViogxYG",
        "outputId": "958ec31a-b963-42cc-e27f-bc6aec15770f"
      },
      "outputs": [
        {
          "name": "stdout",
          "output_type": "stream",
          "text": [
            "2019년도에 비해 2020년도에는 여행객 수가 평균  134.95 % 줄었습니다.\n",
            "2020년도에 비해 2021년도에는 여행객 수가 평균  125.75 % 늘었습니다.\n"
          ]
        }
      ],
      "source": [
        "print('2019년도에 비해 2020년도에는 여행객 수가 평균 ', round(y['2019']/y['2020']*100, 2), '% 줄었습니다.')\n",
        "print('2020년도에 비해 2021년도에는 여행객 수가 평균 ', round(y['2021']/y['2020']*100, 2), '% 늘었습니다.')"
      ]
    }
  ],
  "metadata": {
    "colab": {
      "collapsed_sections": [],
      "name": "확진자 수 및 여행객 수.ipynb",
      "provenance": []
    },
    "kernelspec": {
      "display_name": "Python 3.10.2 64-bit",
      "language": "python",
      "name": "python3"
    },
    "language_info": {
      "name": "python",
      "version": "3.10.2"
    },
    "vscode": {
      "interpreter": {
        "hash": "369f2c481f4da34e4445cda3fffd2e751bd1c4d706f27375911949ba6bb62e1c"
      }
    }
  },
  "nbformat": 4,
  "nbformat_minor": 0
}
