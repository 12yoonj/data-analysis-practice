{
  "cells": [
    {
      "cell_type": "markdown",
      "metadata": {
        "id": "QUL3wK2GQzKa"
      },
      "source": [
        "# 코로나 확진자 추이 분석\n",
        "### 사용 데이터 \n",
        "- [Covid-19 Weekly Trends In World - Latest Data](https://www.kaggle.com/datasets/anandhuh/covid19-weekly-trends-in-world-latest-data)\n",
        "- now: 최근 1주 [4월 6일 ~ 4월 13일]\n",
        "- prec: 이전 1주 [3월 30일 ~ 4월 5일]"
      ]
    },
    {
      "cell_type": "markdown",
      "metadata": {
        "id": "OYOWljBmSNMa"
      },
      "source": [
        "## Contents\n",
        "1. 데이터 준비  \n",
        "1-1. 데이터 읽어오기  \n",
        "1-2. 전체 데이터 확인하기  \n",
        "1-3. 데이터 전처리  \n",
        "2. 데이터 분석  \n",
        "2-1. 분석 목표 구체화  \n",
        "2-2. 분석 및 시각화"
      ]
    },
    {
      "cell_type": "markdown",
      "metadata": {
        "id": "2PAbomrHRiBT"
      },
      "source": [
        "## 1. 데이터 준비\n"
      ]
    },
    {
      "cell_type": "markdown",
      "metadata": {
        "id": "TkqlnTJqTHaU"
      },
      "source": [
        "### 1-1. 데이터 읽어오기"
      ]
    },
    {
      "cell_type": "code",
      "execution_count": 1,
      "metadata": {
        "colab": {
          "base_uri": "https://localhost:8080/",
          "height": 267
        },
        "id": "zCrqkiIQ_ikq",
        "outputId": "5b145896-1159-4f1e-c926-8dd8f2514ea0"
      },
      "outputs": [
        {
          "data": {
            "text/html": [
              "<div>\n",
              "<style scoped>\n",
              "    .dataframe tbody tr th:only-of-type {\n",
              "        vertical-align: middle;\n",
              "    }\n",
              "\n",
              "    .dataframe tbody tr th {\n",
              "        vertical-align: top;\n",
              "    }\n",
              "\n",
              "    .dataframe thead th {\n",
              "        text-align: right;\n",
              "    }\n",
              "</style>\n",
              "<table border=\"1\" class=\"dataframe\">\n",
              "  <thead>\n",
              "    <tr style=\"text-align: right;\">\n",
              "      <th></th>\n",
              "      <th>Country, Other</th>\n",
              "      <th>Cases in the last 7 days</th>\n",
              "      <th>Cases in the preceding 7 days</th>\n",
              "      <th>Weekly Case % Change</th>\n",
              "      <th>Cases in the last 7 days/1M pop</th>\n",
              "      <th>Deaths in the last 7 days</th>\n",
              "      <th>Deaths in the preceding 7 days</th>\n",
              "      <th>Weekly Death % Change</th>\n",
              "      <th>Deaths in the last 7 days/1M pop</th>\n",
              "      <th>Population</th>\n",
              "    </tr>\n",
              "  </thead>\n",
              "  <tbody>\n",
              "    <tr>\n",
              "      <th>0</th>\n",
              "      <td>Afghanistan</td>\n",
              "      <td>308</td>\n",
              "      <td>291</td>\n",
              "      <td>6.0</td>\n",
              "      <td>8.0</td>\n",
              "      <td>5</td>\n",
              "      <td>6</td>\n",
              "      <td>-17</td>\n",
              "      <td>0.1</td>\n",
              "      <td>40483797</td>\n",
              "    </tr>\n",
              "    <tr>\n",
              "      <th>1</th>\n",
              "      <td>Albania</td>\n",
              "      <td>236</td>\n",
              "      <td>471</td>\n",
              "      <td>-50.0</td>\n",
              "      <td>82.0</td>\n",
              "      <td>2</td>\n",
              "      <td>0</td>\n",
              "      <td>200</td>\n",
              "      <td>0.7</td>\n",
              "      <td>2872219</td>\n",
              "    </tr>\n",
              "    <tr>\n",
              "      <th>2</th>\n",
              "      <td>Algeria</td>\n",
              "      <td>31</td>\n",
              "      <td>48</td>\n",
              "      <td>-35.0</td>\n",
              "      <td>0.7</td>\n",
              "      <td>0</td>\n",
              "      <td>0</td>\n",
              "      <td>0</td>\n",
              "      <td>0.0</td>\n",
              "      <td>45256195</td>\n",
              "    </tr>\n",
              "    <tr>\n",
              "      <th>3</th>\n",
              "      <td>Andorra</td>\n",
              "      <td>304</td>\n",
              "      <td>311</td>\n",
              "      <td>-2.0</td>\n",
              "      <td>3923.0</td>\n",
              "      <td>0</td>\n",
              "      <td>0</td>\n",
              "      <td>0</td>\n",
              "      <td>0.0</td>\n",
              "      <td>77484</td>\n",
              "    </tr>\n",
              "    <tr>\n",
              "      <th>4</th>\n",
              "      <td>Angola</td>\n",
              "      <td>0</td>\n",
              "      <td>56</td>\n",
              "      <td>-100.0</td>\n",
              "      <td>0.0</td>\n",
              "      <td>0</td>\n",
              "      <td>0</td>\n",
              "      <td>0</td>\n",
              "      <td>0.0</td>\n",
              "      <td>34679470</td>\n",
              "    </tr>\n",
              "  </tbody>\n",
              "</table>\n",
              "</div>"
            ],
            "text/plain": [
              "  Country, Other  Cases in the last 7 days  Cases in the preceding 7 days  \\\n",
              "0    Afghanistan                       308                            291   \n",
              "1        Albania                       236                            471   \n",
              "2        Algeria                        31                             48   \n",
              "3        Andorra                       304                            311   \n",
              "4         Angola                         0                             56   \n",
              "\n",
              "   Weekly Case % Change  Cases in the last 7 days/1M pop  \\\n",
              "0                   6.0                              8.0   \n",
              "1                 -50.0                             82.0   \n",
              "2                 -35.0                              0.7   \n",
              "3                  -2.0                           3923.0   \n",
              "4                -100.0                              0.0   \n",
              "\n",
              "   Deaths in the last 7 days  Deaths in the preceding 7 days  \\\n",
              "0                          5                               6   \n",
              "1                          2                               0   \n",
              "2                          0                               0   \n",
              "3                          0                               0   \n",
              "4                          0                               0   \n",
              "\n",
              "   Weekly Death % Change  Deaths in the last 7 days/1M pop  Population  \n",
              "0                    -17                               0.1    40483797  \n",
              "1                    200                               0.7     2872219  \n",
              "2                      0                               0.0    45256195  \n",
              "3                      0                               0.0       77484  \n",
              "4                      0                               0.0    34679470  "
            ]
          },
          "execution_count": 1,
          "metadata": {},
          "output_type": "execute_result"
        }
      ],
      "source": [
        "import pandas as pd\n",
        "import numpy as np\n",
        "import seaborn as sns\n",
        "import matplotlib.pyplot as plt\n",
        "%matplotlib inline\n",
        "\n",
        "data = pd.read_csv(\"./covid_world_weekly_trend.csv\")\n",
        "covid = data.copy() # 혹시 모를 상황을 대비하여 데이터 복사\n",
        "covid.head()"
      ]
    },
    {
      "cell_type": "markdown",
      "metadata": {
        "id": "bmnSduk-TQ6u"
      },
      "source": [
        "### 1-2. 전체 데이터 확인하기"
      ]
    },
    {
      "cell_type": "code",
      "execution_count": 172,
      "metadata": {
        "colab": {
          "base_uri": "https://localhost:8080/"
        },
        "id": "RpKopoNs_rcg",
        "outputId": "646a5249-76a5-4b55-811f-521660d3b804"
      },
      "outputs": [
        {
          "name": "stdout",
          "output_type": "stream",
          "text": [
            "Index(['Country, Other', 'Cases in the last 7 days',\n",
            "       'Cases in the preceding 7 days', 'Weekly Case % Change',\n",
            "       'Cases in the last 7 days/1M pop', 'Deaths in the last 7 days',\n",
            "       'Deaths in the preceding 7 days', 'Weekly Death % Change',\n",
            "       'Deaths in the last 7 days/1M pop', 'Population'],\n",
            "      dtype='object')\n",
            "(212, 10)\n"
          ]
        }
      ],
      "source": [
        "print(covid.columns)\n",
        "print(covid.shape)"
      ]
    },
    {
      "cell_type": "code",
      "execution_count": 173,
      "metadata": {
        "colab": {
          "base_uri": "https://localhost:8080/"
        },
        "id": "aX1ptpNc_ynx",
        "outputId": "b172c0c0-7b18-49d0-855f-33ee6e82fe0a"
      },
      "outputs": [
        {
          "name": "stdout",
          "output_type": "stream",
          "text": [
            "<class 'pandas.core.frame.DataFrame'>\n",
            "RangeIndex: 212 entries, 0 to 211\n",
            "Data columns (total 10 columns):\n",
            " #   Column                            Non-Null Count  Dtype  \n",
            "---  ------                            --------------  -----  \n",
            " 0   Country, Other                    212 non-null    object \n",
            " 1   Cases in the last 7 days          212 non-null    int64  \n",
            " 2   Cases in the preceding 7 days     212 non-null    int64  \n",
            " 3   Weekly Case % Change              212 non-null    float64\n",
            " 4   Cases in the last 7 days/1M pop   212 non-null    float64\n",
            " 5   Deaths in the last 7 days         212 non-null    int64  \n",
            " 6   Deaths in the preceding 7 days    212 non-null    int64  \n",
            " 7   Weekly Death % Change             212 non-null    int64  \n",
            " 8   Deaths in the last 7 days/1M pop  212 non-null    float64\n",
            " 9   Population                        212 non-null    int64  \n",
            "dtypes: float64(3), int64(6), object(1)\n",
            "memory usage: 16.7+ KB\n"
          ]
        }
      ],
      "source": [
        "covid.info()"
      ]
    },
    {
      "cell_type": "markdown",
      "metadata": {
        "id": "jTJXMeQnA4JQ"
      },
      "source": [
        "### 1-3. 데이터 전처리  \n",
        "1. 결측치 및 중복치 확인\n",
        "2. 데이터 설계 (필요한 데이터는 무엇인가?)"
      ]
    },
    {
      "cell_type": "code",
      "execution_count": 2,
      "metadata": {
        "colab": {
          "base_uri": "https://localhost:8080/"
        },
        "id": "GI_UaUaSTvtO",
        "outputId": "b612a225-9a31-4e02-92cb-fa6818ad6987"
      },
      "outputs": [
        {
          "data": {
            "text/plain": [
              "Country, Other                      0\n",
              "Cases in the last 7 days            0\n",
              "Cases in the preceding 7 days       0\n",
              "Weekly Case % Change                0\n",
              "Cases in the last 7 days/1M pop     0\n",
              "Deaths in the last 7 days           0\n",
              "Deaths in the preceding 7 days      0\n",
              "Weekly Death % Change               0\n",
              "Deaths in the last 7 days/1M pop    0\n",
              "Population                          0\n",
              "dtype: int64"
            ]
          },
          "execution_count": 2,
          "metadata": {},
          "output_type": "execute_result"
        }
      ],
      "source": [
        "covid.isnull().sum()"
      ]
    },
    {
      "cell_type": "code",
      "execution_count": 3,
      "metadata": {
        "colab": {
          "base_uri": "https://localhost:8080/"
        },
        "id": "bp9CW_fCVf4a",
        "outputId": "9f5b72cd-7211-4237-ea96-a3e2e771cd44"
      },
      "outputs": [
        {
          "data": {
            "text/plain": [
              "0"
            ]
          },
          "execution_count": 3,
          "metadata": {},
          "output_type": "execute_result"
        }
      ],
      "source": [
        "covid.duplicated().sum()"
      ]
    },
    {
      "cell_type": "markdown",
      "metadata": {
        "id": "qTjjrdAEUCPa"
      },
      "source": [
        "column 이름을 좀 더 간단하게 바꾸고, 필요없는 column 지우기"
      ]
    },
    {
      "cell_type": "code",
      "execution_count": 4,
      "metadata": {
        "id": "Ku9_38xwBZOw"
      },
      "outputs": [],
      "source": [
        "covid.rename(columns={'Country, Other': 'country', 'Cases in the last 7 days': 'cases_now', 'Cases in the preceding 7 days': 'cases_prec', 'Weekly Case % Change': 'case_change',\n",
        "'Cases in the last 7 days/1M pop': 'cases_1m', 'Deaths in the last 7 days': 'deaths_now', 'Deaths in the preceding 7 days': 'deaths_prec',\n",
        "'Weekly Death % Change': 'death_change', 'Deaths in the last 7 days/1M pop': 'deaths_1m', 'Population': 'population'\n",
        "}, inplace=True) # Reanme columns"
      ]
    },
    {
      "cell_type": "code",
      "execution_count": 5,
      "metadata": {
        "id": "wNIIFp71HMFm"
      },
      "outputs": [],
      "source": [
        "covid.drop(columns = ['deaths_now', 'deaths_prec','death_change', 'deaths_1m'], inplace=True)"
      ]
    },
    {
      "cell_type": "code",
      "execution_count": 6,
      "metadata": {
        "colab": {
          "base_uri": "https://localhost:8080/",
          "height": 206
        },
        "id": "Dc__kyXYAH7H",
        "outputId": "b40dcf2f-0031-40e2-8add-fda96dd2d16d"
      },
      "outputs": [
        {
          "data": {
            "text/html": [
              "<div>\n",
              "<style scoped>\n",
              "    .dataframe tbody tr th:only-of-type {\n",
              "        vertical-align: middle;\n",
              "    }\n",
              "\n",
              "    .dataframe tbody tr th {\n",
              "        vertical-align: top;\n",
              "    }\n",
              "\n",
              "    .dataframe thead th {\n",
              "        text-align: right;\n",
              "    }\n",
              "</style>\n",
              "<table border=\"1\" class=\"dataframe\">\n",
              "  <thead>\n",
              "    <tr style=\"text-align: right;\">\n",
              "      <th></th>\n",
              "      <th>count</th>\n",
              "      <th>mean</th>\n",
              "      <th>std</th>\n",
              "      <th>min</th>\n",
              "      <th>25%</th>\n",
              "      <th>50%</th>\n",
              "      <th>75%</th>\n",
              "      <th>max</th>\n",
              "    </tr>\n",
              "  </thead>\n",
              "  <tbody>\n",
              "    <tr>\n",
              "      <th>cases_now</th>\n",
              "      <td>212.0</td>\n",
              "      <td>3.226665e+04</td>\n",
              "      <td>1.411302e+05</td>\n",
              "      <td>0.0</td>\n",
              "      <td>40.00</td>\n",
              "      <td>420.5</td>\n",
              "      <td>5742.0</td>\n",
              "      <td>1.367873e+06</td>\n",
              "    </tr>\n",
              "    <tr>\n",
              "      <th>cases_prec</th>\n",
              "      <td>212.0</td>\n",
              "      <td>4.072566e+04</td>\n",
              "      <td>1.808994e+05</td>\n",
              "      <td>0.0</td>\n",
              "      <td>60.50</td>\n",
              "      <td>587.0</td>\n",
              "      <td>7363.5</td>\n",
              "      <td>1.916973e+06</td>\n",
              "    </tr>\n",
              "    <tr>\n",
              "      <th>case_change</th>\n",
              "      <td>212.0</td>\n",
              "      <td>7.387231e+02</td>\n",
              "      <td>5.645690e+03</td>\n",
              "      <td>-100.0</td>\n",
              "      <td>-40.50</td>\n",
              "      <td>-23.0</td>\n",
              "      <td>-1.5</td>\n",
              "      <td>5.150000e+04</td>\n",
              "    </tr>\n",
              "    <tr>\n",
              "      <th>cases_1m</th>\n",
              "      <td>212.0</td>\n",
              "      <td>2.527309e+03</td>\n",
              "      <td>6.455296e+03</td>\n",
              "      <td>0.0</td>\n",
              "      <td>6.75</td>\n",
              "      <td>162.5</td>\n",
              "      <td>2312.5</td>\n",
              "      <td>6.013800e+04</td>\n",
              "    </tr>\n",
              "    <tr>\n",
              "      <th>population</th>\n",
              "      <td>212.0</td>\n",
              "      <td>3.697350e+07</td>\n",
              "      <td>1.437274e+08</td>\n",
              "      <td>3660.0</td>\n",
              "      <td>640090.00</td>\n",
              "      <td>6629760.5</td>\n",
              "      <td>26403046.0</td>\n",
              "      <td>1.449190e+09</td>\n",
              "    </tr>\n",
              "  </tbody>\n",
              "</table>\n",
              "</div>"
            ],
            "text/plain": [
              "             count          mean           std     min        25%        50%  \\\n",
              "cases_now    212.0  3.226665e+04  1.411302e+05     0.0      40.00      420.5   \n",
              "cases_prec   212.0  4.072566e+04  1.808994e+05     0.0      60.50      587.0   \n",
              "case_change  212.0  7.387231e+02  5.645690e+03  -100.0     -40.50      -23.0   \n",
              "cases_1m     212.0  2.527309e+03  6.455296e+03     0.0       6.75      162.5   \n",
              "population   212.0  3.697350e+07  1.437274e+08  3660.0  640090.00  6629760.5   \n",
              "\n",
              "                    75%           max  \n",
              "cases_now        5742.0  1.367873e+06  \n",
              "cases_prec       7363.5  1.916973e+06  \n",
              "case_change        -1.5  5.150000e+04  \n",
              "cases_1m         2312.5  6.013800e+04  \n",
              "population   26403046.0  1.449190e+09  "
            ]
          },
          "execution_count": 6,
          "metadata": {},
          "output_type": "execute_result"
        }
      ],
      "source": [
        "covid.describe().T"
      ]
    },
    {
      "cell_type": "markdown",
      "metadata": {
        "id": "-DLUIEASUjxY"
      },
      "source": [
        "## 2. 데이터 분석"
      ]
    },
    {
      "cell_type": "markdown",
      "metadata": {
        "id": "BroWFdeJUrka"
      },
      "source": [
        "### 2-1. 분석 목표 구체화\n",
        "1. 인구 수가 많을수록 확진자 수가 많아지는 경향성이 있는가?\n",
        "2. 누적 확진자 수가 많은 나라에서의 최근(2주) 확진자 수 추이는 어떠한가?"
      ]
    },
    {
      "cell_type": "markdown",
      "metadata": {
        "id": "eD5wBzrka1IG"
      },
      "source": [
        "### 2-2. 분석 및 시각화"
      ]
    },
    {
      "cell_type": "markdown",
      "metadata": {
        "id": "ZycZHcxvVqXd"
      },
      "source": [
        "데이터 간 상관관계 확인해보기"
      ]
    },
    {
      "cell_type": "code",
      "execution_count": 7,
      "metadata": {
        "colab": {
          "base_uri": "https://localhost:8080/",
          "height": 206
        },
        "id": "yklo35TiKNO7",
        "outputId": "9294068d-a484-4e0e-9d85-eca3c220d95e"
      },
      "outputs": [
        {
          "data": {
            "text/html": [
              "<div>\n",
              "<style scoped>\n",
              "    .dataframe tbody tr th:only-of-type {\n",
              "        vertical-align: middle;\n",
              "    }\n",
              "\n",
              "    .dataframe tbody tr th {\n",
              "        vertical-align: top;\n",
              "    }\n",
              "\n",
              "    .dataframe thead th {\n",
              "        text-align: right;\n",
              "    }\n",
              "</style>\n",
              "<table border=\"1\" class=\"dataframe\">\n",
              "  <thead>\n",
              "    <tr style=\"text-align: right;\">\n",
              "      <th></th>\n",
              "      <th>cases_now</th>\n",
              "      <th>cases_prec</th>\n",
              "      <th>case_change</th>\n",
              "      <th>cases_1m</th>\n",
              "      <th>population</th>\n",
              "    </tr>\n",
              "  </thead>\n",
              "  <tbody>\n",
              "    <tr>\n",
              "      <th>cases_now</th>\n",
              "      <td>1.000000</td>\n",
              "      <td>0.988608</td>\n",
              "      <td>-0.030285</td>\n",
              "      <td>0.317531</td>\n",
              "      <td>0.062086</td>\n",
              "    </tr>\n",
              "    <tr>\n",
              "      <th>cases_prec</th>\n",
              "      <td>0.988608</td>\n",
              "      <td>1.000000</td>\n",
              "      <td>-0.030432</td>\n",
              "      <td>0.319180</td>\n",
              "      <td>0.055180</td>\n",
              "    </tr>\n",
              "    <tr>\n",
              "      <th>case_change</th>\n",
              "      <td>-0.030285</td>\n",
              "      <td>-0.030432</td>\n",
              "      <td>1.000000</td>\n",
              "      <td>0.096624</td>\n",
              "      <td>-0.030066</td>\n",
              "    </tr>\n",
              "    <tr>\n",
              "      <th>cases_1m</th>\n",
              "      <td>0.317531</td>\n",
              "      <td>0.319180</td>\n",
              "      <td>0.096624</td>\n",
              "      <td>1.000000</td>\n",
              "      <td>-0.066246</td>\n",
              "    </tr>\n",
              "    <tr>\n",
              "      <th>population</th>\n",
              "      <td>0.062086</td>\n",
              "      <td>0.055180</td>\n",
              "      <td>-0.030066</td>\n",
              "      <td>-0.066246</td>\n",
              "      <td>1.000000</td>\n",
              "    </tr>\n",
              "  </tbody>\n",
              "</table>\n",
              "</div>"
            ],
            "text/plain": [
              "             cases_now  cases_prec  case_change  cases_1m  population\n",
              "cases_now     1.000000    0.988608    -0.030285  0.317531    0.062086\n",
              "cases_prec    0.988608    1.000000    -0.030432  0.319180    0.055180\n",
              "case_change  -0.030285   -0.030432     1.000000  0.096624   -0.030066\n",
              "cases_1m      0.317531    0.319180     0.096624  1.000000   -0.066246\n",
              "population    0.062086    0.055180    -0.030066 -0.066246    1.000000"
            ]
          },
          "execution_count": 7,
          "metadata": {},
          "output_type": "execute_result"
        }
      ],
      "source": [
        "covid.corr()"
      ]
    },
    {
      "cell_type": "code",
      "execution_count": 8,
      "metadata": {
        "colab": {
          "base_uri": "https://localhost:8080/"
        },
        "id": "8uVXG5KrKrAa",
        "outputId": "8b193762-11a7-42bd-c72c-c7ce96e1fce1"
      },
      "outputs": [
        {
          "name": "stdout",
          "output_type": "stream",
          "text": [
            "인구 수와 최근 1주간 확진자 수 : (0.06208606171224264, 0.3683809554109821)\n",
            "인구 수와 이전 1주간 확진자 수 : (0.05518047234912976, 0.4241171415612549)\n",
            "인구 수와 최근 2주간 확진자 수 변화 : (-0.030066264492943164, 0.6633580237551276)\n"
          ]
        }
      ],
      "source": [
        "import scipy.stats as stats\n",
        "\n",
        "# 피어슨 상관계수 검정 (r, p-value)\n",
        "print('인구 수와 최근 1주간 확진자 수 :', stats.pearsonr(covid.cases_now, covid.population))\n",
        "print('인구 수와 이전 1주간 확진자 수 :', stats.pearsonr(covid.cases_prec, covid.population))\n",
        "print('인구 수와 최근 2주간 확진자 수 변화 :', stats.pearsonr(covid.case_change, covid.population))"
      ]
    },
    {
      "cell_type": "markdown",
      "metadata": {
        "id": "_OwZBb5CKqxC"
      },
      "source": [
        "=> 인구 수가 많을 수록 확진자 수가 많다고 결정지을 수 없다."
      ]
    },
    {
      "cell_type": "markdown",
      "metadata": {
        "id": "qKaWMThqYDFZ"
      },
      "source": [
        "질병관리청을 참고하여 누적 확진자 수가 많은 나라를 뽑았다. [출처](http://ncov.mohw.go.kr/bdBoardList_Real.do?brdId=1&brdGubun=14&ncvContSeq=&contSeq=&board_id=&gubun=)"
      ]
    },
    {
      "cell_type": "code",
      "execution_count": 9,
      "metadata": {
        "colab": {
          "base_uri": "https://localhost:8080/",
          "height": 363
        },
        "id": "n6CUL_yPPaoW",
        "outputId": "51f12f4d-282e-4ca2-8de7-0618a8cc2062"
      },
      "outputs": [
        {
          "data": {
            "text/html": [
              "<div>\n",
              "<style scoped>\n",
              "    .dataframe tbody tr th:only-of-type {\n",
              "        vertical-align: middle;\n",
              "    }\n",
              "\n",
              "    .dataframe tbody tr th {\n",
              "        vertical-align: top;\n",
              "    }\n",
              "\n",
              "    .dataframe thead th {\n",
              "        text-align: right;\n",
              "    }\n",
              "</style>\n",
              "<table border=\"1\" class=\"dataframe\">\n",
              "  <thead>\n",
              "    <tr style=\"text-align: right;\">\n",
              "      <th></th>\n",
              "      <th>country</th>\n",
              "      <th>cases_now</th>\n",
              "      <th>cases_prec</th>\n",
              "      <th>case_change</th>\n",
              "      <th>cases_1m</th>\n",
              "      <th>population</th>\n",
              "    </tr>\n",
              "  </thead>\n",
              "  <tbody>\n",
              "    <tr>\n",
              "      <th>0</th>\n",
              "      <td>Brazil</td>\n",
              "      <td>143800</td>\n",
              "      <td>157732</td>\n",
              "      <td>-9.0</td>\n",
              "      <td>668.0</td>\n",
              "      <td>215241599</td>\n",
              "    </tr>\n",
              "    <tr>\n",
              "      <th>1</th>\n",
              "      <td>France</td>\n",
              "      <td>935108</td>\n",
              "      <td>952013</td>\n",
              "      <td>-2.0</td>\n",
              "      <td>14270.0</td>\n",
              "      <td>65529910</td>\n",
              "    </tr>\n",
              "    <tr>\n",
              "      <th>2</th>\n",
              "      <td>Germany</td>\n",
              "      <td>977384</td>\n",
              "      <td>1256200</td>\n",
              "      <td>-22.0</td>\n",
              "      <td>11600.0</td>\n",
              "      <td>84259518</td>\n",
              "    </tr>\n",
              "    <tr>\n",
              "      <th>3</th>\n",
              "      <td>India</td>\n",
              "      <td>7091</td>\n",
              "      <td>7710</td>\n",
              "      <td>-8.0</td>\n",
              "      <td>5.0</td>\n",
              "      <td>1404087743</td>\n",
              "    </tr>\n",
              "    <tr>\n",
              "      <th>4</th>\n",
              "      <td>Italy</td>\n",
              "      <td>438144</td>\n",
              "      <td>476296</td>\n",
              "      <td>-8.0</td>\n",
              "      <td>7266.0</td>\n",
              "      <td>60304008</td>\n",
              "    </tr>\n",
              "    <tr>\n",
              "      <th>5</th>\n",
              "      <td>Russia</td>\n",
              "      <td>92721</td>\n",
              "      <td>122601</td>\n",
              "      <td>-24.0</td>\n",
              "      <td>635.0</td>\n",
              "      <td>146045544</td>\n",
              "    </tr>\n",
              "    <tr>\n",
              "      <th>6</th>\n",
              "      <td>S. Korea</td>\n",
              "      <td>1367873</td>\n",
              "      <td>1916973</td>\n",
              "      <td>-29.0</td>\n",
              "      <td>26640.0</td>\n",
              "      <td>51347510</td>\n",
              "    </tr>\n",
              "    <tr>\n",
              "      <th>7</th>\n",
              "      <td>Turkey</td>\n",
              "      <td>52911</td>\n",
              "      <td>88360</td>\n",
              "      <td>-40.0</td>\n",
              "      <td>616.0</td>\n",
              "      <td>85949948</td>\n",
              "    </tr>\n",
              "    <tr>\n",
              "      <th>8</th>\n",
              "      <td>UK</td>\n",
              "      <td>242883</td>\n",
              "      <td>388122</td>\n",
              "      <td>-37.0</td>\n",
              "      <td>3545.0</td>\n",
              "      <td>68519051</td>\n",
              "    </tr>\n",
              "    <tr>\n",
              "      <th>9</th>\n",
              "      <td>USA</td>\n",
              "      <td>206520</td>\n",
              "      <td>206409</td>\n",
              "      <td>0.1</td>\n",
              "      <td>617.0</td>\n",
              "      <td>334448237</td>\n",
              "    </tr>\n",
              "  </tbody>\n",
              "</table>\n",
              "</div>"
            ],
            "text/plain": [
              "    country  cases_now  cases_prec  case_change  cases_1m  population\n",
              "0    Brazil     143800      157732         -9.0     668.0   215241599\n",
              "1    France     935108      952013         -2.0   14270.0    65529910\n",
              "2   Germany     977384     1256200        -22.0   11600.0    84259518\n",
              "3     India       7091        7710         -8.0       5.0  1404087743\n",
              "4     Italy     438144      476296         -8.0    7266.0    60304008\n",
              "5    Russia      92721      122601        -24.0     635.0   146045544\n",
              "6  S. Korea    1367873     1916973        -29.0   26640.0    51347510\n",
              "7    Turkey      52911       88360        -40.0     616.0    85949948\n",
              "8        UK     242883      388122        -37.0    3545.0    68519051\n",
              "9       USA     206520      206409          0.1     617.0   334448237"
            ]
          },
          "execution_count": 9,
          "metadata": {},
          "output_type": "execute_result"
        }
      ],
      "source": [
        "top_country = ['USA', 'S. Korea', 'India', 'Brazil','France', 'Germany', 'Russia', 'Italy', 'Turkey', 'UK']\n",
        "covid_top = covid[covid.country.isin(top_country)].reset_index(drop=True)\n",
        "covid_top"
      ]
    },
    {
      "cell_type": "code",
      "execution_count": 182,
      "metadata": {
        "colab": {
          "base_uri": "https://localhost:8080/"
        },
        "id": "fG-F82dxYKUV",
        "outputId": "c2af0046-f083-4950-84f2-21912eb958c0"
      },
      "outputs": [
        {
          "name": "stdout",
          "output_type": "stream",
          "text": [
            "10\n"
          ]
        }
      ],
      "source": [
        "print(len(covid_top))"
      ]
    },
    {
      "cell_type": "markdown",
      "metadata": {
        "id": "3oSH90kjYhGj"
      },
      "source": [
        "최근 2주간 데이터에서는 확진자 수의 차이가 국가 간에 크기 때문에, 로그변환을 하여서 비교하고자 했습니다."
      ]
    },
    {
      "cell_type": "code",
      "execution_count": 10,
      "metadata": {
        "colab": {
          "base_uri": "https://localhost:8080/",
          "height": 363
        },
        "id": "ISOVPHpsfv3_",
        "outputId": "b6c477da-53b9-4194-8b34-b03ed62ea861"
      },
      "outputs": [
        {
          "data": {
            "text/html": [
              "<div>\n",
              "<style scoped>\n",
              "    .dataframe tbody tr th:only-of-type {\n",
              "        vertical-align: middle;\n",
              "    }\n",
              "\n",
              "    .dataframe tbody tr th {\n",
              "        vertical-align: top;\n",
              "    }\n",
              "\n",
              "    .dataframe thead th {\n",
              "        text-align: right;\n",
              "    }\n",
              "</style>\n",
              "<table border=\"1\" class=\"dataframe\">\n",
              "  <thead>\n",
              "    <tr style=\"text-align: right;\">\n",
              "      <th></th>\n",
              "      <th>country</th>\n",
              "      <th>cases_now</th>\n",
              "      <th>cases_prec</th>\n",
              "      <th>case_change</th>\n",
              "      <th>cases_1m</th>\n",
              "      <th>population</th>\n",
              "      <th>log_now</th>\n",
              "      <th>log_prec</th>\n",
              "    </tr>\n",
              "  </thead>\n",
              "  <tbody>\n",
              "    <tr>\n",
              "      <th>0</th>\n",
              "      <td>Brazil</td>\n",
              "      <td>143800</td>\n",
              "      <td>157732</td>\n",
              "      <td>-9.0</td>\n",
              "      <td>668.0</td>\n",
              "      <td>215241599</td>\n",
              "      <td>11.876186</td>\n",
              "      <td>11.968659</td>\n",
              "    </tr>\n",
              "    <tr>\n",
              "      <th>1</th>\n",
              "      <td>France</td>\n",
              "      <td>935108</td>\n",
              "      <td>952013</td>\n",
              "      <td>-2.0</td>\n",
              "      <td>14270.0</td>\n",
              "      <td>65529910</td>\n",
              "      <td>13.748418</td>\n",
              "      <td>13.766335</td>\n",
              "    </tr>\n",
              "    <tr>\n",
              "      <th>2</th>\n",
              "      <td>Germany</td>\n",
              "      <td>977384</td>\n",
              "      <td>1256200</td>\n",
              "      <td>-22.0</td>\n",
              "      <td>11600.0</td>\n",
              "      <td>84259518</td>\n",
              "      <td>13.792636</td>\n",
              "      <td>14.043603</td>\n",
              "    </tr>\n",
              "    <tr>\n",
              "      <th>3</th>\n",
              "      <td>India</td>\n",
              "      <td>7091</td>\n",
              "      <td>7710</td>\n",
              "      <td>-8.0</td>\n",
              "      <td>5.0</td>\n",
              "      <td>1404087743</td>\n",
              "      <td>8.866723</td>\n",
              "      <td>8.950403</td>\n",
              "    </tr>\n",
              "    <tr>\n",
              "      <th>4</th>\n",
              "      <td>Italy</td>\n",
              "      <td>438144</td>\n",
              "      <td>476296</td>\n",
              "      <td>-8.0</td>\n",
              "      <td>7266.0</td>\n",
              "      <td>60304008</td>\n",
              "      <td>12.990305</td>\n",
              "      <td>13.073797</td>\n",
              "    </tr>\n",
              "    <tr>\n",
              "      <th>5</th>\n",
              "      <td>Russia</td>\n",
              "      <td>92721</td>\n",
              "      <td>122601</td>\n",
              "      <td>-24.0</td>\n",
              "      <td>635.0</td>\n",
              "      <td>146045544</td>\n",
              "      <td>11.437361</td>\n",
              "      <td>11.716699</td>\n",
              "    </tr>\n",
              "    <tr>\n",
              "      <th>6</th>\n",
              "      <td>S. Korea</td>\n",
              "      <td>1367873</td>\n",
              "      <td>1916973</td>\n",
              "      <td>-29.0</td>\n",
              "      <td>26640.0</td>\n",
              "      <td>51347510</td>\n",
              "      <td>14.128768</td>\n",
              "      <td>14.466258</td>\n",
              "    </tr>\n",
              "    <tr>\n",
              "      <th>7</th>\n",
              "      <td>Turkey</td>\n",
              "      <td>52911</td>\n",
              "      <td>88360</td>\n",
              "      <td>-40.0</td>\n",
              "      <td>616.0</td>\n",
              "      <td>85949948</td>\n",
              "      <td>10.876385</td>\n",
              "      <td>11.389186</td>\n",
              "    </tr>\n",
              "    <tr>\n",
              "      <th>8</th>\n",
              "      <td>UK</td>\n",
              "      <td>242883</td>\n",
              "      <td>388122</td>\n",
              "      <td>-37.0</td>\n",
              "      <td>3545.0</td>\n",
              "      <td>68519051</td>\n",
              "      <td>12.400339</td>\n",
              "      <td>12.869078</td>\n",
              "    </tr>\n",
              "    <tr>\n",
              "      <th>9</th>\n",
              "      <td>USA</td>\n",
              "      <td>206520</td>\n",
              "      <td>206409</td>\n",
              "      <td>0.1</td>\n",
              "      <td>617.0</td>\n",
              "      <td>334448237</td>\n",
              "      <td>12.238157</td>\n",
              "      <td>12.237620</td>\n",
              "    </tr>\n",
              "  </tbody>\n",
              "</table>\n",
              "</div>"
            ],
            "text/plain": [
              "    country  cases_now  cases_prec  case_change  cases_1m  population  \\\n",
              "0    Brazil     143800      157732         -9.0     668.0   215241599   \n",
              "1    France     935108      952013         -2.0   14270.0    65529910   \n",
              "2   Germany     977384     1256200        -22.0   11600.0    84259518   \n",
              "3     India       7091        7710         -8.0       5.0  1404087743   \n",
              "4     Italy     438144      476296         -8.0    7266.0    60304008   \n",
              "5    Russia      92721      122601        -24.0     635.0   146045544   \n",
              "6  S. Korea    1367873     1916973        -29.0   26640.0    51347510   \n",
              "7    Turkey      52911       88360        -40.0     616.0    85949948   \n",
              "8        UK     242883      388122        -37.0    3545.0    68519051   \n",
              "9       USA     206520      206409          0.1     617.0   334448237   \n",
              "\n",
              "     log_now   log_prec  \n",
              "0  11.876186  11.968659  \n",
              "1  13.748418  13.766335  \n",
              "2  13.792636  14.043603  \n",
              "3   8.866723   8.950403  \n",
              "4  12.990305  13.073797  \n",
              "5  11.437361  11.716699  \n",
              "6  14.128768  14.466258  \n",
              "7  10.876385  11.389186  \n",
              "8  12.400339  12.869078  \n",
              "9  12.238157  12.237620  "
            ]
          },
          "execution_count": 10,
          "metadata": {},
          "output_type": "execute_result"
        }
      ],
      "source": [
        "covid_top['log_now'] = np.log1p(covid_top['cases_now'])\n",
        "covid_top['log_prec'] = np.log1p(covid_top['cases_prec'])\n",
        "covid_top"
      ]
    },
    {
      "cell_type": "code",
      "execution_count": 11,
      "metadata": {
        "colab": {
          "base_uri": "https://localhost:8080/",
          "height": 268
        },
        "id": "tonS3M0QY47R",
        "outputId": "b9f9c474-20f9-487f-b374-820478c7f2e8"
      },
      "outputs": [
        {
          "data": {
            "text/html": [
              "<div>\n",
              "<style scoped>\n",
              "    .dataframe tbody tr th:only-of-type {\n",
              "        vertical-align: middle;\n",
              "    }\n",
              "\n",
              "    .dataframe tbody tr th {\n",
              "        vertical-align: top;\n",
              "    }\n",
              "\n",
              "    .dataframe thead th {\n",
              "        text-align: right;\n",
              "    }\n",
              "</style>\n",
              "<table border=\"1\" class=\"dataframe\">\n",
              "  <thead>\n",
              "    <tr style=\"text-align: right;\">\n",
              "      <th></th>\n",
              "      <th>count</th>\n",
              "      <th>mean</th>\n",
              "      <th>std</th>\n",
              "      <th>min</th>\n",
              "      <th>25%</th>\n",
              "      <th>50%</th>\n",
              "      <th>75%</th>\n",
              "      <th>max</th>\n",
              "    </tr>\n",
              "  </thead>\n",
              "  <tbody>\n",
              "    <tr>\n",
              "      <th>cases_now</th>\n",
              "      <td>10.0</td>\n",
              "      <td>4.464435e+05</td>\n",
              "      <td>4.753248e+05</td>\n",
              "      <td>7.091000e+03</td>\n",
              "      <td>1.054908e+05</td>\n",
              "      <td>2.247015e+05</td>\n",
              "      <td>8.108670e+05</td>\n",
              "      <td>1.367873e+06</td>\n",
              "    </tr>\n",
              "    <tr>\n",
              "      <th>cases_prec</th>\n",
              "      <td>10.0</td>\n",
              "      <td>5.572416e+05</td>\n",
              "      <td>6.255530e+05</td>\n",
              "      <td>7.710000e+03</td>\n",
              "      <td>1.313838e+05</td>\n",
              "      <td>2.972655e+05</td>\n",
              "      <td>8.330838e+05</td>\n",
              "      <td>1.916973e+06</td>\n",
              "    </tr>\n",
              "    <tr>\n",
              "      <th>case_change</th>\n",
              "      <td>10.0</td>\n",
              "      <td>-1.789000e+01</td>\n",
              "      <td>1.446255e+01</td>\n",
              "      <td>-4.000000e+01</td>\n",
              "      <td>-2.775000e+01</td>\n",
              "      <td>-1.550000e+01</td>\n",
              "      <td>-8.000000e+00</td>\n",
              "      <td>1.000000e-01</td>\n",
              "    </tr>\n",
              "    <tr>\n",
              "      <th>cases_1m</th>\n",
              "      <td>10.0</td>\n",
              "      <td>6.586200e+03</td>\n",
              "      <td>8.699129e+03</td>\n",
              "      <td>5.000000e+00</td>\n",
              "      <td>6.215000e+02</td>\n",
              "      <td>2.106500e+03</td>\n",
              "      <td>1.051650e+04</td>\n",
              "      <td>2.664000e+04</td>\n",
              "    </tr>\n",
              "    <tr>\n",
              "      <th>population</th>\n",
              "      <td>10.0</td>\n",
              "      <td>2.515733e+08</td>\n",
              "      <td>4.147066e+08</td>\n",
              "      <td>5.134751e+07</td>\n",
              "      <td>6.627720e+07</td>\n",
              "      <td>8.510473e+07</td>\n",
              "      <td>1.979426e+08</td>\n",
              "      <td>1.404088e+09</td>\n",
              "    </tr>\n",
              "    <tr>\n",
              "      <th>log_now</th>\n",
              "      <td>10.0</td>\n",
              "      <td>1.223553e+01</td>\n",
              "      <td>1.593632e+00</td>\n",
              "      <td>8.866723e+00</td>\n",
              "      <td>1.154707e+01</td>\n",
              "      <td>1.231925e+01</td>\n",
              "      <td>1.355889e+01</td>\n",
              "      <td>1.412877e+01</td>\n",
              "    </tr>\n",
              "    <tr>\n",
              "      <th>log_prec</th>\n",
              "      <td>10.0</td>\n",
              "      <td>1.244816e+01</td>\n",
              "      <td>1.601713e+00</td>\n",
              "      <td>8.950403e+00</td>\n",
              "      <td>1.177969e+01</td>\n",
              "      <td>1.255335e+01</td>\n",
              "      <td>1.359320e+01</td>\n",
              "      <td>1.446626e+01</td>\n",
              "    </tr>\n",
              "  </tbody>\n",
              "</table>\n",
              "</div>"
            ],
            "text/plain": [
              "             count          mean           std           min           25%  \\\n",
              "cases_now     10.0  4.464435e+05  4.753248e+05  7.091000e+03  1.054908e+05   \n",
              "cases_prec    10.0  5.572416e+05  6.255530e+05  7.710000e+03  1.313838e+05   \n",
              "case_change   10.0 -1.789000e+01  1.446255e+01 -4.000000e+01 -2.775000e+01   \n",
              "cases_1m      10.0  6.586200e+03  8.699129e+03  5.000000e+00  6.215000e+02   \n",
              "population    10.0  2.515733e+08  4.147066e+08  5.134751e+07  6.627720e+07   \n",
              "log_now       10.0  1.223553e+01  1.593632e+00  8.866723e+00  1.154707e+01   \n",
              "log_prec      10.0  1.244816e+01  1.601713e+00  8.950403e+00  1.177969e+01   \n",
              "\n",
              "                      50%           75%           max  \n",
              "cases_now    2.247015e+05  8.108670e+05  1.367873e+06  \n",
              "cases_prec   2.972655e+05  8.330838e+05  1.916973e+06  \n",
              "case_change -1.550000e+01 -8.000000e+00  1.000000e-01  \n",
              "cases_1m     2.106500e+03  1.051650e+04  2.664000e+04  \n",
              "population   8.510473e+07  1.979426e+08  1.404088e+09  \n",
              "log_now      1.231925e+01  1.355889e+01  1.412877e+01  \n",
              "log_prec     1.255335e+01  1.359320e+01  1.446626e+01  "
            ]
          },
          "execution_count": 11,
          "metadata": {},
          "output_type": "execute_result"
        }
      ],
      "source": [
        "covid_top.describe().T"
      ]
    },
    {
      "cell_type": "code",
      "execution_count": 12,
      "metadata": {
        "colab": {
          "base_uri": "https://localhost:8080/",
          "height": 496
        },
        "id": "A8xX8H6AWH6l",
        "outputId": "54c1cc35-f436-47f0-a28e-b35bd43d5bb7"
      },
      "outputs": [
        {
          "data": {
            "image/png": "[encoded data removed]",
            "text/plain": [
              "<Figure size 576x576 with 1 Axes>"
            ]
          },
          "metadata": {
            "needs_background": "light"
          },
          "output_type": "display_data"
        }
      ],
      "source": [
        "fig, ax = plt.subplots(figsize = (8,8))\n",
        "sns.barplot(data=covid_top, x='country', y='case_change')\n",
        "plt.ylabel('Weekly change (%)', size = 13)\n",
        "plt.show()\n",
        "# plt.savefig('/content/drive/MyDrive/Colab Notebooks/감소 추세.png', dpi=300)"
      ]
    },
    {
      "cell_type": "markdown",
      "metadata": {
        "id": "2_MpWggGZMj0"
      },
      "source": [
        "=> 1. 미국에서는 확진자 수의 변화가 거의 없으며,  \n",
        "=> 2. 미국을 제외한 나라에서는 각 나라에서 전주 대비 8%~40%, 평균 약 18% 정도 확진자 수가 줄었음을 확인할 수 있습니다."
      ]
    },
    {
      "cell_type": "code",
      "execution_count": 26,
      "metadata": {
        "colab": {
          "base_uri": "https://localhost:8080/",
          "height": 504
        },
        "id": "2IY6LAh8bt6d",
        "outputId": "fdb6059b-0c92-4856-eda8-34acfeb119a8"
      },
      "outputs": [
        {
          "data": {
            "image/png": "[encoded data removed]",
            "text/plain": [
              "<Figure size 1152x576 with 2 Axes>"
            ]
          },
          "metadata": {
            "needs_background": "light"
          },
          "output_type": "display_data"
        }
      ],
      "source": [
        "# 그림 사이즈, 바 굵기 조정\n",
        "fig, ax = plt.subplots(figsize=(16,8))\n",
        "bar_width = 0.25\n",
        "\n",
        "index = np.arange(len(covid_top))\n",
        "\n",
        "b1 = plt.bar(index - bar_width/2, covid_top['log_prec'], bar_width, alpha=0.4, color='red', label='March 30 - April 05')\n",
        "\n",
        "b2 = plt.bar(index + bar_width/2, covid_top['log_now'], bar_width, alpha=0.4, color='blue', label='April 06 - April 13')\n",
        "\n",
        "plt.xticks(np.arange(0, len(covid_top)), labels=covid_top['country'])\n",
        "plt.ylim(8, 15)\n",
        "\n",
        "# x축, y축 이름 및 범례 설정\n",
        "plt.xlabel('Top 10 country (Over 20 thousand cumulative cases)', size = 13)\n",
        "plt.ylabel('confirmed case number (log)', size = 13)\n",
        "plt.legend()\n",
        "\n",
        "ax2 = ax.twinx()\n",
        "ax2.stem(index, covid_top['case_change'])\n",
        "ax2.invert_yaxis()\n",
        "ax2.set_ylabel('decrease in cases (%)', size=13)\n",
        "plt.show()\n",
        "# plt.savefig('/content/drive/MyDrive/Colab Notebooks/나라별 확진자 수.png', dpi=300)"
      ]
    },
    {
      "cell_type": "code",
      "execution_count": 187,
      "metadata": {
        "colab": {
          "base_uri": "https://localhost:8080/",
          "height": 112
        },
        "id": "931K46uWm4Fc",
        "outputId": "99f57d25-9b35-463d-be9e-e596a2112808"
      },
      "outputs": [
        {
          "data": {
            "text/html": [
              "\n",
              "  <div id=\"df-f86a96a7-2cf8-4b36-86ac-8f9a1f6bbc77\">\n",
              "    <div class=\"colab-df-container\">\n",
              "      <div>\n",
              "<style scoped>\n",
              "    .dataframe tbody tr th:only-of-type {\n",
              "        vertical-align: middle;\n",
              "    }\n",
              "\n",
              "    .dataframe tbody tr th {\n",
              "        vertical-align: top;\n",
              "    }\n",
              "\n",
              "    .dataframe thead th {\n",
              "        text-align: right;\n",
              "    }\n",
              "</style>\n",
              "<table border=\"1\" class=\"dataframe\">\n",
              "  <thead>\n",
              "    <tr style=\"text-align: right;\">\n",
              "      <th></th>\n",
              "      <th>Brazil</th>\n",
              "      <th>France</th>\n",
              "      <th>Germany</th>\n",
              "      <th>India</th>\n",
              "      <th>Italy</th>\n",
              "      <th>Russia</th>\n",
              "      <th>S. Korea</th>\n",
              "      <th>Turkey</th>\n",
              "      <th>UK</th>\n",
              "      <th>USA</th>\n",
              "      <th>total_mean</th>\n",
              "    </tr>\n",
              "  </thead>\n",
              "  <tbody>\n",
              "    <tr>\n",
              "      <th>0</th>\n",
              "      <td>157732</td>\n",
              "      <td>952013</td>\n",
              "      <td>1256200</td>\n",
              "      <td>7710</td>\n",
              "      <td>476296</td>\n",
              "      <td>122601</td>\n",
              "      <td>1916973</td>\n",
              "      <td>88360</td>\n",
              "      <td>388122</td>\n",
              "      <td>206409</td>\n",
              "      <td>557241.6</td>\n",
              "    </tr>\n",
              "    <tr>\n",
              "      <th>1</th>\n",
              "      <td>143800</td>\n",
              "      <td>935108</td>\n",
              "      <td>977384</td>\n",
              "      <td>7091</td>\n",
              "      <td>438144</td>\n",
              "      <td>92721</td>\n",
              "      <td>1367873</td>\n",
              "      <td>52911</td>\n",
              "      <td>242883</td>\n",
              "      <td>206520</td>\n",
              "      <td>446443.5</td>\n",
              "    </tr>\n",
              "  </tbody>\n",
              "</table>\n",
              "</div>\n",
              "      <button class=\"colab-df-convert\" onclick=\"convertToInteractive('df-f86a96a7-2cf8-4b36-86ac-8f9a1f6bbc77')\"\n",
              "              title=\"Convert this dataframe to an interactive table.\"\n",
              "              style=\"display:none;\">\n",
              "        \n",
              "  <svg xmlns=\"http://www.w3.org/2000/svg\" height=\"24px\"viewBox=\"0 0 24 24\"\n",
              "       width=\"24px\">\n",
              "    <path d=\"M0 0h24v24H0V0z\" fill=\"none\"/>\n",
              "    <path d=\"M18.56 5.44l.94 2.06.94-2.06 2.06-.94-2.06-.94-.94-2.06-.94 2.06-2.06.94zm-11 1L8.5 8.5l.94-2.06 2.06-.94-2.06-.94L8.5 2.5l-.94 2.06-2.06.94zm10 10l.94 2.06.94-2.06 2.06-.94-2.06-.94-.94-2.06-.94 2.06-2.06.94z\"/><path d=\"M17.41 7.96l-1.37-1.37c-.4-.4-.92-.59-1.43-.59-.52 0-1.04.2-1.43.59L10.3 9.45l-7.72 7.72c-.78.78-.78 2.05 0 2.83L4 21.41c.39.39.9.59 1.41.59.51 0 1.02-.2 1.41-.59l7.78-7.78 2.81-2.81c.8-.78.8-2.07 0-2.86zM5.41 20L4 18.59l7.72-7.72 1.47 1.35L5.41 20z\"/>\n",
              "  </svg>\n",
              "      </button>\n",
              "      \n",
              "  <style>\n",
              "    .colab-df-container {\n",
              "      display:flex;\n",
              "      flex-wrap:wrap;\n",
              "      gap: 12px;\n",
              "    }\n",
              "\n",
              "    .colab-df-convert {\n",
              "      background-color: #E8F0FE;\n",
              "      border: none;\n",
              "      border-radius: 50%;\n",
              "      cursor: pointer;\n",
              "      display: none;\n",
              "      fill: #1967D2;\n",
              "      height: 32px;\n",
              "      padding: 0 0 0 0;\n",
              "      width: 32px;\n",
              "    }\n",
              "\n",
              "    .colab-df-convert:hover {\n",
              "      background-color: #E2EBFA;\n",
              "      box-shadow: 0px 1px 2px rgba(60, 64, 67, 0.3), 0px 1px 3px 1px rgba(60, 64, 67, 0.15);\n",
              "      fill: #174EA6;\n",
              "    }\n",
              "\n",
              "    [theme=dark] .colab-df-convert {\n",
              "      background-color: #3B4455;\n",
              "      fill: #D2E3FC;\n",
              "    }\n",
              "\n",
              "    [theme=dark] .colab-df-convert:hover {\n",
              "      background-color: #434B5C;\n",
              "      box-shadow: 0px 1px 3px 1px rgba(0, 0, 0, 0.15);\n",
              "      filter: drop-shadow(0px 1px 2px rgba(0, 0, 0, 0.3));\n",
              "      fill: #FFFFFF;\n",
              "    }\n",
              "  </style>\n",
              "\n",
              "      <script>\n",
              "        const buttonEl =\n",
              "          document.querySelector('#df-f86a96a7-2cf8-4b36-86ac-8f9a1f6bbc77 button.colab-df-convert');\n",
              "        buttonEl.style.display =\n",
              "          google.colab.kernel.accessAllowed ? 'block' : 'none';\n",
              "\n",
              "        async function convertToInteractive(key) {\n",
              "          const element = document.querySelector('#df-f86a96a7-2cf8-4b36-86ac-8f9a1f6bbc77');\n",
              "          const dataTable =\n",
              "            await google.colab.kernel.invokeFunction('convertToInteractive',\n",
              "                                                     [key], {});\n",
              "          if (!dataTable) return;\n",
              "\n",
              "          const docLinkHtml = 'Like what you see? Visit the ' +\n",
              "            '<a target=\"_blank\" href=https://colab.research.google.com/notebooks/data_table.ipynb>data table notebook</a>'\n",
              "            + ' to learn more about interactive tables.';\n",
              "          element.innerHTML = '';\n",
              "          dataTable['output_type'] = 'display_data';\n",
              "          await google.colab.output.renderOutput(dataTable, element);\n",
              "          const docLink = document.createElement('div');\n",
              "          docLink.innerHTML = docLinkHtml;\n",
              "          element.appendChild(docLink);\n",
              "        }\n",
              "      </script>\n",
              "    </div>\n",
              "  </div>\n",
              "  "
            ],
            "text/plain": [
              "   Brazil  France  Germany  India   Italy  Russia  S. Korea  Turkey      UK  \\\n",
              "0  157732  952013  1256200   7710  476296  122601   1916973   88360  388122   \n",
              "1  143800  935108   977384   7091  438144   92721   1367873   52911  242883   \n",
              "\n",
              "      USA  total_mean  \n",
              "0  206409    557241.6  \n",
              "1  206520    446443.5  "
            ]
          },
          "execution_count": 187,
          "metadata": {},
          "output_type": "execute_result"
        }
      ],
      "source": [
        "temp = pd.DataFrame({})\n",
        "covid_top.country\n",
        "for idx in range(len(covid_top['country'])) :\n",
        "  name = covid_top.country[idx]\n",
        "  temp[name] = [covid_top.iloc[idx]['cases_prec'], covid_top.iloc[idx]['cases_now']]\n",
        "temp['total_mean'] = temp.mean(axis=1)\n",
        "temp"
      ]
    },
    {
      "cell_type": "code",
      "execution_count": 200,
      "metadata": {
        "colab": {
          "base_uri": "https://localhost:8080/",
          "height": 494
        },
        "id": "Ezdo7hUmyVUg",
        "outputId": "e702c005-24bd-4db8-c03c-107d182b020c"
      },
      "outputs": [
        {
          "data": {
            "image/png": "[encoded data removed]",
            "text/plain": [
              "<Figure size 576x576 with 1 Axes>"
            ]
          },
          "metadata": {
            "needs_background": "light"
          },
          "output_type": "display_data"
        }
      ],
      "source": [
        "plt.figure(figsize=(8,8))\n",
        "sns.barplot(data=temp, x=[0,1], y='S. Korea', label='South Korea', color='lightblue')\n",
        "plt.plot([0,1], temp['total_mean'], color='green', label='Total: Top 10 country')\n",
        "plt.xticks(np.arange(0,2), labels=['March 30 - April 05', 'April 06 - April 13'])\n",
        "plt.ylabel('confirmed case number', size=13)\n",
        "plt.legend()\n",
        "plt.show()\n",
        "# plt.savefig('/content/drive/MyDrive/Colab Notebooks/한국과 전체.png', dpi=300)"
      ]
    }
  ],
  "metadata": {
    "colab": {
      "collapsed_sections": [],
      "name": "확진자 수 및 여행객 수.ipynb",
      "provenance": []
    },
    "kernelspec": {
      "display_name": "Python 3.10.2 64-bit",
      "language": "python",
      "name": "python3"
    },
    "language_info": {
      "name": "python",
      "version": "3.10.2"
    },
    "vscode": {
      "interpreter": {
        "hash": "369f2c481f4da34e4445cda3fffd2e751bd1c4d706f27375911949ba6bb62e1c"
      }
    }
  },
  "nbformat": 4,
  "nbformat_minor": 0
}
