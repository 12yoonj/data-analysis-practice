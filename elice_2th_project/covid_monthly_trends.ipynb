{
  "cells": [
    {
      "cell_type": "markdown",
      "metadata": {
        "id": "htkRcU1PKHEz"
      },
      "source": [
        "# 코로나 확진자 추이 분석\n",
        "### 사용 데이터\n",
        "- [Covid-19 Global Dataset](https://www.kaggle.com/datasets/josephassaker/covid19-global-dataset?select=worldometer_coronavirus_daily_data.csv)\n",
        "- Daily Data Columns Description\n",
        "  - date: designates the date of observation of the row's data in YYYY-MM-DD format. (2020.01.22~2022.03.17)    \n",
        "  - country: designates the Country in which the the row's data was observed.  \n",
        "  - cumulative_total_cases: designates the cumulative number of confirmed cases as of the row's date, for the row's country.  \n",
        "  - daily_new_cases: designates the daily new number of confirmed cases on the row's date, for the row's country.  \n",
        "  - active_cases: designates the number of active cases (i.e., confirmed cases that still didn't recover nor die) on the row's date, for the row's country.  \n",
        "  - cumulative_total_deaths: designates the cumulative number of confirmed deaths as of the row's date, for the row's country.  \n",
        "  - daily_new_deaths: designates the daily new number of confirmed deaths on the row's date, for the row's country.  "
      ]
    },
    {
      "cell_type": "markdown",
      "metadata": {
        "id": "2UwAQHTcKjiv"
      },
      "source": [
        "## 1. 데이터 준비"
      ]
    },
    {
      "cell_type": "markdown",
      "metadata": {
        "id": "YyK3TNnhKmDR"
      },
      "source": [
        "### 1-1. 데이터 읽어오기"
      ]
    },
    {
      "cell_type": "code",
      "execution_count": 1,
      "metadata": {
        "colab": {
          "base_uri": "https://localhost:8080/",
          "height": 250
        },
        "id": "KpyxpqiQKk1J",
        "outputId": "9e794d34-0b3b-45b4-c03d-0cc8f15c7f63"
      },
      "outputs": [
        {
          "data": {
            "text/html": [
              "<div>\n",
              "<style scoped>\n",
              "    .dataframe tbody tr th:only-of-type {\n",
              "        vertical-align: middle;\n",
              "    }\n",
              "\n",
              "    .dataframe tbody tr th {\n",
              "        vertical-align: top;\n",
              "    }\n",
              "\n",
              "    .dataframe thead th {\n",
              "        text-align: right;\n",
              "    }\n",
              "</style>\n",
              "<table border=\"1\" class=\"dataframe\">\n",
              "  <thead>\n",
              "    <tr style=\"text-align: right;\">\n",
              "      <th></th>\n",
              "      <th>date</th>\n",
              "      <th>country</th>\n",
              "      <th>cumulative_total_cases</th>\n",
              "      <th>daily_new_cases</th>\n",
              "      <th>active_cases</th>\n",
              "      <th>cumulative_total_deaths</th>\n",
              "      <th>daily_new_deaths</th>\n",
              "    </tr>\n",
              "  </thead>\n",
              "  <tbody>\n",
              "    <tr>\n",
              "      <th>0</th>\n",
              "      <td>2020-2-15</td>\n",
              "      <td>Afghanistan</td>\n",
              "      <td>0.0</td>\n",
              "      <td>NaN</td>\n",
              "      <td>0.0</td>\n",
              "      <td>0.0</td>\n",
              "      <td>NaN</td>\n",
              "    </tr>\n",
              "    <tr>\n",
              "      <th>1</th>\n",
              "      <td>2020-2-16</td>\n",
              "      <td>Afghanistan</td>\n",
              "      <td>0.0</td>\n",
              "      <td>NaN</td>\n",
              "      <td>0.0</td>\n",
              "      <td>0.0</td>\n",
              "      <td>NaN</td>\n",
              "    </tr>\n",
              "    <tr>\n",
              "      <th>2</th>\n",
              "      <td>2020-2-17</td>\n",
              "      <td>Afghanistan</td>\n",
              "      <td>0.0</td>\n",
              "      <td>NaN</td>\n",
              "      <td>0.0</td>\n",
              "      <td>0.0</td>\n",
              "      <td>NaN</td>\n",
              "    </tr>\n",
              "    <tr>\n",
              "      <th>3</th>\n",
              "      <td>2020-2-18</td>\n",
              "      <td>Afghanistan</td>\n",
              "      <td>0.0</td>\n",
              "      <td>NaN</td>\n",
              "      <td>0.0</td>\n",
              "      <td>0.0</td>\n",
              "      <td>NaN</td>\n",
              "    </tr>\n",
              "    <tr>\n",
              "      <th>4</th>\n",
              "      <td>2020-2-19</td>\n",
              "      <td>Afghanistan</td>\n",
              "      <td>0.0</td>\n",
              "      <td>NaN</td>\n",
              "      <td>0.0</td>\n",
              "      <td>0.0</td>\n",
              "      <td>NaN</td>\n",
              "    </tr>\n",
              "  </tbody>\n",
              "</table>\n",
              "</div>"
            ],
            "text/plain": [
              "        date      country  cumulative_total_cases  daily_new_cases  \\\n",
              "0  2020-2-15  Afghanistan                     0.0              NaN   \n",
              "1  2020-2-16  Afghanistan                     0.0              NaN   \n",
              "2  2020-2-17  Afghanistan                     0.0              NaN   \n",
              "3  2020-2-18  Afghanistan                     0.0              NaN   \n",
              "4  2020-2-19  Afghanistan                     0.0              NaN   \n",
              "\n",
              "   active_cases  cumulative_total_deaths  daily_new_deaths  \n",
              "0           0.0                      0.0               NaN  \n",
              "1           0.0                      0.0               NaN  \n",
              "2           0.0                      0.0               NaN  \n",
              "3           0.0                      0.0               NaN  \n",
              "4           0.0                      0.0               NaN  "
            ]
          },
          "execution_count": 1,
          "metadata": {},
          "output_type": "execute_result"
        }
      ],
      "source": [
        "import pandas as pd\n",
        "import numpy as np\n",
        "import seaborn as sns\n",
        "import matplotlib.pyplot as plt\n",
        "%matplotlib inline\n",
        "\n",
        "data = pd.read_csv(\"./worldometer_coronavirus_daily_data.csv\")\n",
        "covid = data.copy() # 혹시 모를 상황을 대비하여 데이터 복사\n",
        "covid.head()"
      ]
    },
    {
      "cell_type": "markdown",
      "metadata": {
        "id": "za78HPR4MEJo"
      },
      "source": [
        "### 1-2. 데이터 확인하기"
      ]
    },
    {
      "cell_type": "code",
      "execution_count": 2,
      "metadata": {
        "colab": {
          "base_uri": "https://localhost:8080/"
        },
        "id": "FmI0m9MJMIf5",
        "outputId": "9190a548-eef5-4579-c9ae-c98a65488729"
      },
      "outputs": [
        {
          "data": {
            "text/plain": [
              "(170917, 7)"
            ]
          },
          "execution_count": 2,
          "metadata": {},
          "output_type": "execute_result"
        }
      ],
      "source": [
        "covid.shape"
      ]
    },
    {
      "cell_type": "code",
      "execution_count": 3,
      "metadata": {
        "colab": {
          "base_uri": "https://localhost:8080/"
        },
        "id": "7a9q3QgBMO9g",
        "outputId": "05ee1401-14e0-4919-e98c-72bc963457d7"
      },
      "outputs": [
        {
          "name": "stdout",
          "output_type": "stream",
          "text": [
            "<class 'pandas.core.frame.DataFrame'>\n",
            "RangeIndex: 170917 entries, 0 to 170916\n",
            "Data columns (total 7 columns):\n",
            " #   Column                   Non-Null Count   Dtype  \n",
            "---  ------                   --------------   -----  \n",
            " 0   date                     170917 non-null  object \n",
            " 1   country                  170917 non-null  object \n",
            " 2   cumulative_total_cases   170917 non-null  float64\n",
            " 3   daily_new_cases          161237 non-null  float64\n",
            " 4   active_cases             161011 non-null  float64\n",
            " 5   cumulative_total_deaths  164059 non-null  float64\n",
            " 6   daily_new_deaths         145063 non-null  float64\n",
            "dtypes: float64(5), object(2)\n",
            "memory usage: 9.1+ MB\n"
          ]
        }
      ],
      "source": [
        "covid.info()"
      ]
    },
    {
      "cell_type": "markdown",
      "metadata": {
        "id": "-fYXRLFSMaDc"
      },
      "source": [
        "=> 1. 결측치가 있는 것으로 보인다.  \n",
        "=> 2. 국가별 날짜별 확진자 추이를 보고자 하므로 4,5,6번 열은 필요없어 보인다."
      ]
    },
    {
      "cell_type": "markdown",
      "metadata": {
        "id": "i1SzGklXMWKO"
      },
      "source": [
        "### 1-3. 데이터 전처리"
      ]
    },
    {
      "cell_type": "code",
      "execution_count": 4,
      "metadata": {
        "colab": {
          "base_uri": "https://localhost:8080/"
        },
        "id": "LAvxAnzsMYYp",
        "outputId": "0d5961ac-0788-4321-8724-77488db44ce8"
      },
      "outputs": [
        {
          "data": {
            "text/plain": [
              "Index(['date', 'country', 'cumulative_total_cases', 'daily_new_cases'], dtype='object')"
            ]
          },
          "execution_count": 4,
          "metadata": {},
          "output_type": "execute_result"
        }
      ],
      "source": [
        "# 필요없는 column 지우기\n",
        "covid.drop(columns = ['active_cases', 'cumulative_total_deaths', 'daily_new_deaths'], inplace=True)\n",
        "covid.columns"
      ]
    },
    {
      "cell_type": "code",
      "execution_count": 5,
      "metadata": {
        "colab": {
          "base_uri": "https://localhost:8080/"
        },
        "id": "dBMbnw9ONFYG",
        "outputId": "926703a3-a3ca-4b0f-99aa-eb89c6d8ce24"
      },
      "outputs": [
        {
          "data": {
            "text/plain": [
              "date                         0\n",
              "country                      0\n",
              "cumulative_total_cases       0\n",
              "daily_new_cases           9680\n",
              "dtype: int64"
            ]
          },
          "execution_count": 5,
          "metadata": {},
          "output_type": "execute_result"
        }
      ],
      "source": [
        "# 결측치 확인\n",
        "covid.isnull().sum()"
      ]
    },
    {
      "cell_type": "code",
      "execution_count": 6,
      "metadata": {
        "colab": {
          "base_uri": "https://localhost:8080/"
        },
        "id": "P9L1RxF3NWrq",
        "outputId": "9db7147c-4a74-418c-dd9f-4c9adc71c089"
      },
      "outputs": [
        {
          "data": {
            "text/plain": [
              "0.0        39634\n",
              "1.0         3873\n",
              "2.0         2659\n",
              "3.0         2175\n",
              "4.0         1840\n",
              "           ...  \n",
              "84695.0        1\n",
              "81005.0        1\n",
              "68400.0        1\n",
              "62597.0        1\n",
              "6181.0         1\n",
              "Name: daily_new_cases, Length: 15835, dtype: int64"
            ]
          },
          "execution_count": 6,
          "metadata": {},
          "output_type": "execute_result"
        }
      ],
      "source": [
        "covid['daily_new_cases'].value_counts()"
      ]
    },
    {
      "cell_type": "markdown",
      "metadata": {
        "id": "dweea0uXN-Dl"
      },
      "source": [
        "=> 확진자 수가 '0'인 데이터가 있으므로 결측치가 있는 아이템(행)은 수집된 것이 없는 것으로 추측된다. 따라서 결측치 행은 제거하고자 합니다."
      ]
    },
    {
      "cell_type": "code",
      "execution_count": 7,
      "metadata": {
        "colab": {
          "base_uri": "https://localhost:8080/"
        },
        "id": "nrXMK3wIOJls",
        "outputId": "e96edbaa-54a7-429b-9748-890274a26c74"
      },
      "outputs": [
        {
          "data": {
            "text/plain": [
              "date                      0\n",
              "country                   0\n",
              "cumulative_total_cases    0\n",
              "daily_new_cases           0\n",
              "dtype: int64"
            ]
          },
          "execution_count": 7,
          "metadata": {},
          "output_type": "execute_result"
        }
      ],
      "source": [
        "# 결측치 제거\n",
        "covid = covid.dropna()\n",
        "covid.isnull().sum()"
      ]
    },
    {
      "cell_type": "code",
      "execution_count": 8,
      "metadata": {
        "colab": {
          "base_uri": "https://localhost:8080/"
        },
        "id": "tO6QJ-64O-7D",
        "outputId": "7eca9fc2-c1ff-4a08-a510-6d76a53662bc"
      },
      "outputs": [
        {
          "data": {
            "text/plain": [
              "0"
            ]
          },
          "execution_count": 8,
          "metadata": {},
          "output_type": "execute_result"
        }
      ],
      "source": [
        "# 중복치 확인\n",
        "covid.duplicated().sum()"
      ]
    },
    {
      "cell_type": "code",
      "execution_count": 9,
      "metadata": {
        "colab": {
          "base_uri": "https://localhost:8080/",
          "height": 405
        },
        "id": "ws2fZEGcPRaU",
        "outputId": "495cd03e-cbbc-4d1b-8998-4d867d097dd4"
      },
      "outputs": [
        {
          "name": "stdout",
          "output_type": "stream",
          "text": [
            "<class 'pandas.core.frame.DataFrame'>\n",
            "Int64Index: 161237 entries, 10 to 170916\n",
            "Data columns (total 4 columns):\n",
            " #   Column                  Non-Null Count   Dtype  \n",
            "---  ------                  --------------   -----  \n",
            " 0   date                    161237 non-null  object \n",
            " 1   country                 161237 non-null  object \n",
            " 2   cumulative_total_cases  161237 non-null  float64\n",
            " 3   daily_new_cases         161237 non-null  float64\n",
            "dtypes: float64(2), object(2)\n",
            "memory usage: 6.2+ MB\n"
          ]
        },
        {
          "data": {
            "text/html": [
              "<div>\n",
              "<style scoped>\n",
              "    .dataframe tbody tr th:only-of-type {\n",
              "        vertical-align: middle;\n",
              "    }\n",
              "\n",
              "    .dataframe tbody tr th {\n",
              "        vertical-align: top;\n",
              "    }\n",
              "\n",
              "    .dataframe thead th {\n",
              "        text-align: right;\n",
              "    }\n",
              "</style>\n",
              "<table border=\"1\" class=\"dataframe\">\n",
              "  <thead>\n",
              "    <tr style=\"text-align: right;\">\n",
              "      <th></th>\n",
              "      <th>date</th>\n",
              "      <th>country</th>\n",
              "      <th>cumulative_total_cases</th>\n",
              "      <th>daily_new_cases</th>\n",
              "    </tr>\n",
              "  </thead>\n",
              "  <tbody>\n",
              "    <tr>\n",
              "      <th>10</th>\n",
              "      <td>2020-2-25</td>\n",
              "      <td>Afghanistan</td>\n",
              "      <td>1.0</td>\n",
              "      <td>0.0</td>\n",
              "    </tr>\n",
              "    <tr>\n",
              "      <th>11</th>\n",
              "      <td>2020-2-26</td>\n",
              "      <td>Afghanistan</td>\n",
              "      <td>1.0</td>\n",
              "      <td>0.0</td>\n",
              "    </tr>\n",
              "    <tr>\n",
              "      <th>12</th>\n",
              "      <td>2020-2-27</td>\n",
              "      <td>Afghanistan</td>\n",
              "      <td>1.0</td>\n",
              "      <td>0.0</td>\n",
              "    </tr>\n",
              "    <tr>\n",
              "      <th>13</th>\n",
              "      <td>2020-2-28</td>\n",
              "      <td>Afghanistan</td>\n",
              "      <td>1.0</td>\n",
              "      <td>0.0</td>\n",
              "    </tr>\n",
              "    <tr>\n",
              "      <th>14</th>\n",
              "      <td>2020-2-29</td>\n",
              "      <td>Afghanistan</td>\n",
              "      <td>1.0</td>\n",
              "      <td>0.0</td>\n",
              "    </tr>\n",
              "  </tbody>\n",
              "</table>\n",
              "</div>"
            ],
            "text/plain": [
              "         date      country  cumulative_total_cases  daily_new_cases\n",
              "10  2020-2-25  Afghanistan                     1.0              0.0\n",
              "11  2020-2-26  Afghanistan                     1.0              0.0\n",
              "12  2020-2-27  Afghanistan                     1.0              0.0\n",
              "13  2020-2-28  Afghanistan                     1.0              0.0\n",
              "14  2020-2-29  Afghanistan                     1.0              0.0"
            ]
          },
          "execution_count": 9,
          "metadata": {},
          "output_type": "execute_result"
        }
      ],
      "source": [
        "# 최종 분석 데이터 확인\n",
        "covid.info()\n",
        "covid.head()"
      ]
    },
    {
      "cell_type": "markdown",
      "metadata": {
        "id": "bZeNH7sCXR6D"
      },
      "source": [
        "## 2. 데이터 분석\n",
        "- 연도 및 월별 확진자 추이 확인"
      ]
    },
    {
      "cell_type": "code",
      "execution_count": 10,
      "metadata": {
        "id": "EYawkw3GXw3T"
      },
      "outputs": [],
      "source": [
        "covid.reset_index(drop=True, inplace=True)"
      ]
    },
    {
      "cell_type": "code",
      "execution_count": 11,
      "metadata": {
        "colab": {
          "base_uri": "https://localhost:8080/"
        },
        "id": "9-NzNdLzloh2",
        "outputId": "5e5b1666-ae44-41f0-ad79-9e9c722746ec"
      },
      "outputs": [
        {
          "data": {
            "text/plain": [
              "0         02\n",
              "1         02\n",
              "2         02\n",
              "3         02\n",
              "4         02\n",
              "          ..\n",
              "161232    03\n",
              "161233    03\n",
              "161234    03\n",
              "161235    03\n",
              "161236    03\n",
              "Name: date, Length: 161237, dtype: object"
            ]
          },
          "execution_count": 11,
          "metadata": {},
          "output_type": "execute_result"
        }
      ],
      "source": [
        "a = covid['date'].apply(lambda x: x.split('-')[1].zfill(2))\n",
        "a"
      ]
    },
    {
      "cell_type": "code",
      "execution_count": 12,
      "metadata": {
        "colab": {
          "base_uri": "https://localhost:8080/",
          "height": 552
        },
        "id": "FS6C2fPdnWW7",
        "outputId": "c75ea171-f3c8-4627-be75-53050f117142"
      },
      "outputs": [
        {
          "data": {
            "text/html": [
              "<div>\n",
              "<style scoped>\n",
              "    .dataframe tbody tr th:only-of-type {\n",
              "        vertical-align: middle;\n",
              "    }\n",
              "\n",
              "    .dataframe tbody tr th {\n",
              "        vertical-align: top;\n",
              "    }\n",
              "\n",
              "    .dataframe thead th {\n",
              "        text-align: right;\n",
              "    }\n",
              "</style>\n",
              "<table border=\"1\" class=\"dataframe\">\n",
              "  <thead>\n",
              "    <tr style=\"text-align: right;\">\n",
              "      <th></th>\n",
              "      <th>date</th>\n",
              "      <th>country</th>\n",
              "      <th>cumulative_total_cases</th>\n",
              "      <th>daily_new_cases</th>\n",
              "      <th>Year-Month</th>\n",
              "    </tr>\n",
              "  </thead>\n",
              "  <tbody>\n",
              "    <tr>\n",
              "      <th>0</th>\n",
              "      <td>2020-02-25</td>\n",
              "      <td>Afghanistan</td>\n",
              "      <td>1.0</td>\n",
              "      <td>0.0</td>\n",
              "      <td>2020-02</td>\n",
              "    </tr>\n",
              "    <tr>\n",
              "      <th>1</th>\n",
              "      <td>2020-02-26</td>\n",
              "      <td>Afghanistan</td>\n",
              "      <td>1.0</td>\n",
              "      <td>0.0</td>\n",
              "      <td>2020-02</td>\n",
              "    </tr>\n",
              "    <tr>\n",
              "      <th>2</th>\n",
              "      <td>2020-02-27</td>\n",
              "      <td>Afghanistan</td>\n",
              "      <td>1.0</td>\n",
              "      <td>0.0</td>\n",
              "      <td>2020-02</td>\n",
              "    </tr>\n",
              "    <tr>\n",
              "      <th>3</th>\n",
              "      <td>2020-02-28</td>\n",
              "      <td>Afghanistan</td>\n",
              "      <td>1.0</td>\n",
              "      <td>0.0</td>\n",
              "      <td>2020-02</td>\n",
              "    </tr>\n",
              "    <tr>\n",
              "      <th>4</th>\n",
              "      <td>2020-02-29</td>\n",
              "      <td>Afghanistan</td>\n",
              "      <td>1.0</td>\n",
              "      <td>0.0</td>\n",
              "      <td>2020-02</td>\n",
              "    </tr>\n",
              "  </tbody>\n",
              "</table>\n",
              "</div>"
            ],
            "text/plain": [
              "         date      country  cumulative_total_cases  daily_new_cases Year-Month\n",
              "0  2020-02-25  Afghanistan                     1.0              0.0    2020-02\n",
              "1  2020-02-26  Afghanistan                     1.0              0.0    2020-02\n",
              "2  2020-02-27  Afghanistan                     1.0              0.0    2020-02\n",
              "3  2020-02-28  Afghanistan                     1.0              0.0    2020-02\n",
              "4  2020-02-29  Afghanistan                     1.0              0.0    2020-02"
            ]
          },
          "execution_count": 12,
          "metadata": {},
          "output_type": "execute_result"
        }
      ],
      "source": [
        "covid['date'] = covid['date'].apply(lambda x: x.split('-'))\n",
        "covid['date'] = covid['date'].apply(lambda x: '-'.join([x[0], x[1].zfill(2), x[2]])) # 일자별 분석을 할 수도 있으므로 'date'의 형식을 변경함\n",
        "covid['Year-Month'] = covid['date'].apply(lambda x: '-'.join(x.split('-')[:2]))\n",
        "covid.head()"
      ]
    },
    {
      "cell_type": "markdown",
      "metadata": {
        "id": "LntwjNZvbNl_"
      },
      "source": [
        "모든 나라를 가지고 하기에는 극단치가 있을 것 같다. 극단치를 확인하기에는 데이터가 너무 많다.  "
      ]
    },
    {
      "cell_type": "markdown",
      "metadata": {
        "id": "98bScSpEdJYg"
      },
      "source": [
        "따라서 2022년 3월 17일 기준 누적 확진자 수를 기준으로 상위 20개의 국가만을 가지고 확인해보고자 한다."
      ]
    },
    {
      "cell_type": "code",
      "execution_count": 13,
      "metadata": {
        "colab": {
          "base_uri": "https://localhost:8080/"
        },
        "id": "519T_2QsbuWY",
        "outputId": "e10eeeb4-e82d-4461-93d2-b209f62832d3"
      },
      "outputs": [
        {
          "data": {
            "text/plain": [
              "['USA',\n",
              " 'India',\n",
              " 'Brazil',\n",
              " 'France',\n",
              " 'UK',\n",
              " 'Germany',\n",
              " 'Russia',\n",
              " 'Turkey',\n",
              " 'Italy',\n",
              " 'Spain',\n",
              " 'Argentina',\n",
              " 'South Korea',\n",
              " 'Netherlands',\n",
              " 'Viet Nam',\n",
              " 'Iran',\n",
              " 'Colombia',\n",
              " 'Indonesia',\n",
              " 'Japan',\n",
              " 'Poland',\n",
              " 'Mexico']"
            ]
          },
          "execution_count": 13,
          "metadata": {},
          "output_type": "execute_result"
        }
      ],
      "source": [
        "top_country = list(covid[covid['date'] == '2022-03-17'].sort_values(by='cumulative_total_cases', ascending=False).head(20).country)\n",
        "top_country"
      ]
    },
    {
      "cell_type": "code",
      "execution_count": 14,
      "metadata": {
        "colab": {
          "base_uri": "https://localhost:8080/",
          "height": 424
        },
        "id": "WB34MmCGdaje",
        "outputId": "c0d28cc7-e5f7-4b01-82ba-6b39e4e6ea2f"
      },
      "outputs": [
        {
          "data": {
            "text/html": [
              "<div>\n",
              "<style scoped>\n",
              "    .dataframe tbody tr th:only-of-type {\n",
              "        vertical-align: middle;\n",
              "    }\n",
              "\n",
              "    .dataframe tbody tr th {\n",
              "        vertical-align: top;\n",
              "    }\n",
              "\n",
              "    .dataframe thead th {\n",
              "        text-align: right;\n",
              "    }\n",
              "</style>\n",
              "<table border=\"1\" class=\"dataframe\">\n",
              "  <thead>\n",
              "    <tr style=\"text-align: right;\">\n",
              "      <th></th>\n",
              "      <th>date</th>\n",
              "      <th>country</th>\n",
              "      <th>cumulative_total_cases</th>\n",
              "      <th>daily_new_cases</th>\n",
              "      <th>Year-Month</th>\n",
              "    </tr>\n",
              "  </thead>\n",
              "  <tbody>\n",
              "    <tr>\n",
              "      <th>0</th>\n",
              "      <td>2020-03-04</td>\n",
              "      <td>Argentina</td>\n",
              "      <td>1.0</td>\n",
              "      <td>0.0</td>\n",
              "      <td>2020-03</td>\n",
              "    </tr>\n",
              "    <tr>\n",
              "      <th>1</th>\n",
              "      <td>2020-03-05</td>\n",
              "      <td>Argentina</td>\n",
              "      <td>2.0</td>\n",
              "      <td>1.0</td>\n",
              "      <td>2020-03</td>\n",
              "    </tr>\n",
              "    <tr>\n",
              "      <th>2</th>\n",
              "      <td>2020-03-06</td>\n",
              "      <td>Argentina</td>\n",
              "      <td>8.0</td>\n",
              "      <td>6.0</td>\n",
              "      <td>2020-03</td>\n",
              "    </tr>\n",
              "    <tr>\n",
              "      <th>3</th>\n",
              "      <td>2020-03-07</td>\n",
              "      <td>Argentina</td>\n",
              "      <td>9.0</td>\n",
              "      <td>1.0</td>\n",
              "      <td>2020-03</td>\n",
              "    </tr>\n",
              "    <tr>\n",
              "      <th>4</th>\n",
              "      <td>2020-03-08</td>\n",
              "      <td>Argentina</td>\n",
              "      <td>12.0</td>\n",
              "      <td>3.0</td>\n",
              "      <td>2020-03</td>\n",
              "    </tr>\n",
              "    <tr>\n",
              "      <th>...</th>\n",
              "      <td>...</td>\n",
              "      <td>...</td>\n",
              "      <td>...</td>\n",
              "      <td>...</td>\n",
              "      <td>...</td>\n",
              "    </tr>\n",
              "    <tr>\n",
              "      <th>15081</th>\n",
              "      <td>2022-03-13</td>\n",
              "      <td>Viet Nam</td>\n",
              "      <td>6461085.0</td>\n",
              "      <td>176489.0</td>\n",
              "      <td>2022-03</td>\n",
              "    </tr>\n",
              "    <tr>\n",
              "      <th>15082</th>\n",
              "      <td>2022-03-14</td>\n",
              "      <td>Viet Nam</td>\n",
              "      <td>6628702.0</td>\n",
              "      <td>167617.0</td>\n",
              "      <td>2022-03</td>\n",
              "    </tr>\n",
              "    <tr>\n",
              "      <th>15083</th>\n",
              "      <td>2022-03-15</td>\n",
              "      <td>Viet Nam</td>\n",
              "      <td>6811097.0</td>\n",
              "      <td>182395.0</td>\n",
              "      <td>2022-03</td>\n",
              "    </tr>\n",
              "    <tr>\n",
              "      <th>15084</th>\n",
              "      <td>2022-03-16</td>\n",
              "      <td>Viet Nam</td>\n",
              "      <td>6996311.0</td>\n",
              "      <td>185214.0</td>\n",
              "      <td>2022-03</td>\n",
              "    </tr>\n",
              "    <tr>\n",
              "      <th>15085</th>\n",
              "      <td>2022-03-17</td>\n",
              "      <td>Viet Nam</td>\n",
              "      <td>7174423.0</td>\n",
              "      <td>178112.0</td>\n",
              "      <td>2022-03</td>\n",
              "    </tr>\n",
              "  </tbody>\n",
              "</table>\n",
              "<p>15086 rows × 5 columns</p>\n",
              "</div>"
            ],
            "text/plain": [
              "             date    country  cumulative_total_cases  daily_new_cases  \\\n",
              "0      2020-03-04  Argentina                     1.0              0.0   \n",
              "1      2020-03-05  Argentina                     2.0              1.0   \n",
              "2      2020-03-06  Argentina                     8.0              6.0   \n",
              "3      2020-03-07  Argentina                     9.0              1.0   \n",
              "4      2020-03-08  Argentina                    12.0              3.0   \n",
              "...           ...        ...                     ...              ...   \n",
              "15081  2022-03-13   Viet Nam               6461085.0         176489.0   \n",
              "15082  2022-03-14   Viet Nam               6628702.0         167617.0   \n",
              "15083  2022-03-15   Viet Nam               6811097.0         182395.0   \n",
              "15084  2022-03-16   Viet Nam               6996311.0         185214.0   \n",
              "15085  2022-03-17   Viet Nam               7174423.0         178112.0   \n",
              "\n",
              "      Year-Month  \n",
              "0        2020-03  \n",
              "1        2020-03  \n",
              "2        2020-03  \n",
              "3        2020-03  \n",
              "4        2020-03  \n",
              "...          ...  \n",
              "15081    2022-03  \n",
              "15082    2022-03  \n",
              "15083    2022-03  \n",
              "15084    2022-03  \n",
              "15085    2022-03  \n",
              "\n",
              "[15086 rows x 5 columns]"
            ]
          },
          "execution_count": 14,
          "metadata": {},
          "output_type": "execute_result"
        }
      ],
      "source": [
        "covid_top = covid[covid.country.isin(top_country)].reset_index(drop=True)\n",
        "covid_top"
      ]
    },
    {
      "cell_type": "code",
      "execution_count": 15,
      "metadata": {
        "colab": {
          "base_uri": "https://localhost:8080/"
        },
        "id": "rMT6NhMhaL_6",
        "outputId": "0fec5060-9c56-437d-9659-fde8bcf70de8"
      },
      "outputs": [],
      "source": [
        "covid_result = covid_top.groupby('Year-Month')['daily_new_cases'].mean()"
      ]
    },
    {
      "cell_type": "code",
      "execution_count": 16,
      "metadata": {
        "colab": {
          "base_uri": "https://localhost:8080/",
          "height": 509
        },
        "id": "gt5FQYtLjEe0",
        "outputId": "22e9c119-0a93-4260-e87a-a09e47dfb0eb"
      },
      "outputs": [
        {
          "data": {
            "image/png": "[encoded data removed]",
            "text/plain": [
              "<Figure size 576x576 with 1 Axes>"
            ]
          },
          "metadata": {
            "needs_background": "light"
          },
          "output_type": "display_data"
        }
      ],
      "source": [
        "plt.figure(figsize=(8,8))\n",
        "x = covid_result.index\n",
        "y = covid_top.groupby('Year-Month')['daily_new_cases'].mean()\n",
        "plt.xticks(rotation=45)\n",
        "plt.plot(x, y)\n",
        "plt.show()"
      ]
    },
    {
      "cell_type": "markdown",
      "metadata": {
        "id": "3VgavZi_ppU5"
      },
      "source": [
        "=> 오미크론의 영향으로 지난 2년 간의 데이터와 비교하는 데에는 어려움이 있다.   \n",
        "=> 따라서 2022년도 데이터만 보고자 한다.\n"
      ]
    },
    {
      "cell_type": "code",
      "execution_count": 17,
      "metadata": {
        "id": "9uxVAoBWoarM"
      },
      "outputs": [],
      "source": [
        "covid_2022 = covid_top[covid_top.apply(lambda x: x['Year-Month'].startswith('2022'), axis=1)]"
      ]
    },
    {
      "cell_type": "code",
      "execution_count": 18,
      "metadata": {
        "colab": {
          "base_uri": "https://localhost:8080/"
        },
        "id": "AphBIyPjzlVq",
        "outputId": "20c335d4-fde5-4284-a85b-5a6c1aab1055"
      },
      "outputs": [
        {
          "data": {
            "text/plain": [
              "array(['2022-01-01', '2022-01-02', '2022-01-03', '2022-01-04',\n",
              "       '2022-01-05', '2022-01-06', '2022-01-07', '2022-01-08',\n",
              "       '2022-01-09', '2022-01-10', '2022-01-11', '2022-01-12',\n",
              "       '2022-01-13', '2022-01-14', '2022-01-15', '2022-01-16',\n",
              "       '2022-01-17', '2022-01-18', '2022-01-19', '2022-01-20',\n",
              "       '2022-01-21', '2022-01-22', '2022-01-23', '2022-01-24',\n",
              "       '2022-01-25', '2022-01-26', '2022-01-27', '2022-01-28',\n",
              "       '2022-01-29', '2022-01-30', '2022-01-31', '2022-02-01',\n",
              "       '2022-02-02', '2022-02-03', '2022-02-04', '2022-02-05',\n",
              "       '2022-02-06', '2022-02-07', '2022-02-08', '2022-02-09',\n",
              "       '2022-02-10', '2022-02-11', '2022-02-12', '2022-02-13',\n",
              "       '2022-02-14', '2022-02-15', '2022-02-16', '2022-02-17',\n",
              "       '2022-02-18', '2022-02-19', '2022-02-20', '2022-02-21',\n",
              "       '2022-02-22', '2022-02-23', '2022-02-24', '2022-02-25',\n",
              "       '2022-02-26', '2022-02-27', '2022-02-28', '2022-03-01',\n",
              "       '2022-03-02', '2022-03-03', '2022-03-04', '2022-03-05',\n",
              "       '2022-03-06', '2022-03-07', '2022-03-08', '2022-03-09',\n",
              "       '2022-03-10', '2022-03-11', '2022-03-12', '2022-03-13',\n",
              "       '2022-03-14', '2022-03-15', '2022-03-16', '2022-03-17'],\n",
              "      dtype=object)"
            ]
          },
          "execution_count": 18,
          "metadata": {},
          "output_type": "execute_result"
        }
      ],
      "source": [
        "covid_2022.date.unique()"
      ]
    },
    {
      "cell_type": "code",
      "execution_count": 19,
      "metadata": {
        "colab": {
          "base_uri": "https://localhost:8080/",
          "height": 509
        },
        "id": "75EsE5dGzLwE",
        "outputId": "2f3900e0-da1e-4ccb-dd10-e2af8886833f"
      },
      "outputs": [
        {
          "data": {
            "image/png": "[encoded data removed]",
            "text/plain": [
              "<Figure size 576x576 with 1 Axes>"
            ]
          },
          "metadata": {
            "needs_background": "light"
          },
          "output_type": "display_data"
        }
      ],
      "source": [
        "plt.figure(figsize=(8,8))\n",
        "x = covid_2022['Year-Month'].unique()\n",
        "y = covid_2022.groupby('Year-Month')['daily_new_cases'].mean()\n",
        "plt.xticks(rotation=45)\n",
        "plt.plot(x, y)\n",
        "plt.show()"
      ]
    },
    {
      "cell_type": "code",
      "execution_count": 20,
      "metadata": {},
      "outputs": [
        {
          "name": "stdout",
          "output_type": "stream",
          "text": [
            "1월 대비 2월의 확진자 수는 0.67배 감소하였습니다\n",
            "2월 대비 3월의 확진자 수는 0.84배 감소하였습니다\n"
          ]
        }
      ],
      "source": [
        "Jan_to_Feb = round(y[1]/y[0], 2)\n",
        "Feb_to_Mar = round(y[2]/y[1], 2)\n",
        "print(f'1월 대비 2월의 확진자 수는 {Jan_to_Feb}배 감소하였습니다')\n",
        "print(f'2월 대비 3월의 확진자 수는 {Feb_to_Mar}배 감소하였습니다')"
      ]
    },
    {
      "cell_type": "markdown",
      "metadata": {
        "id": "RCqhB-gu72mh"
      },
      "source": [
        "최근 데이터도 추가하여 비교해고자 한다."
      ]
    },
    {
      "cell_type": "code",
      "execution_count": 21,
      "metadata": {
        "colab": {
          "base_uri": "https://localhost:8080/",
          "height": 302
        },
        "id": "JJnovEwa2bw6",
        "outputId": "a390d85a-53cf-4a2d-ff1c-c570955a6247"
      },
      "outputs": [
        {
          "data": {
            "text/html": [
              "<div>\n",
              "<style scoped>\n",
              "    .dataframe tbody tr th:only-of-type {\n",
              "        vertical-align: middle;\n",
              "    }\n",
              "\n",
              "    .dataframe tbody tr th {\n",
              "        vertical-align: top;\n",
              "    }\n",
              "\n",
              "    .dataframe thead th {\n",
              "        text-align: right;\n",
              "    }\n",
              "</style>\n",
              "<table border=\"1\" class=\"dataframe\">\n",
              "  <thead>\n",
              "    <tr style=\"text-align: right;\">\n",
              "      <th></th>\n",
              "      <th>Country, Other</th>\n",
              "      <th>Cases in the last 7 days</th>\n",
              "      <th>Cases in the preceding 7 days</th>\n",
              "      <th>Weekly Case % Change</th>\n",
              "      <th>Cases in the last 7 days/1M pop</th>\n",
              "      <th>Deaths in the last 7 days</th>\n",
              "      <th>Deaths in the preceding 7 days</th>\n",
              "      <th>Weekly Death % Change</th>\n",
              "      <th>Deaths in the last 7 days/1M pop</th>\n",
              "      <th>Population</th>\n",
              "    </tr>\n",
              "  </thead>\n",
              "  <tbody>\n",
              "    <tr>\n",
              "      <th>0</th>\n",
              "      <td>Afghanistan</td>\n",
              "      <td>308</td>\n",
              "      <td>291</td>\n",
              "      <td>6.0</td>\n",
              "      <td>8.0</td>\n",
              "      <td>5</td>\n",
              "      <td>6</td>\n",
              "      <td>-17</td>\n",
              "      <td>0.1</td>\n",
              "      <td>40483797</td>\n",
              "    </tr>\n",
              "    <tr>\n",
              "      <th>1</th>\n",
              "      <td>Albania</td>\n",
              "      <td>236</td>\n",
              "      <td>471</td>\n",
              "      <td>-50.0</td>\n",
              "      <td>82.0</td>\n",
              "      <td>2</td>\n",
              "      <td>0</td>\n",
              "      <td>200</td>\n",
              "      <td>0.7</td>\n",
              "      <td>2872219</td>\n",
              "    </tr>\n",
              "    <tr>\n",
              "      <th>2</th>\n",
              "      <td>Algeria</td>\n",
              "      <td>31</td>\n",
              "      <td>48</td>\n",
              "      <td>-35.0</td>\n",
              "      <td>0.7</td>\n",
              "      <td>0</td>\n",
              "      <td>0</td>\n",
              "      <td>0</td>\n",
              "      <td>0.0</td>\n",
              "      <td>45256195</td>\n",
              "    </tr>\n",
              "    <tr>\n",
              "      <th>3</th>\n",
              "      <td>Andorra</td>\n",
              "      <td>304</td>\n",
              "      <td>311</td>\n",
              "      <td>-2.0</td>\n",
              "      <td>3923.0</td>\n",
              "      <td>0</td>\n",
              "      <td>0</td>\n",
              "      <td>0</td>\n",
              "      <td>0.0</td>\n",
              "      <td>77484</td>\n",
              "    </tr>\n",
              "    <tr>\n",
              "      <th>4</th>\n",
              "      <td>Angola</td>\n",
              "      <td>0</td>\n",
              "      <td>56</td>\n",
              "      <td>-100.0</td>\n",
              "      <td>0.0</td>\n",
              "      <td>0</td>\n",
              "      <td>0</td>\n",
              "      <td>0</td>\n",
              "      <td>0.0</td>\n",
              "      <td>34679470</td>\n",
              "    </tr>\n",
              "  </tbody>\n",
              "</table>\n",
              "</div>"
            ],
            "text/plain": [
              "  Country, Other  Cases in the last 7 days  Cases in the preceding 7 days  \\\n",
              "0    Afghanistan                       308                            291   \n",
              "1        Albania                       236                            471   \n",
              "2        Algeria                        31                             48   \n",
              "3        Andorra                       304                            311   \n",
              "4         Angola                         0                             56   \n",
              "\n",
              "   Weekly Case % Change  Cases in the last 7 days/1M pop  \\\n",
              "0                   6.0                              8.0   \n",
              "1                 -50.0                             82.0   \n",
              "2                 -35.0                              0.7   \n",
              "3                  -2.0                           3923.0   \n",
              "4                -100.0                              0.0   \n",
              "\n",
              "   Deaths in the last 7 days  Deaths in the preceding 7 days  \\\n",
              "0                          5                               6   \n",
              "1                          2                               0   \n",
              "2                          0                               0   \n",
              "3                          0                               0   \n",
              "4                          0                               0   \n",
              "\n",
              "   Weekly Death % Change  Deaths in the last 7 days/1M pop  Population  \n",
              "0                    -17                               0.1    40483797  \n",
              "1                    200                               0.7     2872219  \n",
              "2                      0                               0.0    45256195  \n",
              "3                      0                               0.0       77484  \n",
              "4                      0                               0.0    34679470  "
            ]
          },
          "execution_count": 21,
          "metadata": {},
          "output_type": "execute_result"
        }
      ],
      "source": [
        "data2 = pd.read_csv(\"./covid_world_weekly_trend.csv\")\n",
        "covid_weekly = data2.copy() # 혹시 모를 상황을 대비하여 데이터 복사\n",
        "covid_weekly.head()"
      ]
    },
    {
      "cell_type": "code",
      "execution_count": 22,
      "metadata": {
        "id": "iT5Xmrv-2dGF"
      },
      "outputs": [],
      "source": [
        "covid_weekly.rename(columns={'Country, Other': 'country', 'Cases in the last 7 days': 'cases_now', 'Cases in the preceding 7 days': 'cases_prec', 'Weekly Case % Change': 'case_change',\n",
        "'Cases in the last 7 days/1M pop': 'cases_1m', 'Deaths in the last 7 days': 'deaths_now', 'Deaths in the preceding 7 days': 'deaths_prec',\n",
        "'Weekly Death % Change': 'death_change', 'Deaths in the last 7 days/1M pop': 'deaths_1m', 'Population': 'population'\n",
        "}, inplace=True) # Reanme columns"
      ]
    },
    {
      "cell_type": "code",
      "execution_count": 23,
      "metadata": {
        "id": "-yPlg_YD2jUF"
      },
      "outputs": [],
      "source": [
        "covid_weekly.drop(columns = ['deaths_now', 'deaths_prec','death_change', 'deaths_1m'], inplace=True)"
      ]
    },
    {
      "cell_type": "code",
      "execution_count": 24,
      "metadata": {
        "colab": {
          "base_uri": "https://localhost:8080/"
        },
        "id": "t-9a3EW92-VJ",
        "outputId": "9caaaf28-0753-4515-ce84-ea6c88a37679"
      },
      "outputs": [
        {
          "data": {
            "text/plain": [
              "['USA',\n",
              " 'India',\n",
              " 'Brazil',\n",
              " 'France',\n",
              " 'UK',\n",
              " 'Germany',\n",
              " 'Russia',\n",
              " 'Turkey',\n",
              " 'Italy',\n",
              " 'Spain',\n",
              " 'Argentina',\n",
              " 'South Korea',\n",
              " 'Netherlands',\n",
              " 'Viet Nam',\n",
              " 'Iran',\n",
              " 'Colombia',\n",
              " 'Indonesia',\n",
              " 'Japan',\n",
              " 'Poland',\n",
              " 'Mexico']"
            ]
          },
          "execution_count": 24,
          "metadata": {},
          "output_type": "execute_result"
        }
      ],
      "source": [
        "top_country"
      ]
    },
    {
      "cell_type": "code",
      "execution_count": 25,
      "metadata": {
        "id": "FM4yjQC23swF"
      },
      "outputs": [],
      "source": [
        "covid_weekly['country'] = covid_weekly['country'].replace({'S. Korea': 'South Korea', 'Vietnam': 'Viet Nam'})"
      ]
    },
    {
      "cell_type": "code",
      "execution_count": 26,
      "metadata": {
        "colab": {
          "base_uri": "https://localhost:8080/",
          "height": 676
        },
        "id": "-IB9nuJQ2lhO",
        "outputId": "09b26741-51a2-4738-848f-2407a234b04e"
      },
      "outputs": [
        {
          "data": {
            "text/html": [
              "<div>\n",
              "<style scoped>\n",
              "    .dataframe tbody tr th:only-of-type {\n",
              "        vertical-align: middle;\n",
              "    }\n",
              "\n",
              "    .dataframe tbody tr th {\n",
              "        vertical-align: top;\n",
              "    }\n",
              "\n",
              "    .dataframe thead th {\n",
              "        text-align: right;\n",
              "    }\n",
              "</style>\n",
              "<table border=\"1\" class=\"dataframe\">\n",
              "  <thead>\n",
              "    <tr style=\"text-align: right;\">\n",
              "      <th></th>\n",
              "      <th>country</th>\n",
              "      <th>cases_now</th>\n",
              "      <th>cases_prec</th>\n",
              "      <th>case_change</th>\n",
              "      <th>cases_1m</th>\n",
              "      <th>population</th>\n",
              "    </tr>\n",
              "  </thead>\n",
              "  <tbody>\n",
              "    <tr>\n",
              "      <th>0</th>\n",
              "      <td>Argentina</td>\n",
              "      <td>10877</td>\n",
              "      <td>13164</td>\n",
              "      <td>-17.0</td>\n",
              "      <td>237.0</td>\n",
              "      <td>45931949</td>\n",
              "    </tr>\n",
              "    <tr>\n",
              "      <th>1</th>\n",
              "      <td>Brazil</td>\n",
              "      <td>143800</td>\n",
              "      <td>157732</td>\n",
              "      <td>-9.0</td>\n",
              "      <td>668.0</td>\n",
              "      <td>215241599</td>\n",
              "    </tr>\n",
              "    <tr>\n",
              "      <th>2</th>\n",
              "      <td>Colombia</td>\n",
              "      <td>2135</td>\n",
              "      <td>2244</td>\n",
              "      <td>-5.0</td>\n",
              "      <td>41.0</td>\n",
              "      <td>51845560</td>\n",
              "    </tr>\n",
              "    <tr>\n",
              "      <th>3</th>\n",
              "      <td>France</td>\n",
              "      <td>935108</td>\n",
              "      <td>952013</td>\n",
              "      <td>-2.0</td>\n",
              "      <td>14270.0</td>\n",
              "      <td>65529910</td>\n",
              "    </tr>\n",
              "    <tr>\n",
              "      <th>4</th>\n",
              "      <td>Germany</td>\n",
              "      <td>977384</td>\n",
              "      <td>1256200</td>\n",
              "      <td>-22.0</td>\n",
              "      <td>11600.0</td>\n",
              "      <td>84259518</td>\n",
              "    </tr>\n",
              "    <tr>\n",
              "      <th>5</th>\n",
              "      <td>India</td>\n",
              "      <td>7091</td>\n",
              "      <td>7710</td>\n",
              "      <td>-8.0</td>\n",
              "      <td>5.0</td>\n",
              "      <td>1404087743</td>\n",
              "    </tr>\n",
              "    <tr>\n",
              "      <th>6</th>\n",
              "      <td>Indonesia</td>\n",
              "      <td>11434</td>\n",
              "      <td>18278</td>\n",
              "      <td>-37.0</td>\n",
              "      <td>41.0</td>\n",
              "      <td>278657588</td>\n",
              "    </tr>\n",
              "    <tr>\n",
              "      <th>7</th>\n",
              "      <td>Iran</td>\n",
              "      <td>21725</td>\n",
              "      <td>19034</td>\n",
              "      <td>14.0</td>\n",
              "      <td>253.0</td>\n",
              "      <td>85901102</td>\n",
              "    </tr>\n",
              "    <tr>\n",
              "      <th>8</th>\n",
              "      <td>Italy</td>\n",
              "      <td>438144</td>\n",
              "      <td>476296</td>\n",
              "      <td>-8.0</td>\n",
              "      <td>7266.0</td>\n",
              "      <td>60304008</td>\n",
              "    </tr>\n",
              "    <tr>\n",
              "      <th>9</th>\n",
              "      <td>Japan</td>\n",
              "      <td>336779</td>\n",
              "      <td>325285</td>\n",
              "      <td>4.0</td>\n",
              "      <td>2677.0</td>\n",
              "      <td>125789190</td>\n",
              "    </tr>\n",
              "    <tr>\n",
              "      <th>10</th>\n",
              "      <td>Mexico</td>\n",
              "      <td>56293</td>\n",
              "      <td>15368</td>\n",
              "      <td>266.0</td>\n",
              "      <td>429.0</td>\n",
              "      <td>131337245</td>\n",
              "    </tr>\n",
              "    <tr>\n",
              "      <th>11</th>\n",
              "      <td>Netherlands</td>\n",
              "      <td>66773</td>\n",
              "      <td>129033</td>\n",
              "      <td>-48.0</td>\n",
              "      <td>3882.0</td>\n",
              "      <td>17202175</td>\n",
              "    </tr>\n",
              "    <tr>\n",
              "      <th>12</th>\n",
              "      <td>Poland</td>\n",
              "      <td>8234</td>\n",
              "      <td>19788</td>\n",
              "      <td>-58.0</td>\n",
              "      <td>218.0</td>\n",
              "      <td>37773030</td>\n",
              "    </tr>\n",
              "    <tr>\n",
              "      <th>13</th>\n",
              "      <td>Russia</td>\n",
              "      <td>92721</td>\n",
              "      <td>122601</td>\n",
              "      <td>-24.0</td>\n",
              "      <td>635.0</td>\n",
              "      <td>146045544</td>\n",
              "    </tr>\n",
              "    <tr>\n",
              "      <th>14</th>\n",
              "      <td>South Korea</td>\n",
              "      <td>1367873</td>\n",
              "      <td>1916973</td>\n",
              "      <td>-29.0</td>\n",
              "      <td>26640.0</td>\n",
              "      <td>51347510</td>\n",
              "    </tr>\n",
              "    <tr>\n",
              "      <th>15</th>\n",
              "      <td>Spain</td>\n",
              "      <td>83561</td>\n",
              "      <td>70344</td>\n",
              "      <td>19.0</td>\n",
              "      <td>1786.0</td>\n",
              "      <td>46786925</td>\n",
              "    </tr>\n",
              "    <tr>\n",
              "      <th>16</th>\n",
              "      <td>Turkey</td>\n",
              "      <td>52911</td>\n",
              "      <td>88360</td>\n",
              "      <td>-40.0</td>\n",
              "      <td>616.0</td>\n",
              "      <td>85949948</td>\n",
              "    </tr>\n",
              "    <tr>\n",
              "      <th>17</th>\n",
              "      <td>UK</td>\n",
              "      <td>242883</td>\n",
              "      <td>388122</td>\n",
              "      <td>-37.0</td>\n",
              "      <td>3545.0</td>\n",
              "      <td>68519051</td>\n",
              "    </tr>\n",
              "    <tr>\n",
              "      <th>18</th>\n",
              "      <td>USA</td>\n",
              "      <td>206520</td>\n",
              "      <td>206409</td>\n",
              "      <td>0.1</td>\n",
              "      <td>617.0</td>\n",
              "      <td>334448237</td>\n",
              "    </tr>\n",
              "    <tr>\n",
              "      <th>19</th>\n",
              "      <td>Viet Nam</td>\n",
              "      <td>243796</td>\n",
              "      <td>466148</td>\n",
              "      <td>-48.0</td>\n",
              "      <td>2465.0</td>\n",
              "      <td>98893226</td>\n",
              "    </tr>\n",
              "  </tbody>\n",
              "</table>\n",
              "</div>"
            ],
            "text/plain": [
              "        country  cases_now  cases_prec  case_change  cases_1m  population\n",
              "0     Argentina      10877       13164        -17.0     237.0    45931949\n",
              "1        Brazil     143800      157732         -9.0     668.0   215241599\n",
              "2      Colombia       2135        2244         -5.0      41.0    51845560\n",
              "3        France     935108      952013         -2.0   14270.0    65529910\n",
              "4       Germany     977384     1256200        -22.0   11600.0    84259518\n",
              "5         India       7091        7710         -8.0       5.0  1404087743\n",
              "6     Indonesia      11434       18278        -37.0      41.0   278657588\n",
              "7          Iran      21725       19034         14.0     253.0    85901102\n",
              "8         Italy     438144      476296         -8.0    7266.0    60304008\n",
              "9         Japan     336779      325285          4.0    2677.0   125789190\n",
              "10       Mexico      56293       15368        266.0     429.0   131337245\n",
              "11  Netherlands      66773      129033        -48.0    3882.0    17202175\n",
              "12       Poland       8234       19788        -58.0     218.0    37773030\n",
              "13       Russia      92721      122601        -24.0     635.0   146045544\n",
              "14  South Korea    1367873     1916973        -29.0   26640.0    51347510\n",
              "15        Spain      83561       70344         19.0    1786.0    46786925\n",
              "16       Turkey      52911       88360        -40.0     616.0    85949948\n",
              "17           UK     242883      388122        -37.0    3545.0    68519051\n",
              "18          USA     206520      206409          0.1     617.0   334448237\n",
              "19     Viet Nam     243796      466148        -48.0    2465.0    98893226"
            ]
          },
          "execution_count": 26,
          "metadata": {},
          "output_type": "execute_result"
        }
      ],
      "source": [
        "covid_top2 = covid_weekly[covid_weekly.country.isin(top_country)].reset_index(drop=True)\n",
        "covid_top2"
      ]
    },
    {
      "cell_type": "code",
      "execution_count": 27,
      "metadata": {
        "id": "DtrfiBg82viw"
      },
      "outputs": [],
      "source": [
        "prec = covid_top2['cases_prec'].mean()\n",
        "now = covid_top2['cases_now'].mean()"
      ]
    },
    {
      "cell_type": "code",
      "execution_count": 28,
      "metadata": {
        "colab": {
          "base_uri": "https://localhost:8080/"
        },
        "id": "ghFPgVo16q7e",
        "outputId": "7a8060b2-55bb-4242-d169-11662dcb93bd"
      },
      "outputs": [
        {
          "data": {
            "text/plain": [
              "[107275.0935483871, 71885.61785714286, 60323.461764705884, 332555.1, 265302.1]"
            ]
          },
          "execution_count": 28,
          "metadata": {},
          "output_type": "execute_result"
        }
      ],
      "source": [
        "x = list(covid_2022['Year-Month'].unique())\n",
        "x.extend(['0330 - 0405', '0406 - 0413'])\n",
        "y = list(covid_2022.groupby('Year-Month')['daily_new_cases'].mean())\n",
        "y.extend([prec, now])\n",
        "y"
      ]
    },
    {
      "cell_type": "code",
      "execution_count": 29,
      "metadata": {
        "colab": {
          "base_uri": "https://localhost:8080/",
          "height": 500
        },
        "id": "EfOH34fv6lIB",
        "outputId": "3f3761cd-30cb-4fd6-9e58-18a74ce11210"
      },
      "outputs": [
        {
          "data": {
            "image/png": "[encoded data removed]",
            "text/plain": [
              "<Figure size 720x576 with 1 Axes>"
            ]
          },
          "metadata": {
            "needs_background": "light"
          },
          "output_type": "display_data"
        }
      ],
      "source": [
        "plt.figure(figsize=(10,8))\n",
        "plt.xlabel('Flow of time (Month -> Week)', size = 13)\n",
        "plt.ylabel('Number of confirmed case', size = 13)\n",
        "plt.plot(x, y)\n",
        "plt.show()"
      ]
    },
    {
      "cell_type": "code",
      "execution_count": 30,
      "metadata": {
        "colab": {
          "base_uri": "https://localhost:8080/"
        },
        "id": "sVrb0iZr7nEg",
        "outputId": "d323a44b-0715-4abc-d55b-58de6c5ace19"
      },
      "outputs": [
        {
          "name": "stdout",
          "output_type": "stream",
          "text": [
            "올해 1월에 비해 최근 1주간 일일 확진자 수는 평균 2.47 배 증가하였습니다.\n"
          ]
        }
      ],
      "source": [
        "print('올해 1월에 비해 최근 1주간 일일 확진자 수는 평균', round(y[4]/y[0], 2), '배 증가하였습니다.')"
      ]
    },
    {
      "cell_type": "markdown",
      "metadata": {
        "id": "_bVSu4D1oYRU"
      },
      "source": [
        "=> 그대로 사용하기 어렵다. 확진자가 감소 추세라고 단언할 수 없지만, 서비스 제작을 위해 2022 01 ~ 03 만 써야할 것 같습니다."
      ]
    },
    {
      "cell_type": "markdown",
      "metadata": {},
      "source": [
        "#### 미슐랭 식당이 있는 국가로 한정해서 데이터 분석하기"
      ]
    },
    {
      "cell_type": "code",
      "execution_count": 31,
      "metadata": {},
      "outputs": [
        {
          "data": {
            "text/html": [
              "<div>\n",
              "<style scoped>\n",
              "    .dataframe tbody tr th:only-of-type {\n",
              "        vertical-align: middle;\n",
              "    }\n",
              "\n",
              "    .dataframe tbody tr th {\n",
              "        vertical-align: top;\n",
              "    }\n",
              "\n",
              "    .dataframe thead th {\n",
              "        text-align: right;\n",
              "    }\n",
              "</style>\n",
              "<table border=\"1\" class=\"dataframe\">\n",
              "  <thead>\n",
              "    <tr style=\"text-align: right;\">\n",
              "      <th></th>\n",
              "      <th>date</th>\n",
              "      <th>country</th>\n",
              "      <th>cumulative_total_cases</th>\n",
              "      <th>daily_new_cases</th>\n",
              "      <th>Year-Month</th>\n",
              "    </tr>\n",
              "  </thead>\n",
              "  <tbody>\n",
              "    <tr>\n",
              "      <th>0</th>\n",
              "      <td>2020-03-03</td>\n",
              "      <td>Andorra</td>\n",
              "      <td>1.0</td>\n",
              "      <td>0.0</td>\n",
              "      <td>2020-03</td>\n",
              "    </tr>\n",
              "    <tr>\n",
              "      <th>1</th>\n",
              "      <td>2020-03-04</td>\n",
              "      <td>Andorra</td>\n",
              "      <td>1.0</td>\n",
              "      <td>0.0</td>\n",
              "      <td>2020-03</td>\n",
              "    </tr>\n",
              "    <tr>\n",
              "      <th>2</th>\n",
              "      <td>2020-03-05</td>\n",
              "      <td>Andorra</td>\n",
              "      <td>1.0</td>\n",
              "      <td>0.0</td>\n",
              "      <td>2020-03</td>\n",
              "    </tr>\n",
              "    <tr>\n",
              "      <th>3</th>\n",
              "      <td>2020-03-06</td>\n",
              "      <td>Andorra</td>\n",
              "      <td>1.0</td>\n",
              "      <td>0.0</td>\n",
              "      <td>2020-03</td>\n",
              "    </tr>\n",
              "    <tr>\n",
              "      <th>4</th>\n",
              "      <td>2020-03-07</td>\n",
              "      <td>Andorra</td>\n",
              "      <td>1.0</td>\n",
              "      <td>0.0</td>\n",
              "      <td>2020-03</td>\n",
              "    </tr>\n",
              "    <tr>\n",
              "      <th>...</th>\n",
              "      <td>...</td>\n",
              "      <td>...</td>\n",
              "      <td>...</td>\n",
              "      <td>...</td>\n",
              "      <td>...</td>\n",
              "    </tr>\n",
              "    <tr>\n",
              "      <th>24880</th>\n",
              "      <td>2022-03-13</td>\n",
              "      <td>USA</td>\n",
              "      <td>81231844.0</td>\n",
              "      <td>18205.0</td>\n",
              "      <td>2022-03</td>\n",
              "    </tr>\n",
              "    <tr>\n",
              "      <th>24881</th>\n",
              "      <td>2022-03-14</td>\n",
              "      <td>USA</td>\n",
              "      <td>81252454.0</td>\n",
              "      <td>20610.0</td>\n",
              "      <td>2022-03</td>\n",
              "    </tr>\n",
              "    <tr>\n",
              "      <th>24882</th>\n",
              "      <td>2022-03-15</td>\n",
              "      <td>USA</td>\n",
              "      <td>81282835.0</td>\n",
              "      <td>30381.0</td>\n",
              "      <td>2022-03</td>\n",
              "    </tr>\n",
              "    <tr>\n",
              "      <th>24883</th>\n",
              "      <td>2022-03-16</td>\n",
              "      <td>USA</td>\n",
              "      <td>81315409.0</td>\n",
              "      <td>32574.0</td>\n",
              "      <td>2022-03</td>\n",
              "    </tr>\n",
              "    <tr>\n",
              "      <th>24884</th>\n",
              "      <td>2022-03-17</td>\n",
              "      <td>USA</td>\n",
              "      <td>81350883.0</td>\n",
              "      <td>35474.0</td>\n",
              "      <td>2022-03</td>\n",
              "    </tr>\n",
              "  </tbody>\n",
              "</table>\n",
              "<p>24885 rows × 5 columns</p>\n",
              "</div>"
            ],
            "text/plain": [
              "             date  country  cumulative_total_cases  daily_new_cases Year-Month\n",
              "0      2020-03-03  Andorra                     1.0              0.0    2020-03\n",
              "1      2020-03-04  Andorra                     1.0              0.0    2020-03\n",
              "2      2020-03-05  Andorra                     1.0              0.0    2020-03\n",
              "3      2020-03-06  Andorra                     1.0              0.0    2020-03\n",
              "4      2020-03-07  Andorra                     1.0              0.0    2020-03\n",
              "...           ...      ...                     ...              ...        ...\n",
              "24880  2022-03-13      USA              81231844.0          18205.0    2022-03\n",
              "24881  2022-03-14      USA              81252454.0          20610.0    2022-03\n",
              "24882  2022-03-15      USA              81282835.0          30381.0    2022-03\n",
              "24883  2022-03-16      USA              81315409.0          32574.0    2022-03\n",
              "24884  2022-03-17      USA              81350883.0          35474.0    2022-03\n",
              "\n",
              "[24885 rows x 5 columns]"
            ]
          },
          "execution_count": 31,
          "metadata": {},
          "output_type": "execute_result"
        }
      ],
      "source": [
        "michelinCountry = ['Germany', 'United Kingdom', 'Austria', 'China', 'Macao',\n",
        "       'Hong Kong', 'Spain', 'Japan', 'South Korea', 'Italy',\n",
        "       'USA', 'Sweden', 'Norway', 'Denmark', 'Singapore',\n",
        "       'Taiwan', 'Netherlands', 'Switzerland', 'France', 'Belgium',\n",
        "       'Ireland', 'Thailand', 'Portugal', 'Greece', 'Slovenia',\n",
        "       'Luxembourg', 'Brazil', 'Malta', 'Andorra', 'San Marino',\n",
        "       'Czechia', 'Iceland', 'Finland', 'Croatia', 'Hungary', 'Poland',\n",
        "       'Serbia']\n",
        "\n",
        "# 미슐랭에 속한 국가들 조사\n",
        "michelinCovid = covid[covid['country'].isin(michelinCountry)].reset_index(drop=True)\n",
        "michelinCovid"
      ]
    },
    {
      "cell_type": "code",
      "execution_count": 32,
      "metadata": {},
      "outputs": [],
      "source": [
        "covid_2022 = michelinCovid[michelinCovid.apply(lambda x: x['Year-Month'].startswith('2022'), axis=1)]"
      ]
    },
    {
      "cell_type": "code",
      "execution_count": 33,
      "metadata": {},
      "outputs": [
        {
          "data": {
            "image/png": "[encoded data removed]",
            "text/plain": [
              "<Figure size 576x576 with 1 Axes>"
            ]
          },
          "metadata": {
            "needs_background": "light"
          },
          "output_type": "display_data"
        }
      ],
      "source": [
        "plt.figure(figsize=(8,8))\n",
        "x = covid_2022['Year-Month'].unique()\n",
        "y = covid_2022.groupby('Year-Month')['daily_new_cases'].mean()\n",
        "# plt.xlabel('Year', size = 13)\n",
        "# plt.ylabel('Number of Trips', size = 13)\n",
        "# plt.xticks(rotation=45)\n",
        "plt.plot(x, y)\n",
        "plt.show()"
      ]
    }
  ],
  "metadata": {
    "colab": {
      "collapsed_sections": [],
      "name": "covidAnalysis.ipynb",
      "provenance": [],
      "toc_visible": true
    },
    "kernelspec": {
      "display_name": "Python 3.10.2 64-bit",
      "language": "python",
      "name": "python3"
    },
    "language_info": {
      "codemirror_mode": {
        "name": "ipython",
        "version": 3
      },
      "file_extension": ".py",
      "mimetype": "text/x-python",
      "name": "python",
      "nbconvert_exporter": "python",
      "pygments_lexer": "ipython3",
      "version": "3.10.2"
    },
    "vscode": {
      "interpreter": {
        "hash": "369f2c481f4da34e4445cda3fffd2e751bd1c4d706f27375911949ba6bb62e1c"
      }
    }
  },
  "nbformat": 4,
  "nbformat_minor": 0
}
